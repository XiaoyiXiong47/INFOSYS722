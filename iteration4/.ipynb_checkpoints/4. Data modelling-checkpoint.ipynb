{
 "cells": [
  {
   "cell_type": "code",
   "execution_count": 1,
   "id": "d22615bf",
   "metadata": {},
   "outputs": [
    {
     "name": "stderr",
     "output_type": "stream",
     "text": [
      "WARNING: An illegal reflective access operation has occurred\n",
      "WARNING: Illegal reflective access by org.apache.spark.unsafe.Platform (file:/home/ubuntu/INFOSYS722/spark-3.2.1-bin-hadoop2.7/jars/spark-unsafe_2.12-3.2.1.jar) to constructor java.nio.DirectByteBuffer(long,int)\n",
      "WARNING: Please consider reporting this to the maintainers of org.apache.spark.unsafe.Platform\n",
      "WARNING: Use --illegal-access=warn to enable warnings of further illegal reflective access operations\n",
      "WARNING: All illegal access operations will be denied in a future release\n",
      "Using Spark's default log4j profile: org/apache/spark/log4j-defaults.properties\n",
      "Setting default log level to \"WARN\".\n",
      "To adjust logging level use sc.setLogLevel(newLevel). For SparkR, use setLogLevel(newLevel).\n",
      "24/05/23 13:44:30 WARN NativeCodeLoader: Unable to load native-hadoop library for your platform... using builtin-java classes where applicable\n"
     ]
    }
   ],
   "source": [
    "import findspark\n",
    "# findspark.init('/home/ubuntu/spark-3.2.1-bin-hadoop2.7')\n",
    "findspark.init('../spark-3.2.1-bin-hadoop2.7')\n",
    "import pyspark\n",
    "from pyspark.sql import SparkSession\n",
    "spark = SparkSession.builder.appName('modelling').getOrCreate()\n",
    "\n",
    "from pyspark.ml import Pipeline\n",
    "from pyspark.ml.classification import (RandomForestClassifier, GBTClassifier, DecisionTreeClassifier,\\\n",
    "                                       LogisticRegression, MultilayerPerceptronClassifier)\n",
    "from pyspark.ml.evaluation import MulticlassClassificationEvaluator\n",
    "\n",
    "\n",
    "from pyspark.sql.functions import col, when\n",
    "from pyspark.ml.feature import VectorAssembler"
   ]
  },
  {
   "cell_type": "code",
   "execution_count": 2,
   "id": "e708762f",
   "metadata": {},
   "outputs": [
    {
     "name": "stdout",
     "output_type": "stream",
     "text": [
      "root\n",
      " |-- Diabetes: double (nullable = true)\n",
      " |-- HighBP: double (nullable = true)\n",
      " |-- HighChol: double (nullable = true)\n",
      " |-- CholCheck: double (nullable = true)\n",
      " |-- Smoker: double (nullable = true)\n",
      " |-- Stroke: double (nullable = true)\n",
      " |-- HeartDiseaseorAttack: double (nullable = true)\n",
      " |-- PhysActivity: double (nullable = true)\n",
      " |-- Fruits: double (nullable = true)\n",
      " |-- Veggies: double (nullable = true)\n",
      " |-- AnyHealthcare: double (nullable = true)\n",
      " |-- NoDocbcCost: double (nullable = true)\n",
      " |-- DiffWalk: double (nullable = true)\n",
      " |-- Sex: double (nullable = true)\n",
      " |-- BMI: double (nullable = true)\n",
      "\n"
     ]
    }
   ],
   "source": [
    "df = spark.read.csv(\"data.csv\", header=True)\n",
    "for c in df.columns:\n",
    "    df = df.withColumn(c,col(c).cast('double'))\n",
    "df.printSchema()"
   ]
  },
  {
   "cell_type": "code",
   "execution_count": 3,
   "id": "b9b8ba07",
   "metadata": {},
   "outputs": [],
   "source": [
    "from pyspark.ml.feature import VectorAssembler\n",
    "features_names = ['HighBP', 'HighChol', 'CholCheck', 'Smoker','Stroke', 'HeartDiseaseorAttack', \\\n",
    "                  'PhysActivity', 'Fruits','Veggies', 'AnyHealthcare', 'NoDocbcCost', 'DiffWalk', \\\n",
    "                 'Sex', 'BMI']\n",
    "assembler = VectorAssembler(inputCols=features_names, outputCol=\"features\")\n",
    "\n",
    "# assembler = VectorAssembler(inputCols=df.columns, outputCol=\"features\")\n",
    "df = assembler.transform(df)"
   ]
  },
  {
   "cell_type": "code",
   "execution_count": 4,
   "id": "936e75d6",
   "metadata": {},
   "outputs": [
    {
     "name": "stdout",
     "output_type": "stream",
     "text": [
      "root\n",
      " |-- Diabetes: double (nullable = true)\n",
      " |-- HighBP: double (nullable = true)\n",
      " |-- HighChol: double (nullable = true)\n",
      " |-- CholCheck: double (nullable = true)\n",
      " |-- Smoker: double (nullable = true)\n",
      " |-- Stroke: double (nullable = true)\n",
      " |-- HeartDiseaseorAttack: double (nullable = true)\n",
      " |-- PhysActivity: double (nullable = true)\n",
      " |-- Fruits: double (nullable = true)\n",
      " |-- Veggies: double (nullable = true)\n",
      " |-- AnyHealthcare: double (nullable = true)\n",
      " |-- NoDocbcCost: double (nullable = true)\n",
      " |-- DiffWalk: double (nullable = true)\n",
      " |-- Sex: double (nullable = true)\n",
      " |-- BMI: double (nullable = true)\n",
      " |-- features: vector (nullable = true)\n",
      "\n"
     ]
    }
   ],
   "source": [
    "df.printSchema()"
   ]
  },
  {
   "cell_type": "markdown",
   "id": "e7d714cd",
   "metadata": {},
   "source": [
    "# Train Test split"
   ]
  },
  {
   "cell_type": "code",
   "execution_count": 5,
   "id": "07b2e2b2",
   "metadata": {},
   "outputs": [],
   "source": [
    "train_data,test_data = df.select(['Diabetes', 'features']).randomSplit([0.7,0.3])"
   ]
  },
  {
   "cell_type": "code",
   "execution_count": 6,
   "id": "6a7e14af",
   "metadata": {},
   "outputs": [
    {
     "name": "stderr",
     "output_type": "stream",
     "text": [
      "24/05/23 13:44:39 WARN package: Truncated the string representation of a plan since it was too large. This behavior can be adjusted by setting 'spark.sql.debug.maxToStringFields'.\n",
      "                                                                                \r"
     ]
    },
    {
     "name": "stdout",
     "output_type": "stream",
     "text": [
      "train data set length: 48965\n"
     ]
    },
    {
     "name": "stderr",
     "output_type": "stream",
     "text": [
      "\r",
      "[Stage 4:>                                                          (0 + 2) / 2]\r"
     ]
    },
    {
     "name": "stdout",
     "output_type": "stream",
     "text": [
      "test data set length: 21317\n"
     ]
    },
    {
     "name": "stderr",
     "output_type": "stream",
     "text": [
      "\r",
      "[Stage 4:=============================>                             (1 + 1) / 2]\r",
      "\r",
      "                                                                                \r"
     ]
    }
   ],
   "source": [
    "print(\"train data set length:\", train_data.count())\n",
    "print(\"test data set length:\", test_data.count())"
   ]
  },
  {
   "cell_type": "code",
   "execution_count": 7,
   "id": "0a37d25d",
   "metadata": {},
   "outputs": [
    {
     "name": "stdout",
     "output_type": "stream",
     "text": [
      "+--------+--------------------+\n",
      "|Diabetes|            features|\n",
      "+--------+--------------------+\n",
      "|     0.0|(14,[0,1,2,3,4,5,...|\n",
      "|     0.0|(14,[0,1,2,3,4,6,...|\n",
      "|     0.0|(14,[0,1,2,3,4,6,...|\n",
      "|     0.0|(14,[0,1,2,3,4,7,...|\n",
      "|     0.0|(14,[0,1,2,3,4,8,...|\n",
      "|     0.0|(14,[0,1,2,3,4,8,...|\n",
      "|     0.0|(14,[0,1,2,3,4,8,...|\n",
      "|     0.0|(14,[0,1,2,3,4,9,...|\n",
      "|     0.0|(14,[0,1,2,3,4,10...|\n",
      "|     0.0|(14,[0,1,2,3,5,6,...|\n",
      "|     0.0|(14,[0,1,2,3,5,6,...|\n",
      "|     0.0|(14,[0,1,2,3,5,6,...|\n",
      "|     0.0|(14,[0,1,2,3,5,6,...|\n",
      "|     0.0|(14,[0,1,2,3,5,6,...|\n",
      "|     0.0|(14,[0,1,2,3,5,6,...|\n",
      "|     0.0|(14,[0,1,2,3,5,8,...|\n",
      "|     0.0|(14,[0,1,2,3,5,8,...|\n",
      "|     0.0|(14,[0,1,2,3,5,8,...|\n",
      "|     0.0|(14,[0,1,2,3,5,8,...|\n",
      "|     0.0|(14,[0,1,2,3,5,9,...|\n",
      "+--------+--------------------+\n",
      "only showing top 20 rows\n",
      "\n"
     ]
    },
    {
     "name": "stderr",
     "output_type": "stream",
     "text": [
      "\r",
      "[Stage 7:>                                                          (0 + 1) / 1]\r",
      "\r",
      "                                                                                \r"
     ]
    }
   ],
   "source": [
    "train_data.show()"
   ]
  },
  {
   "cell_type": "code",
   "execution_count": 8,
   "id": "53c871fd",
   "metadata": {},
   "outputs": [
    {
     "name": "stdout",
     "output_type": "stream",
     "text": [
      "ratio: 1.03344617076064\n"
     ]
    }
   ],
   "source": [
    "from pyspark.sql.functions import col, explode, array, lit\n",
    "major_df = df.filter(col(\"Diabetes\") == 0)\n",
    "minor_df = df.filter(col(\"Diabetes\") == 1)\n",
    "ratio = major_df.count()/minor_df.count()\n",
    "print(\"ratio: {}\".format(ratio))"
   ]
  },
  {
   "cell_type": "code",
   "execution_count": 9,
   "id": "ff6f7d46",
   "metadata": {},
   "outputs": [
    {
     "name": "stdout",
     "output_type": "stream",
     "text": [
      "root\n",
      " |-- Diabetes: double (nullable = true)\n",
      " |-- features: vector (nullable = true)\n",
      "\n"
     ]
    }
   ],
   "source": [
    "train_data.printSchema()"
   ]
  },
  {
   "cell_type": "markdown",
   "id": "f07c1a41",
   "metadata": {},
   "source": [
    "# Machine learning model selection"
   ]
  },
  {
   "cell_type": "code",
   "execution_count": 10,
   "id": "38da2551",
   "metadata": {},
   "outputs": [],
   "source": [
    "from pyspark.mllib.classification import SVMWithSGD, SVMModel\n",
    "from pyspark.ml.classification import LogisticRegression"
   ]
  },
  {
   "cell_type": "code",
   "execution_count": 11,
   "id": "94de2825",
   "metadata": {},
   "outputs": [],
   "source": [
    "dtc = DecisionTreeClassifier(labelCol='Diabetes',featuresCol='features')\n",
    "rfc = RandomForestClassifier(labelCol='Diabetes',featuresCol='features',numTrees=5)\n",
    "lr = LogisticRegression(labelCol='Diabetes',featuresCol='features')"
   ]
  },
  {
   "cell_type": "code",
   "execution_count": 12,
   "id": "01bca45f",
   "metadata": {},
   "outputs": [
    {
     "name": "stderr",
     "output_type": "stream",
     "text": [
      "24/05/23 13:45:00 WARN InstanceBuilder$NativeBLAS: Failed to load implementation from:dev.ludovic.netlib.blas.JNIBLAS\n",
      "24/05/23 13:45:00 WARN InstanceBuilder$NativeBLAS: Failed to load implementation from:dev.ludovic.netlib.blas.ForeignLinkerBLAS\n",
      "                                                                                \r"
     ]
    }
   ],
   "source": [
    "dtc_model = dtc.fit(train_data)\n",
    "rfc_model = rfc.fit(train_data)\n",
    "lr_model = lr.fit(train_data)"
   ]
  },
  {
   "cell_type": "code",
   "execution_count": 13,
   "id": "cf946a50",
   "metadata": {},
   "outputs": [],
   "source": [
    "dtc_predictions = dtc_model.transform(test_data)\n",
    "rfc_predictions = rfc_model.transform(test_data)\n",
    "lr_predictions = lr_model.transform(test_data)"
   ]
  },
  {
   "cell_type": "code",
   "execution_count": 14,
   "id": "78a47f07",
   "metadata": {},
   "outputs": [
    {
     "name": "stdout",
     "output_type": "stream",
     "text": [
      "Random Forest Feature Importances:\n",
      "HighBP: 0.5699264320714743\n",
      "HighChol: 0.05921483368082908\n",
      "CholCheck: 0.004804106880170869\n",
      "Smoker: 0.0019883510493771237\n",
      "Stroke: 0.0036444917772804745\n",
      "HeartDiseaseorAttack: 0.04192637058945018\n",
      "PhysActivity: 0.0021266537961235066\n",
      "Fruits: 0.0\n",
      "Veggies: 0.0018252073102945612\n",
      "AnyHealthcare: 5.383539426653853e-06\n",
      "NoDocbcCost: 0.00046673900488118457\n",
      "DiffWalk: 0.15988377871308065\n",
      "Sex: 0.0004127817329935296\n",
      "BMI: 0.1537748698546175\n"
     ]
    }
   ],
   "source": [
    "# Random Forest Feature Importances\n",
    "rfc_importances = rfc_model.featureImportances\n",
    "print(\"Random Forest Feature Importances:\")\n",
    "for i, (col, importance) in enumerate(zip(features_names, rfc_importances)):\n",
    "    print(f\"{col}: {importance}\")"
   ]
  },
  {
   "cell_type": "code",
   "execution_count": 15,
   "id": "65687d29",
   "metadata": {},
   "outputs": [
    {
     "name": "stdout",
     "output_type": "stream",
     "text": [
      "Decision Tree Classification Feature Importances:\n",
      "HighBP: 0.630017154083544\n",
      "HighChol: 0.08199306257205084\n",
      "CholCheck: 0.0\n",
      "Smoker: 0.0\n",
      "Stroke: 0.0\n",
      "HeartDiseaseorAttack: 0.02675836300378576\n",
      "PhysActivity: 0.0\n",
      "Fruits: 0.0\n",
      "Veggies: 0.0\n",
      "AnyHealthcare: 0.0\n",
      "NoDocbcCost: 0.0\n",
      "DiffWalk: 0.11523344386707253\n",
      "Sex: 0.0\n",
      "BMI: 0.14599797647354687\n"
     ]
    }
   ],
   "source": [
    "# Decision Tree Classification Feature Importances\n",
    "dtc_importances = dtc_model.featureImportances\n",
    "print(\"Decision Tree Classification Feature Importances:\")\n",
    "for i, (col, importance) in enumerate(zip(features_names, dtc_importances)):\n",
    "    print(f\"{col}: {importance}\")"
   ]
  },
  {
   "cell_type": "code",
   "execution_count": 16,
   "id": "e993331c",
   "metadata": {},
   "outputs": [
    {
     "name": "stdout",
     "output_type": "stream",
     "text": [
      "+--------+--------------------+--------------------+--------------------+----------+\n",
      "|Diabetes|            features|       rawPrediction|         probability|prediction|\n",
      "+--------+--------------------+--------------------+--------------------+----------+\n",
      "|     0.0|(14,[0,1,2,3,4,6,...|[-1.0657252356453...|[0.25621687580682...|       1.0|\n",
      "|     0.0|(14,[0,1,2,3,4,8,...|[-0.6530588202213...|[0.34230057060523...|       1.0|\n",
      "|     0.0|(14,[0,1,2,3,4,8,...|[-0.7907574378218...|[0.31200605597201...|       1.0|\n",
      "|     0.0|(14,[0,1,2,3,4,9,...|[-1.4005867824927...|[0.19772301443198...|       1.0|\n",
      "|     0.0|(14,[0,1,2,3,4,9,...|[-1.6759840176938...|[0.15762798374611...|       1.0|\n",
      "|     0.0|(14,[0,1,2,3,4,9,...|[-1.8825319440946...|[0.13209831982244...|       1.0|\n",
      "|     0.0|(14,[0,1,2,3,5,6,...|[-1.0228322061369...|[0.26447608837314...|       1.0|\n",
      "|     0.0|(14,[0,1,2,3,5,8,...|[-0.7351654500178...|[0.32406223007091...|       1.0|\n",
      "|     0.0|(14,[0,1,2,3,5,8,...|[-0.9417133764186...|[0.28055437849078...|       1.0|\n",
      "|     0.0|(14,[0,1,2,3,5,8,...|[-1.3548092292202...|[0.20508523379953...|       1.0|\n",
      "|     0.0|(14,[0,1,2,3,5,8,...|[-1.7679050820218...|[0.14580304593533...|       1.0|\n",
      "|     0.0|(14,[0,1,2,3,5,9,...|[-1.1772666951971...|[0.23554400756915...|       1.0|\n",
      "|     0.0|(14,[0,1,2,3,5,9,...|[-1.9646385738911...|[0.12296592363064...|       1.0|\n",
      "|     0.0|(14,[0,1,2,3,5,9,...|[-2.1711865002919...|[0.10236795595750...|       1.0|\n",
      "|     0.0|(14,[0,1,2,3,5,9,...|[-2.6531316618938...|[0.06579625334811...|       1.0|\n",
      "|     0.0|(14,[0,1,2,3,5,9,...|[-1.1427253236550...|[0.24182033974752...|       1.0|\n",
      "|     0.0|(14,[0,1,2,3,5,9,...|[-1.2115746324553...|[0.22942255647389...|       1.0|\n",
      "|     0.0|(14,[0,1,2,3,5,9,...|[-1.3492732500558...|[0.20598921192059...|       1.0|\n",
      "|     0.0|(14,[0,1,2,3,5,9,...|[-1.6246704852568...|[0.16456175996744...|       1.0|\n",
      "|     0.0|(14,[0,1,2,3,5,9,...|[-0.7717256538228...|[0.31610593096278...|       1.0|\n",
      "+--------+--------------------+--------------------+--------------------+----------+\n",
      "only showing top 20 rows\n",
      "\n"
     ]
    },
    {
     "name": "stderr",
     "output_type": "stream",
     "text": [
      "\r",
      "[Stage 60:>                                                         (0 + 1) / 1]\r",
      "\r",
      "                                                                                \r"
     ]
    }
   ],
   "source": [
    "lr_predictions.show()"
   ]
  },
  {
   "cell_type": "code",
   "execution_count": 17,
   "id": "b803058f",
   "metadata": {},
   "outputs": [],
   "source": [
    "from pyspark.ml.evaluation import BinaryClassificationEvaluator"
   ]
  },
  {
   "cell_type": "code",
   "execution_count": 18,
   "id": "65ec138f",
   "metadata": {},
   "outputs": [],
   "source": [
    "result_eval = BinaryClassificationEvaluator(labelCol = 'Diabetes')"
   ]
  },
  {
   "cell_type": "code",
   "execution_count": 19,
   "id": "9b2ebf99",
   "metadata": {},
   "outputs": [
    {
     "name": "stderr",
     "output_type": "stream",
     "text": [
      "                                                                                \r"
     ]
    }
   ],
   "source": [
    "dtc_acc = result_eval.evaluate(dtc_predictions)\n",
    "rfc_acc = result_eval.evaluate(rfc_predictions)\n",
    "lr_acc = result_eval.evaluate(lr_predictions)"
   ]
  },
  {
   "cell_type": "code",
   "execution_count": 20,
   "id": "698282ef",
   "metadata": {},
   "outputs": [
    {
     "name": "stdout",
     "output_type": "stream",
     "text": [
      "Decision Tree Classifier: 0.6887057274533843\n",
      "Random Forecast Classifier: 0.7843262268413596\n",
      "Logistic Regression Classifier: 0.7913172293243625\n"
     ]
    }
   ],
   "source": [
    "print(\"Decision Tree Classifier:\", dtc_acc)\n",
    "print(\"Random Forecast Classifier:\",rfc_acc)\n",
    "print(\"Logistic Regression Classifier:\",lr_acc)"
   ]
  },
  {
   "cell_type": "code",
   "execution_count": 21,
   "id": "e6334aaf",
   "metadata": {},
   "outputs": [],
   "source": [
    "# lr_summay = lr_model.summary\n",
    "# lr_summay.predictions.printSchema()\n",
    "# lr_summay.predictions.show()"
   ]
  },
  {
   "cell_type": "code",
   "execution_count": 22,
   "id": "3cdf1cd5",
   "metadata": {},
   "outputs": [],
   "source": [
    "from pyspark.ml.evaluation import MulticlassClassificationEvaluator\n",
    "acc_evaluator = MulticlassClassificationEvaluator(labelCol=\"Diabetes\", predictionCol=\"prediction\", metricName=\"accuracy\")"
   ]
  },
  {
   "cell_type": "code",
   "execution_count": 23,
   "id": "75cdc5aa",
   "metadata": {},
   "outputs": [
    {
     "name": "stderr",
     "output_type": "stream",
     "text": [
      "                                                                                \r"
     ]
    }
   ],
   "source": [
    "dtc_acc = acc_evaluator.evaluate(dtc_predictions)\n",
    "rfc_acc = acc_evaluator.evaluate(rfc_predictions)\n",
    "lr_acc = acc_evaluator.evaluate(lr_predictions)"
   ]
  },
  {
   "cell_type": "code",
   "execution_count": 24,
   "id": "0dbdb0f7",
   "metadata": {},
   "outputs": [
    {
     "name": "stdout",
     "output_type": "stream",
     "text": [
      "----------------------------------------\n",
      "A single decision tree has an accuracy of: 71.30%\n",
      "----------------------------------------\n",
      "A random forest ensemble has an accuracy of: 71.15%\n",
      "----------------------------------------\n",
      "A logistic regression model has an accuracy of: 71.80%\n",
      "----------------------------------------\n"
     ]
    }
   ],
   "source": [
    "print('-'*40)\n",
    "print('A single decision tree has an accuracy of: {0:2.2f}%'.format(dtc_acc*100))\n",
    "print('-'*40)\n",
    "print('A random forest ensemble has an accuracy of: {0:2.2f}%'.format(rfc_acc*100))\n",
    "print('-'*40)\n",
    "print('A logistic regression model has an accuracy of: {0:2.2f}%'.format(lr_acc*100))\n",
    "print('-'*40)"
   ]
  },
  {
   "cell_type": "markdown",
   "id": "ab31aa54",
   "metadata": {},
   "source": [
    "# Modelling"
   ]
  },
  {
   "cell_type": "code",
   "execution_count": 25,
   "id": "359782a6",
   "metadata": {},
   "outputs": [],
   "source": [
    "# 80-20 train-test split\n",
    "train_data,test_data = df.select(['Diabetes', 'features']).randomSplit([0.8,0.2])"
   ]
  },
  {
   "cell_type": "code",
   "execution_count": 26,
   "id": "c0635e15",
   "metadata": {},
   "outputs": [
    {
     "name": "stderr",
     "output_type": "stream",
     "text": [
      "                                                                                \r"
     ]
    }
   ],
   "source": [
    "# Fit random forest model\n",
    "rfc = RandomForestClassifier(labelCol='Diabetes',featuresCol='features',numTrees=5)\n",
    "rfc_model = rfc.fit(train_data)\n",
    "rfc_predictions = rfc_model.transform(test_data)"
   ]
  },
  {
   "cell_type": "code",
   "execution_count": 27,
   "id": "f92e660d",
   "metadata": {},
   "outputs": [],
   "source": [
    "# initialize evaluator\n",
    "result_eval = BinaryClassificationEvaluator(labelCol = 'Diabetes')"
   ]
  },
  {
   "cell_type": "code",
   "execution_count": 28,
   "id": "4fd3ebb8",
   "metadata": {},
   "outputs": [
    {
     "name": "stderr",
     "output_type": "stream",
     "text": [
      "\r",
      "[Stage 117:>                                                        (0 + 2) / 2]\r",
      "\r",
      "[Stage 117:============================>                            (1 + 1) / 2]\r"
     ]
    },
    {
     "name": "stdout",
     "output_type": "stream",
     "text": [
      "Random Forecast Classifier: 0.7894355763244622\n"
     ]
    },
    {
     "name": "stderr",
     "output_type": "stream",
     "text": [
      "\r",
      "                                                                                \r"
     ]
    }
   ],
   "source": [
    "# Evaluate accuracy\n",
    "rfc_acc = result_eval.evaluate(rfc_predictions)\n",
    "print(\"Random Forecast Classifier:\",rfc_acc)"
   ]
  },
  {
   "cell_type": "code",
   "execution_count": 29,
   "id": "bb2c758c",
   "metadata": {},
   "outputs": [
    {
     "name": "stdout",
     "output_type": "stream",
     "text": [
      "Random Forest Feature Importances:\n",
      "HighBP: 0.5609041785173468\n",
      "HighChol: 0.05004734011918041\n",
      "CholCheck: 0.007217472578232265\n",
      "Smoker: 0.000992455904558927\n",
      "Stroke: 0.0014744096278643491\n",
      "HeartDiseaseorAttack: 0.04035165771955702\n",
      "PhysActivity: 0.0007347152755142647\n",
      "Fruits: 0.00023344846097538154\n",
      "Veggies: 0.002000461235585515\n",
      "AnyHealthcare: 3.307130110840067e-05\n",
      "NoDocbcCost: 0.0\n",
      "DiffWalk: 0.1699735772821825\n",
      "Sex: 0.002246188098295104\n",
      "BMI: 0.16379102387959896\n"
     ]
    }
   ],
   "source": [
    "# Random Forest Feature Importances\n",
    "rfc_importances = rfc_model.featureImportances\n",
    "print(\"Random Forest Feature Importances:\")\n",
    "for i, (col, importance) in enumerate(zip(features_names, rfc_importances)):\n",
    "    print(f\"{col}: {importance}\")"
   ]
  },
  {
   "cell_type": "markdown",
   "id": "eb81093c",
   "metadata": {},
   "source": [
    "# Visualization "
   ]
  },
  {
   "cell_type": "code",
   "execution_count": 36,
   "id": "1c75e571",
   "metadata": {},
   "outputs": [
    {
     "name": "stderr",
     "output_type": "stream",
     "text": [
      "\r",
      "[Stage 133:============================>                            (1 + 1) / 2]\r",
      "\r",
      "                                                                                \r"
     ]
    }
   ],
   "source": [
    "# load packages\n",
    "import pandas as pd\n",
    "import matplotlib.pyplot as plt\n",
    "import seaborn as sns\n",
    "from pyspark.sql.functions import col\n",
    "\n",
    "# read data as pandas dataset for visualization purpose only\n",
    "df_v = spark.read.csv(\"data.csv\", header=True)\n",
    "for c in df_v.columns:\n",
    "    df_v = df_v.withColumn(c,col(c).cast('double'))\n",
    "df_v = df_v.toPandas()\n"
   ]
  },
  {
   "cell_type": "code",
   "execution_count": 38,
   "id": "e55fe506",
   "metadata": {},
   "outputs": [
    {
     "data": {
      "image/png": "[encoded data removed]",
      "text/plain": [
       "<Figure size 720x432 with 1 Axes>"
      ]
     },
     "metadata": {
      "needs_background": "light"
     },
     "output_type": "display_data"
    }
   ],
   "source": [
    "# plot most importance feature and target\n",
    "plt.figure(figsize=(10, 6))\n",
    "sns.violinplot(x='Diabetes', y='HighBP', data=df_v)\n",
    "plt.title('HighBP Distribution by Diabetes Status')\n",
    "plt.xlabel('Diabetes Status')\n",
    "plt.ylabel('HighBP')\n",
    "plt.show()"
   ]
  },
  {
   "cell_type": "code",
   "execution_count": 40,
   "id": "b2e2d10d",
   "metadata": {},
   "outputs": [
    {
     "data": {
      "image/png": "[encoded data removed]",
      "text/plain": [
       "<Figure size 720x432 with 1 Axes>"
      ]
     },
     "metadata": {
      "needs_background": "light"
     },
     "output_type": "display_data"
    }
   ],
   "source": [
    "# violin plot for diabetes and bmi\n",
    "plt.figure(figsize=(10, 6))\n",
    "sns.violinplot(x='Diabetes', y='BMI', data=df_v)\n",
    "plt.title('BMI Distribution by iabetes Status')\n",
    "plt.xlabel('Diabetes Status')\n",
    "plt.ylabel('BMI')\n",
    "plt.show()"
   ]
  },
  {
   "cell_type": "code",
   "execution_count": 42,
   "id": "8f9f6abf",
   "metadata": {},
   "outputs": [
    {
     "data": {
      "image/png": "[encoded data removed]",
      "text/plain": [
       "<Figure size 720x432 with 1 Axes>"
      ]
     },
     "metadata": {
      "needs_background": "light"
     },
     "output_type": "display_data"
    }
   ],
   "source": [
    "# violin plot for diabetes and GenHlth\n",
    "plt.figure(figsize=(10, 6))\n",
    "sns.violinplot(x='Diabetes', y='DiffWalk', data=df_v)\n",
    "plt.title('DiffWalk Distribution by Diabetes Status')\n",
    "plt.xlabel('Diabetes Status')\n",
    "plt.ylabel('GenHlth')\n",
    "plt.show()"
   ]
  },
  {
   "cell_type": "code",
   "execution_count": null,
   "id": "987bce95",
   "metadata": {},
   "outputs": [],
   "source": []
  },
  {
   "cell_type": "code",
   "execution_count": null,
   "id": "39dc65a8",
   "metadata": {},
   "outputs": [],
   "source": []
  }
 ],
 "metadata": {
  "kernelspec": {
   "display_name": "Python 3 (ipykernel)",
   "language": "python",
   "name": "python3"
  },
  "language_info": {
   "codemirror_mode": {
    "name": "ipython",
    "version": 3
   },
   "file_extension": ".py",
   "mimetype": "text/x-python",
   "name": "python",
   "nbconvert_exporter": "python",
   "pygments_lexer": "ipython3",
   "version": "3.10.12"
  }
 },
 "nbformat": 4,
 "nbformat_minor": 5
}
