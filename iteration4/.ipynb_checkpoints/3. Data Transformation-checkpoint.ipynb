{
 "cells": [
  {
   "cell_type": "code",
   "execution_count": 1,
   "id": "cd433c4e",
   "metadata": {},
   "outputs": [
    {
     "name": "stderr",
     "output_type": "stream",
     "text": [
      "WARNING: An illegal reflective access operation has occurred\n",
      "WARNING: Illegal reflective access by org.apache.spark.unsafe.Platform (file:/home/ubuntu/INFOSYS722/spark-3.2.1-bin-hadoop2.7/jars/spark-unsafe_2.12-3.2.1.jar) to constructor java.nio.DirectByteBuffer(long,int)\n",
      "WARNING: Please consider reporting this to the maintainers of org.apache.spark.unsafe.Platform\n",
      "WARNING: Use --illegal-access=warn to enable warnings of further illegal reflective access operations\n",
      "WARNING: All illegal access operations will be denied in a future release\n",
      "Using Spark's default log4j profile: org/apache/spark/log4j-defaults.properties\n",
      "Setting default log level to \"WARN\".\n",
      "To adjust logging level use sc.setLogLevel(newLevel). For SparkR, use setLogLevel(newLevel).\n",
      "24/05/22 00:29:07 WARN NativeCodeLoader: Unable to load native-hadoop library for your platform... using builtin-java classes where applicable\n"
     ]
    }
   ],
   "source": [
    "import findspark\n",
    "# findspark.init('/home/ubuntu/spark-3.2.1-bin-hadoop2.7')\n",
    "findspark.init('../spark-3.2.1-bin-hadoop2.7')\n",
    "import pyspark\n",
    "from pyspark.sql import SparkSession\n",
    "spark = SparkSession.builder.appName('transformation').getOrCreate()"
   ]
  },
  {
   "cell_type": "markdown",
   "id": "58c0bffa",
   "metadata": {},
   "source": [
    "# Data Transformation"
   ]
  },
  {
   "cell_type": "code",
   "execution_count": 2,
   "id": "79646135",
   "metadata": {},
   "outputs": [
    {
     "name": "stdout",
     "output_type": "stream",
     "text": [
      "root\n",
      " |-- Diabetes: string (nullable = true)\n",
      " |-- HighBP: string (nullable = true)\n",
      " |-- HighChol: string (nullable = true)\n",
      " |-- CholCheck: string (nullable = true)\n",
      " |-- Smoker: string (nullable = true)\n",
      " |-- Stroke: string (nullable = true)\n",
      " |-- HeartDiseaseorAttack: string (nullable = true)\n",
      " |-- PhysActivity: string (nullable = true)\n",
      " |-- Fruits: string (nullable = true)\n",
      " |-- Veggies: string (nullable = true)\n",
      " |-- HvyAlcoholConsump: string (nullable = true)\n",
      " |-- AnyHealthcare: string (nullable = true)\n",
      " |-- NoDocbcCost: string (nullable = true)\n",
      " |-- DiffWalk: string (nullable = true)\n",
      " |-- Sex: string (nullable = true)\n",
      " |-- BMI: string (nullable = true)\n",
      " |-- GenHlth: string (nullable = true)\n",
      " |-- MentHlth: string (nullable = true)\n",
      " |-- PhysHlth: string (nullable = true)\n",
      " |-- Age: string (nullable = true)\n",
      " |-- Education: string (nullable = true)\n",
      " |-- Income: string (nullable = true)\n",
      "\n"
     ]
    }
   ],
   "source": [
    "from pyspark.ml.feature import VectorAssembler\n",
    "from pyspark.ml.feature import ChiSqSelector\n",
    "from pyspark.sql.functions import col, when\n",
    "df = spark.read.csv('cleaned.csv', header=True)\n",
    "df.printSchema()"
   ]
  },
  {
   "cell_type": "markdown",
   "id": "a741cbf7",
   "metadata": {},
   "source": [
    "### All columns are in type string. Needed to be double"
   ]
  },
  {
   "cell_type": "code",
   "execution_count": 4,
   "id": "e5085fdc",
   "metadata": {},
   "outputs": [
    {
     "name": "stdout",
     "output_type": "stream",
     "text": [
      "root\n",
      " |-- Diabetes: double (nullable = true)\n",
      " |-- HighBP: double (nullable = true)\n",
      " |-- HighChol: double (nullable = true)\n",
      " |-- CholCheck: double (nullable = true)\n",
      " |-- Smoker: double (nullable = true)\n",
      " |-- Stroke: double (nullable = true)\n",
      " |-- HeartDiseaseorAttack: double (nullable = true)\n",
      " |-- PhysActivity: double (nullable = true)\n",
      " |-- Fruits: double (nullable = true)\n",
      " |-- Veggies: double (nullable = true)\n",
      " |-- HvyAlcoholConsump: double (nullable = true)\n",
      " |-- AnyHealthcare: double (nullable = true)\n",
      " |-- NoDocbcCost: double (nullable = true)\n",
      " |-- DiffWalk: double (nullable = true)\n",
      " |-- Sex: double (nullable = true)\n",
      " |-- BMI: double (nullable = true)\n",
      " |-- GenHlth: double (nullable = true)\n",
      " |-- MentHlth: double (nullable = true)\n",
      " |-- PhysHlth: double (nullable = true)\n",
      " |-- Age: double (nullable = true)\n",
      " |-- Education: double (nullable = true)\n",
      " |-- Income: double (nullable = true)\n",
      "\n"
     ]
    }
   ],
   "source": [
    "cols = ['HighBP', 'HighChol', 'CholCheck',\n",
    "       'Smoker', 'Stroke', 'HeartDiseaseorAttack', 'PhysActivity', 'Fruits',\n",
    "       'Veggies', 'HvyAlcoholConsump', 'AnyHealthcare', 'NoDocbcCost',\n",
    "       'DiffWalk', 'Sex', 'BMI', 'GenHlth', 'MentHlth', 'PhysHlth', 'Age',\n",
    "       'Education', 'Income']\n",
    "df = df.withColumn('Diabetes',col('Diabetes').cast('double'))\n",
    "for c in cols:\n",
    "    df = df.withColumn(c,col(c).cast('double'))\n",
    "    \n",
    "df.printSchema()"
   ]
  },
  {
   "cell_type": "markdown",
   "id": "b9733e11",
   "metadata": {},
   "source": [
    "### Feature selection using Chi-square selector"
   ]
  },
  {
   "cell_type": "code",
   "execution_count": 5,
   "id": "1235e0ed",
   "metadata": {},
   "outputs": [
    {
     "name": "stderr",
     "output_type": "stream",
     "text": [
      "                                                                                \r"
     ]
    }
   ],
   "source": [
    "assembler = VectorAssembler(inputCols=cols, outputCol=\"features\")\n",
    "df = assembler.transform(df)\n",
    "\n",
    "selector = ChiSqSelector(featuresCol=\"features\", outputCol=\"selected_features\", \\\n",
    "                         labelCol=\"Diabetes\", numTopFeatures=15)\n",
    "model = selector.fit(df)\n",
    "df = model.transform(df)\n",
    "selected_indices = model.selectedFeatures\n",
    "selected_feature_names = [df.columns[index] for index in selected_indices]"
   ]
  },
  {
   "cell_type": "code",
   "execution_count": 6,
   "id": "db2d7310",
   "metadata": {},
   "outputs": [
    {
     "name": "stdout",
     "output_type": "stream",
     "text": [
      "['Diabetes', 'HighBP', 'HighChol', 'CholCheck', 'Smoker', 'Stroke', 'HeartDiseaseorAttack', 'PhysActivity', 'Fruits', 'Veggies', 'AnyHealthcare', 'NoDocbcCost', 'DiffWalk', 'Sex', 'BMI']\n"
     ]
    }
   ],
   "source": [
    "print(selected_feature_names)"
   ]
  },
  {
   "cell_type": "code",
   "execution_count": 7,
   "id": "ec8666ef",
   "metadata": {},
   "outputs": [],
   "source": [
    "# df.show()"
   ]
  },
  {
   "cell_type": "markdown",
   "id": "8097b562",
   "metadata": {},
   "source": [
    "## Under sampling for imbalanced data"
   ]
  },
  {
   "cell_type": "code",
   "execution_count": 7,
   "id": "9fbd71ba",
   "metadata": {},
   "outputs": [
    {
     "name": "stderr",
     "output_type": "stream",
     "text": [
      "\r",
      "[Stage 4:=============================>                             (1 + 1) / 2]\r",
      "\r",
      "                                                                                \r"
     ]
    },
    {
     "name": "stdout",
     "output_type": "stream",
     "text": [
      "ratio: 6\n"
     ]
    }
   ],
   "source": [
    "from pyspark.sql.functions import col, explode, array, lit\n",
    "major_df = df.filter(col(\"Diabetes\") == 0)\n",
    "minor_df = df.filter(col(\"Diabetes\") == 1)\n",
    "ratio = int(major_df.count()/minor_df.count())\n",
    "print(\"ratio: {}\".format(ratio))"
   ]
  },
  {
   "cell_type": "code",
   "execution_count": 8,
   "id": "8efc1d68",
   "metadata": {},
   "outputs": [
    {
     "name": "stdout",
     "output_type": "stream",
     "text": [
      "1.03344617076064\n"
     ]
    }
   ],
   "source": [
    "sampled_majority_df = major_df.sample(False, 1/ratio)\n",
    "balanced_data = sampled_majority_df.unionAll(minor_df)\n",
    "print(sampled_majority_df.count() / minor_df.count())"
   ]
  },
  {
   "cell_type": "markdown",
   "id": "034088de",
   "metadata": {},
   "source": [
    "## Distribution plots before and after under-sampling"
   ]
  },
  {
   "cell_type": "code",
   "execution_count": 9,
   "id": "cb85c683",
   "metadata": {},
   "outputs": [],
   "source": [
    "import pandas as pd\n",
    "import matplotlib.pyplot as plt\n",
    "import seaborn as sns"
   ]
  },
  {
   "cell_type": "code",
   "execution_count": 10,
   "id": "b8811bc5",
   "metadata": {},
   "outputs": [
    {
     "name": "stderr",
     "output_type": "stream",
     "text": [
      "24/05/22 00:30:33 WARN package: Truncated the string representation of a plan since it was too large. This behavior can be adjusted by setting 'spark.sql.debug.maxToStringFields'.\n",
      "                                                                                \r"
     ]
    },
    {
     "data": {
      "image/png": "[encoded data removed]",
      "text/plain": [
       "<Figure size 720x504 with 1 Axes>"
      ]
     },
     "metadata": {
      "needs_background": "light"
     },
     "output_type": "display_data"
    }
   ],
   "source": [
    "df_imbalanced = df.toPandas()\n",
    "# Distribtuion for target variable Diabetes before balancing data\n",
    "fig, ax1 = plt.subplots(figsize=(10,7))\n",
    "graph = sns.countplot(ax=ax1,x='Diabetes', data=df_imbalanced)\n",
    "graph.set_title(\"Distribtuion for variable Diabetes before balancing data\")\n",
    "graph.set_xticklabels(graph.get_xticklabels())\n",
    "i=0\n",
    "for p in graph.patches:\n",
    "    height = p.get_height()\n",
    "    graph.text(p.get_x()+p.get_width()/2., height + 0.1,\n",
    "    df_imbalanced['Diabetes'].value_counts()[i],ha=\"center\")\n",
    "    i += 1"
   ]
  },
  {
   "cell_type": "code",
   "execution_count": 11,
   "id": "6784778c",
   "metadata": {},
   "outputs": [
    {
     "name": "stderr",
     "output_type": "stream",
     "text": [
      "                                                                                \r"
     ]
    },
    {
     "data": {
      "image/png": "[encoded data removed]",
      "text/plain": [
       "<Figure size 720x504 with 1 Axes>"
      ]
     },
     "metadata": {
      "needs_background": "light"
     },
     "output_type": "display_data"
    }
   ],
   "source": [
    "df_balanced = balanced_data.toPandas()\n",
    "# Distribtuion for target variable Diabetes after balancing data\n",
    "fig, ax1 = plt.subplots(figsize=(10,7))\n",
    "graph = sns.countplot(ax=ax1,x='Diabetes', data=df_balanced)\n",
    "graph.set_title(\"Distribtuion for variable Diabetes after balancing data\")\n",
    "graph.set_xticklabels(graph.get_xticklabels())\n",
    "i=0\n",
    "for p in graph.patches:\n",
    "    height = p.get_height()\n",
    "    graph.text(p.get_x()+p.get_width()/2., height + 0.1,\n",
    "    df_balanced['Diabetes'].value_counts()[i],ha=\"center\")\n",
    "    i += 1"
   ]
  },
  {
   "cell_type": "markdown",
   "id": "f284facb",
   "metadata": {},
   "source": [
    "## Save selected balanced data"
   ]
  },
  {
   "cell_type": "code",
   "execution_count": 27,
   "id": "3b8b2e1f",
   "metadata": {},
   "outputs": [],
   "source": [
    "result_data = balanced_data.select(selected_feature_names)"
   ]
  },
  {
   "cell_type": "code",
   "execution_count": 31,
   "id": "ef05fe65",
   "metadata": {},
   "outputs": [
    {
     "name": "stderr",
     "output_type": "stream",
     "text": [
      "\r",
      "[Stage 24:=============================>                            (2 + 2) / 4]\r",
      "\r",
      "                                                                                \r"
     ]
    },
    {
     "data": {
      "text/plain": [
       "70282"
      ]
     },
     "execution_count": 31,
     "metadata": {},
     "output_type": "execute_result"
    }
   ],
   "source": [
    "result_data.count()"
   ]
  },
  {
   "cell_type": "code",
   "execution_count": 28,
   "id": "0bfef767",
   "metadata": {},
   "outputs": [
    {
     "name": "stdout",
     "output_type": "stream",
     "text": [
      "+--------+------+--------+---------+------+------+--------------------+------------+------+-------+-------------+-----------+--------+---+----+\n",
      "|Diabetes|HighBP|HighChol|CholCheck|Smoker|Stroke|HeartDiseaseorAttack|PhysActivity|Fruits|Veggies|AnyHealthcare|NoDocbcCost|DiffWalk|Sex| BMI|\n",
      "+--------+------+--------+---------+------+------+--------------------+------------+------+-------+-------------+-----------+--------+---+----+\n",
      "|     0.0|   1.0|     0.0|      1.0|   0.0|   0.0|                 0.0|         1.0|   0.0|    0.0|          1.0|        0.0|     0.0|0.0|33.0|\n",
      "|     0.0|   1.0|     1.0|      1.0|   0.0|   0.0|                 0.0|         1.0|   1.0|    1.0|          1.0|        0.0|     0.0|0.0|21.0|\n",
      "|     0.0|   1.0|     1.0|      1.0|   1.0|   0.0|                 0.0|         0.0|   1.0|    1.0|          1.0|        0.0|     1.0|0.0|38.0|\n",
      "|     0.0|   1.0|     0.0|      1.0|   0.0|   0.0|                 0.0|         1.0|   0.0|    0.0|          1.0|        0.0|     0.0|1.0|31.0|\n",
      "|     0.0|   0.0|     1.0|      1.0|   1.0|   0.0|                 0.0|         0.0|   1.0|    1.0|          1.0|        0.0|     0.0|0.0|31.0|\n",
      "|     0.0|   0.0|     1.0|      1.0|   1.0|   0.0|                 0.0|         1.0|   1.0|    1.0|          1.0|        0.0|     0.0|1.0|28.0|\n",
      "|     0.0|   0.0|     0.0|      1.0|   1.0|   0.0|                 0.0|         1.0|   0.0|    0.0|          1.0|        0.0|     0.0|1.0|31.0|\n",
      "|     0.0|   1.0|     0.0|      1.0|   0.0|   0.0|                 0.0|         1.0|   0.0|    1.0|          1.0|        0.0|     0.0|1.0|28.0|\n",
      "|     0.0|   0.0|     0.0|      1.0|   0.0|   0.0|                 0.0|         1.0|   0.0|    0.0|          1.0|        0.0|     0.0|0.0|22.0|\n",
      "|     0.0|   0.0|     0.0|      1.0|   1.0|   0.0|                 0.0|         1.0|   1.0|    1.0|          1.0|        0.0|     0.0|0.0|31.0|\n",
      "|     0.0|   0.0|     1.0|      1.0|   0.0|   0.0|                 0.0|         1.0|   1.0|    1.0|          1.0|        0.0|     0.0|0.0|22.0|\n",
      "|     0.0|   1.0|     0.0|      1.0|   0.0|   0.0|                 0.0|         1.0|   0.0|    1.0|          1.0|        0.0|     0.0|0.0|28.0|\n",
      "|     0.0|   1.0|     1.0|      1.0|   0.0|   0.0|                 0.0|         0.0|   1.0|    1.0|          1.0|        0.0|     1.0|0.0|26.0|\n",
      "|     0.0|   0.0|     1.0|      1.0|   0.0|   0.0|                 0.0|         0.0|   1.0|    1.0|          1.0|        0.0|     0.0|0.0|22.0|\n",
      "|     0.0|   1.0|     1.0|      1.0|   0.0|   0.0|                 0.0|         1.0|   1.0|    1.0|          1.0|        0.0|     0.0|0.0|28.0|\n",
      "|     0.0|   0.0|     1.0|      1.0|   1.0|   0.0|                 0.0|         0.0|   1.0|    1.0|          1.0|        0.0|     0.0|0.0|24.0|\n",
      "|     0.0|   1.0|     1.0|      1.0|   1.0|   0.0|                 0.0|         0.0|   0.0|    1.0|          1.0|        0.0|     0.0|1.0|33.0|\n",
      "|     0.0|   1.0|     1.0|      1.0|   1.0|   0.0|                 0.0|         0.0|   0.0|    0.0|          1.0|        0.0|     1.0|0.0|25.0|\n",
      "|     0.0|   0.0|     1.0|      1.0|   0.0|   0.0|                 0.0|         0.0|   1.0|    1.0|          1.0|        0.0|     1.0|0.0|29.0|\n",
      "|     0.0|   0.0|     1.0|      1.0|   1.0|   0.0|                 0.0|         1.0|   0.0|    0.0|          1.0|        0.0|     0.0|0.0|18.0|\n",
      "+--------+------+--------+---------+------+------+--------------------+------------+------+-------+-------------+-----------+--------+---+----+\n",
      "only showing top 20 rows\n",
      "\n"
     ]
    }
   ],
   "source": [
    "result_data.show()"
   ]
  },
  {
   "cell_type": "code",
   "execution_count": 29,
   "id": "4ff3de0b",
   "metadata": {},
   "outputs": [
    {
     "name": "stdout",
     "output_type": "stream",
     "text": [
      "root\n",
      " |-- Diabetes: double (nullable = true)\n",
      " |-- HighBP: double (nullable = true)\n",
      " |-- HighChol: double (nullable = true)\n",
      " |-- CholCheck: double (nullable = true)\n",
      " |-- Smoker: double (nullable = true)\n",
      " |-- Stroke: double (nullable = true)\n",
      " |-- HeartDiseaseorAttack: double (nullable = true)\n",
      " |-- PhysActivity: double (nullable = true)\n",
      " |-- Fruits: double (nullable = true)\n",
      " |-- Veggies: double (nullable = true)\n",
      " |-- AnyHealthcare: double (nullable = true)\n",
      " |-- NoDocbcCost: double (nullable = true)\n",
      " |-- DiffWalk: double (nullable = true)\n",
      " |-- Sex: double (nullable = true)\n",
      " |-- BMI: double (nullable = true)\n",
      "\n"
     ]
    }
   ],
   "source": [
    "result_data.printSchema()"
   ]
  },
  {
   "cell_type": "code",
   "execution_count": 30,
   "id": "5848a7e9",
   "metadata": {},
   "outputs": [
    {
     "name": "stderr",
     "output_type": "stream",
     "text": [
      "                                                                                \r"
     ]
    }
   ],
   "source": [
    "result_data.write.option(\"header\", True).option(\"sep\", \",\").csv(\"data.csv\")"
   ]
  },
  {
   "cell_type": "code",
   "execution_count": null,
   "id": "980fdfea",
   "metadata": {},
   "outputs": [],
   "source": [
    "# train_df, test_df = df.randomSplit(weights=[0.7,0.3], seed=100)"
   ]
  }
 ],
 "metadata": {
  "kernelspec": {
   "display_name": "Python 3 (ipykernel)",
   "language": "python",
   "name": "python3"
  },
  "language_info": {
   "codemirror_mode": {
    "name": "ipython",
    "version": 3
   },
   "file_extension": ".py",
   "mimetype": "text/x-python",
   "name": "python",
   "nbconvert_exporter": "python",
   "pygments_lexer": "ipython3",
   "version": "3.10.12"
  }
 },
 "nbformat": 4,
 "nbformat_minor": 5
}
