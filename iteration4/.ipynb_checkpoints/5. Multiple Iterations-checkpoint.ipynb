{
 "cells": [
  {
   "cell_type": "code",
   "execution_count": 1,
   "id": "894ccfb3",
   "metadata": {},
   "outputs": [
    {
     "name": "stderr",
     "output_type": "stream",
     "text": [
      "WARNING: An illegal reflective access operation has occurred\n",
      "WARNING: Illegal reflective access by org.apache.spark.unsafe.Platform (file:/home/ubuntu/INFOSYS722/spark-3.2.1-bin-hadoop2.7/jars/spark-unsafe_2.12-3.2.1.jar) to constructor java.nio.DirectByteBuffer(long,int)\n",
      "WARNING: Please consider reporting this to the maintainers of org.apache.spark.unsafe.Platform\n",
      "WARNING: Use --illegal-access=warn to enable warnings of further illegal reflective access operations\n",
      "WARNING: All illegal access operations will be denied in a future release\n",
      "Using Spark's default log4j profile: org/apache/spark/log4j-defaults.properties\n",
      "Setting default log level to \"WARN\".\n",
      "To adjust logging level use sc.setLogLevel(newLevel). For SparkR, use setLogLevel(newLevel).\n",
      "24/05/23 14:22:06 WARN NativeCodeLoader: Unable to load native-hadoop library for your platform... using builtin-java classes where applicable\n"
     ]
    }
   ],
   "source": [
    "import findspark\n",
    "# findspark.init('/home/ubuntu/spark-3.2.1-bin-hadoop2.7')\n",
    "findspark.init('../spark-3.2.1-bin-hadoop2.7')\n",
    "import pyspark\n",
    "from pyspark.sql import SparkSession\n",
    "spark = SparkSession.builder.appName('multiple_iterations').getOrCreate()\n",
    "\n",
    "from pyspark.ml import Pipeline\n",
    "from pyspark.ml.classification import (RandomForestClassifier, GBTClassifier, DecisionTreeClassifier,\\\n",
    "                                       LogisticRegression, MultilayerPerceptronClassifier)\n",
    "from pyspark.ml.evaluation import MulticlassClassificationEvaluator\n",
    "\n",
    "\n",
    "from pyspark.sql.functions import col, when\n",
    "from pyspark.ml.feature import VectorAssembler\n",
    "from pyspark.ml.feature import ChiSqSelector"
   ]
  },
  {
   "cell_type": "markdown",
   "id": "ff2d4be7",
   "metadata": {},
   "source": [
    "#### Read the previouly cleaned dataset"
   ]
  },
  {
   "cell_type": "code",
   "execution_count": 6,
   "id": "f4e0f14d",
   "metadata": {},
   "outputs": [
    {
     "name": "stderr",
     "output_type": "stream",
     "text": [
      "\r",
      "[Stage 8:=============================>                             (1 + 1) / 2]\r",
      "\r",
      "                                                                                \r"
     ]
    }
   ],
   "source": [
    "df = spark.read.csv('cleaned.csv', header=True)\n",
    "# turn type string into double\n",
    "cols = ['HighBP', 'HighChol', 'CholCheck',\n",
    "       'Smoker', 'Stroke', 'HeartDiseaseorAttack', 'PhysActivity', 'Fruits',\n",
    "       'Veggies', 'HvyAlcoholConsump', 'AnyHealthcare', 'NoDocbcCost',\n",
    "       'DiffWalk', 'Sex', 'BMI', 'GenHlth', 'MentHlth', 'PhysHlth', 'Age',\n",
    "       'Education', 'Income']\n",
    "df = df.withColumn('Diabetes',col('Diabetes').cast('double'))\n",
    "for c in cols:\n",
    "    df = df.withColumn(c,col(c).cast('double'))\n",
    "    \n",
    "assembler = VectorAssembler(inputCols=cols, outputCol=\"features\")\n",
    "df = assembler.transform(df)\n",
    "\n",
    "from pyspark.sql.functions import col, explode, array, lit\n",
    "major_df = df.filter(col(\"Diabetes\") == 0)\n",
    "minor_df = df.filter(col(\"Diabetes\") == 1)\n",
    "ratio = int(major_df.count()/minor_df.count())\n",
    "sampled_majority_df = major_df.sample(False, 1/ratio)\n",
    "balanced_data = sampled_majority_df.unionAll(minor_df)"
   ]
  },
  {
   "cell_type": "markdown",
   "id": "b011ddc3",
   "metadata": {},
   "source": [
    "#### Instead of keeping 15 features, we can iterate with more or less number of features."
   ]
  },
  {
   "cell_type": "markdown",
   "id": "098bbc98",
   "metadata": {},
   "source": [
    "13 Features:"
   ]
  },
  {
   "cell_type": "code",
   "execution_count": 7,
   "id": "2441981f",
   "metadata": {},
   "outputs": [
    {
     "name": "stderr",
     "output_type": "stream",
     "text": [
      "                                                                                \r"
     ]
    },
    {
     "data": {
      "text/plain": [
       "['Diabetes',\n",
       " 'HighBP',\n",
       " 'HighChol',\n",
       " 'CholCheck',\n",
       " 'Smoker',\n",
       " 'Stroke',\n",
       " 'HeartDiseaseorAttack',\n",
       " 'PhysActivity',\n",
       " 'Fruits',\n",
       " 'Veggies',\n",
       " 'AnyHealthcare',\n",
       " 'NoDocbcCost',\n",
       " 'DiffWalk']"
      ]
     },
     "execution_count": 7,
     "metadata": {},
     "output_type": "execute_result"
    }
   ],
   "source": [
    "selector_13 = ChiSqSelector(featuresCol=\"features\", outputCol=\"selected_features\", \\\n",
    "                         labelCol=\"Diabetes\", numTopFeatures=13)\n",
    "model_13 = selector_13.fit(balanced_data)\n",
    "df_13 = model_13.transform(balanced_data)\n",
    "selected_indices_13 = model_13.selectedFeatures\n",
    "selected_feature_names_13 = [df_13.columns[index] for index in selected_indices_13]\n",
    "selected_feature_names_13"
   ]
  },
  {
   "cell_type": "markdown",
   "id": "f9aea1d1",
   "metadata": {},
   "source": [
    "18 Features:"
   ]
  },
  {
   "cell_type": "code",
   "execution_count": 8,
   "id": "eb029298",
   "metadata": {},
   "outputs": [
    {
     "name": "stderr",
     "output_type": "stream",
     "text": [
      "                                                                                \r"
     ]
    },
    {
     "data": {
      "text/plain": [
       "['Diabetes',\n",
       " 'HighBP',\n",
       " 'HighChol',\n",
       " 'CholCheck',\n",
       " 'Smoker',\n",
       " 'Stroke',\n",
       " 'HeartDiseaseorAttack',\n",
       " 'PhysActivity',\n",
       " 'Fruits',\n",
       " 'Veggies',\n",
       " 'AnyHealthcare',\n",
       " 'NoDocbcCost',\n",
       " 'DiffWalk',\n",
       " 'Sex',\n",
       " 'BMI',\n",
       " 'GenHlth',\n",
       " 'MentHlth',\n",
       " 'PhysHlth']"
      ]
     },
     "execution_count": 8,
     "metadata": {},
     "output_type": "execute_result"
    }
   ],
   "source": [
    "selector_18 = ChiSqSelector(featuresCol=\"features\", outputCol=\"selected_features\", \\\n",
    "                         labelCol=\"Diabetes\", numTopFeatures=18)\n",
    "model_18 = selector_18.fit(balanced_data)\n",
    "df_18 = model_18.transform(balanced_data)\n",
    "selected_indices_18 = model_18.selectedFeatures\n",
    "selected_feature_names_18 = [df_18.columns[index] for index in selected_indices_18]\n",
    "selected_feature_names_18"
   ]
  },
  {
   "cell_type": "code",
   "execution_count": 10,
   "id": "c1b69ff2",
   "metadata": {},
   "outputs": [
    {
     "name": "stdout",
     "output_type": "stream",
     "text": [
      "root\n",
      " |-- Diabetes: double (nullable = true)\n",
      " |-- HighBP: double (nullable = true)\n",
      " |-- HighChol: double (nullable = true)\n",
      " |-- CholCheck: double (nullable = true)\n",
      " |-- Smoker: double (nullable = true)\n",
      " |-- Stroke: double (nullable = true)\n",
      " |-- HeartDiseaseorAttack: double (nullable = true)\n",
      " |-- PhysActivity: double (nullable = true)\n",
      " |-- Fruits: double (nullable = true)\n",
      " |-- Veggies: double (nullable = true)\n",
      " |-- HvyAlcoholConsump: double (nullable = true)\n",
      " |-- AnyHealthcare: double (nullable = true)\n",
      " |-- NoDocbcCost: double (nullable = true)\n",
      " |-- DiffWalk: double (nullable = true)\n",
      " |-- Sex: double (nullable = true)\n",
      " |-- BMI: double (nullable = true)\n",
      " |-- GenHlth: double (nullable = true)\n",
      " |-- MentHlth: double (nullable = true)\n",
      " |-- PhysHlth: double (nullable = true)\n",
      " |-- Age: double (nullable = true)\n",
      " |-- Education: double (nullable = true)\n",
      " |-- Income: double (nullable = true)\n",
      " |-- features: vector (nullable = true)\n",
      " |-- selected_features: vector (nullable = true)\n",
      "\n"
     ]
    }
   ],
   "source": [
    "df_18.printSchema()"
   ]
  },
  {
   "cell_type": "markdown",
   "id": "a324bbe6",
   "metadata": {},
   "source": [
    "Train test data set split:"
   ]
  },
  {
   "cell_type": "code",
   "execution_count": 11,
   "id": "afda1b0f",
   "metadata": {},
   "outputs": [],
   "source": [
    "train_data_13,test_data_13 = df_13.select(['Diabetes', 'features']).randomSplit([0.8,0.2])\n",
    "train_data_18,test_data_18 = df_18.select(['Diabetes', 'features']).randomSplit([0.8,0.2])"
   ]
  },
  {
   "cell_type": "markdown",
   "id": "e9ffdaab",
   "metadata": {},
   "source": [
    "Fit Random Forest models:"
   ]
  },
  {
   "cell_type": "code",
   "execution_count": 14,
   "id": "4480ecc7",
   "metadata": {},
   "outputs": [
    {
     "name": "stderr",
     "output_type": "stream",
     "text": [
      "                                                                                \r"
     ]
    }
   ],
   "source": [
    "rfc_13 = RandomForestClassifier(labelCol='Diabetes',featuresCol='features',numTrees=5)\n",
    "rfc_model_13 = rfc_13.fit(train_data_13)\n",
    "rfc_predictions_13 = rfc_model_13.transform(test_data_13)\n",
    "\n",
    "rfc_18 = RandomForestClassifier(labelCol='Diabetes',featuresCol='features',numTrees=5)\n",
    "rfc_model_18 = rfc_18.fit(train_data_18)\n",
    "rfc_predictions_18 = rfc_model_18.transform(test_data_18)"
   ]
  },
  {
   "cell_type": "code",
   "execution_count": null,
   "id": "46a36c90",
   "metadata": {},
   "outputs": [],
   "source": []
  },
  {
   "cell_type": "code",
   "execution_count": 19,
   "id": "8770bc00",
   "metadata": {},
   "outputs": [
    {
     "name": "stdout",
     "output_type": "stream",
     "text": [
      "Random Forest Feature Importances with 13 features selected:\n",
      "Diabetes: 0.18336728882452255\n",
      "HighBP: 0.17514792065220497\n",
      "HighChol: 0.0003839592809668961\n",
      "CholCheck: 0.0\n",
      "Smoker: 0.0012287003797629764\n",
      "Stroke: 0.011562354891281778\n",
      "HeartDiseaseorAttack: 0.0021514216384969165\n",
      "PhysActivity: 0.0\n",
      "Fruits: 0.0\n",
      "Veggies: 0.0005246152380332262\n",
      "AnyHealthcare: 0.0\n",
      "NoDocbcCost: 0.0\n",
      "DiffWalk: 0.008593583657584279\n",
      "\n",
      "Random Forest Feature Importances with 18 features selected:\n",
      "Diabetes: 0.2640150234610442\n",
      "HighBP: 0.1748094618204812\n",
      "HighChol: 0.0006902259828370694\n",
      "CholCheck: 0.0007931794568797951\n",
      "Smoker: 0.0007975972721726623\n",
      "Stroke: 0.00960876473339492\n",
      "HeartDiseaseorAttack: 0.0015539061682457566\n",
      "PhysActivity: 0.0\n",
      "Fruits: 0.0\n",
      "Veggies: 0.0\n",
      "AnyHealthcare: 0.0\n",
      "NoDocbcCost: 0.0002962330983736624\n",
      "DiffWalk: 0.007349837468864783\n",
      "Sex: 0.0\n",
      "BMI: 0.07137310864550205\n",
      "GenHlth: 0.36872025446699663\n",
      "MentHlth: 0.0002591567620108128\n",
      "PhysHlth: 0.002035654977815754\n"
     ]
    }
   ],
   "source": [
    "# Random Forest Feature Importances\n",
    "rfc_importances_13 = rfc_model_13.featureImportances\n",
    "print(\"Random Forest Feature Importances with 13 features selected:\")\n",
    "for i, (col, importance) in enumerate(zip(selected_feature_names_13, rfc_importances_13)):\n",
    "    print(f\"{col}: {importance}\")\n",
    "    \n",
    "rfc_importances_18 = rfc_model_18.featureImportances\n",
    "print(\"\\nRandom Forest Feature Importances with 18 features selected:\")\n",
    "for i, (col, importance) in enumerate(zip(selected_feature_names_18, rfc_importances_18)):\n",
    "    print(f\"{col}: {importance}\")"
   ]
  },
  {
   "cell_type": "code",
   "execution_count": null,
   "id": "766115c3",
   "metadata": {},
   "outputs": [],
   "source": []
  }
 ],
 "metadata": {
  "kernelspec": {
   "display_name": "Python 3 (ipykernel)",
   "language": "python",
   "name": "python3"
  },
  "language_info": {
   "codemirror_mode": {
    "name": "ipython",
    "version": 3
   },
   "file_extension": ".py",
   "mimetype": "text/x-python",
   "name": "python",
   "nbconvert_exporter": "python",
   "pygments_lexer": "ipython3",
   "version": "3.10.12"
  }
 },
 "nbformat": 4,
 "nbformat_minor": 5
}
