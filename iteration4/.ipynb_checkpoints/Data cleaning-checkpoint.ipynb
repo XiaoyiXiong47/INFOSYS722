{
 "cells": [
  {
   "cell_type": "code",
   "execution_count": 2,
   "id": "28bfb4d5",
   "metadata": {},
   "outputs": [],
   "source": [
    "# Must be included at the beginning of each new notebook. Remember to change the app name.\n",
    "import findspark\n",
    "# findspark.init('/home/ubuntu/spark-3.2.1-bin-hadoop2.7')\n",
    "findspark.init('../spark-3.2.1-bin-hadoop2.7')\n",
    "import pyspark\n",
    "from pyspark.sql import SparkSession\n",
    "spark = SparkSession.builder.appName('cleaning').getOrCreate()"
   ]
  },
  {
   "cell_type": "code",
   "execution_count": 3,
   "id": "b1f436e9",
   "metadata": {},
   "outputs": [],
   "source": [
    "df_1 = spark.read.csv('binary_data.csv', header=True)\n",
    "df_2 = spark.read.csv('nominal_data.csv', header=True)"
   ]
  },
  {
   "cell_type": "markdown",
   "id": "f42c7d74",
   "metadata": {},
   "source": [
    "Drop rows containing na values"
   ]
  },
  {
   "cell_type": "code",
   "execution_count": 4,
   "id": "618d0876",
   "metadata": {},
   "outputs": [],
   "source": [
    "df_1 = df_1.dropna()\n",
    "df_2 = df_2.dropna()"
   ]
  },
  {
   "cell_type": "code",
   "execution_count": 5,
   "id": "53dc3270",
   "metadata": {},
   "outputs": [
    {
     "name": "stderr",
     "output_type": "stream",
     "text": [
      "                                                                                \r"
     ]
    },
    {
     "name": "stdout",
     "output_type": "stream",
     "text": [
      "+---------+\n",
      "|Education|\n",
      "+---------+\n",
      "|      1.0|\n",
      "|     11.0|\n",
      "|      2.0|\n",
      "|     22.0|\n",
      "|      3.0|\n",
      "|     33.0|\n",
      "|      4.0|\n",
      "|     44.0|\n",
      "|      5.0|\n",
      "|     55.0|\n",
      "|      6.0|\n",
      "|     66.0|\n",
      "+---------+\n",
      "\n"
     ]
    },
    {
     "name": "stderr",
     "output_type": "stream",
     "text": [
      "\r",
      "[Stage 5:=============================>                             (1 + 1) / 2]\r"
     ]
    },
    {
     "name": "stdout",
     "output_type": "stream",
     "text": [
      "+------+\n",
      "|Income|\n",
      "+------+\n",
      "|   1.0|\n",
      "|  11.0|\n",
      "|   2.0|\n",
      "|  22.0|\n",
      "|   3.0|\n",
      "|  33.0|\n",
      "|   4.0|\n",
      "|  44.0|\n",
      "|   5.0|\n",
      "|  55.0|\n",
      "|   6.0|\n",
      "|  66.0|\n",
      "|   7.0|\n",
      "|  77.0|\n",
      "|   8.0|\n",
      "|  88.0|\n",
      "+------+\n",
      "\n"
     ]
    },
    {
     "name": "stderr",
     "output_type": "stream",
     "text": [
      "\r",
      "                                                                                \r"
     ]
    }
   ],
   "source": [
    "df_2.select([\"Education\"]).distinct().sort(\"Education\").show()\n",
    "df_2.select([\"Income\"]).distinct().sort(\"Income\").show()"
   ]
  },
  {
   "cell_type": "code",
   "execution_count": 6,
   "id": "1518c7e0",
   "metadata": {},
   "outputs": [
    {
     "name": "stderr",
     "output_type": "stream",
     "text": [
      "                                                                                \r"
     ]
    },
    {
     "name": "stdout",
     "output_type": "stream",
     "text": [
      "+---------+\n",
      "|Education|\n",
      "+---------+\n",
      "|      1.0|\n",
      "|      2.0|\n",
      "|      3.0|\n",
      "|      4.0|\n",
      "|      5.0|\n",
      "|      6.0|\n",
      "+---------+\n",
      "\n",
      "+------+\n",
      "|Income|\n",
      "+------+\n",
      "|   1.0|\n",
      "|   2.0|\n",
      "|   3.0|\n",
      "|   4.0|\n",
      "|   5.0|\n",
      "|   6.0|\n",
      "|   7.0|\n",
      "|   8.0|\n",
      "+------+\n",
      "\n"
     ]
    },
    {
     "name": "stderr",
     "output_type": "stream",
     "text": [
      "\r",
      "[Stage 11:=============================>                            (1 + 1) / 2]\r",
      "\r",
      "                                                                                \r"
     ]
    }
   ],
   "source": [
    "from pyspark.sql.functions import col, when\n",
    "df_2 = df_2.withColumn(\"Education\", when(col(\"Education\") % 11 == 0, col(\"Education\") / 11)\\\n",
    "                       .otherwise(col(\"Education\")))\n",
    "df_2 = df_2.withColumn(\"Income\", when(col(\"Income\") % 11 == 0, col(\"Income\") / 11)\\\n",
    "                       .otherwise(col(\"Income\")))\n",
    "df_2.select([\"Education\"]).distinct().sort(\"Education\").show()\n",
    "df_2.select([\"Income\"]).distinct().sort(\"Income\").show()"
   ]
  },
  {
   "cell_type": "code",
   "execution_count": 7,
   "id": "8c2d7e5b",
   "metadata": {},
   "outputs": [
    {
     "name": "stderr",
     "output_type": "stream",
     "text": [
      "[Stage 14:=============================>                            (1 + 1) / 2]\r"
     ]
    },
    {
     "name": "stdout",
     "output_type": "stream",
     "text": [
      "+-------+------------------+------------------+\n",
      "|summary|         Education|            Income|\n",
      "+-------+------------------+------------------+\n",
      "|  count|            251910|            251910|\n",
      "|   mean| 5.050398952006669| 6.053947838513755|\n",
      "| stddev|0.9858212527289382|2.0709720333587414|\n",
      "|    min|               1.0|               1.0|\n",
      "|    25%|               4.0|               5.0|\n",
      "|    50%|               5.0|               7.0|\n",
      "|    75%|               6.0|               8.0|\n",
      "|    max|               6.0|               8.0|\n",
      "+-------+------------------+------------------+\n",
      "\n"
     ]
    },
    {
     "name": "stderr",
     "output_type": "stream",
     "text": [
      "\r",
      "                                                                                \r"
     ]
    }
   ],
   "source": [
    "df_2.select(['Education', 'Income']).summary().show()"
   ]
  },
  {
   "cell_type": "code",
   "execution_count": 8,
   "id": "d9ce7aa5",
   "metadata": {},
   "outputs": [],
   "source": [
    "yes = ['yes', 'YES', 'Y', 'Yes']\n",
    "no = ['no', 'NO', 'N', 'No']"
   ]
  },
  {
   "cell_type": "code",
   "execution_count": 9,
   "id": "e7bb0bed",
   "metadata": {},
   "outputs": [],
   "source": [
    "def convert_binary(column):\n",
    "    return when(col(column).isin(no), 0) \\\n",
    "           .when(col(column).isin(yes), 1) \\\n",
    "           .otherwise(col(column))\n",
    "\n",
    "for column in df_1.columns:\n",
    "    df_1 = df_1.withColumn(column, convert_binary(column))"
   ]
  },
  {
   "cell_type": "code",
   "execution_count": 10,
   "id": "960aff64",
   "metadata": {},
   "outputs": [
    {
     "name": "stderr",
     "output_type": "stream",
     "text": [
      "                                                                                \r"
     ]
    },
    {
     "name": "stdout",
     "output_type": "stream",
     "text": [
      "+-------+------------------+------------------+-------------------+------------------+-------------------+\n",
      "|summary|        Unnamed: 0|      Diabetes_012|             HighBP|          HighChol|          CholCheck|\n",
      "+-------+------------------+------------------+-------------------+------------------+-------------------+\n",
      "|  count|            249898|            249898|             249898|            249898|             249898|\n",
      "|   mean|126854.92777453201|0.2967650801527023|0.42917510344220444|0.4243491344468543| 0.9627087851843552|\n",
      "| stddev| 73224.61191999138|0.6980108551122761|0.49495940678687556|0.4942448017446194|0.18947486317379145|\n",
      "|    min|                 0|                 0|                  0|                 0|                  0|\n",
      "|    25%|           63436.0|               0.0|                0.0|               0.0|                1.0|\n",
      "|    50%|          126845.0|               0.0|                0.0|               0.0|                1.0|\n",
      "|    75%|          190272.0|               0.0|                1.0|               1.0|                1.0|\n",
      "|    max|             99999|               2.0|                1.0|               1.0|                1.0|\n",
      "+-------+------------------+------------------+-------------------+------------------+-------------------+\n",
      "\n"
     ]
    },
    {
     "name": "stderr",
     "output_type": "stream",
     "text": [
      "                                                                                \r"
     ]
    },
    {
     "name": "stdout",
     "output_type": "stream",
     "text": [
      "+-------+-------------------+-------------------+--------------------+-------------------+------------------+\n",
      "|summary|             Smoker|             Stroke|HeartDiseaseorAttack|       PhysActivity|            Fruits|\n",
      "+-------+-------------------+-------------------+--------------------+-------------------+------------------+\n",
      "|  count|             249898|             249898|              249898|             249898|            249898|\n",
      "|   mean| 0.4431888210389839|0.04063657972452761| 0.09419843296064795| 0.7563926081841391|0.6343268053365774|\n",
      "| stddev|0.49676299926812556| 0.1974472185625464|  0.2921051687824646|0.42925932467873734|0.4816193907804462|\n",
      "|    min|                  0|                  0|                   0|                  0|                 0|\n",
      "|    25%|                0.0|                0.0|                 0.0|                1.0|               0.0|\n",
      "|    50%|                0.0|                0.0|                 0.0|                1.0|               1.0|\n",
      "|    75%|                1.0|                0.0|                 0.0|                1.0|               1.0|\n",
      "|    max|                1.0|                1.0|                 1.0|                1.0|               1.0|\n",
      "+-------+-------------------+-------------------+--------------------+-------------------+------------------+\n",
      "\n"
     ]
    },
    {
     "name": "stderr",
     "output_type": "stream",
     "text": [
      "[Stage 23:=============================>                            (1 + 1) / 2]\r"
     ]
    },
    {
     "name": "stdout",
     "output_type": "stream",
     "text": [
      "+-------+-------------------+--------------------+-------------------+-------------------+------------------+------------------+\n",
      "|summary|            Veggies|   HvyAlcoholConsump|      AnyHealthcare|        NoDocbcCost|          DiffWalk|               Sex|\n",
      "+-------+-------------------+--------------------+-------------------+-------------------+------------------+------------------+\n",
      "|  count|             249898|              249898|             249898|             249898|            249898|            249898|\n",
      "|   mean| 0.8113670377514026|0.056230942224427566| 0.9510680357585896|0.08415033333600108|0.1683606911619941|0.4403076455193719|\n",
      "| stddev|0.39121756128338386| 0.23036760997277336|0.21572624630332457| 0.2776136940763594|0.3741870242616193|0.4964250285492702|\n",
      "|    min|                  0|                   0|                  0|                  0|                 0|                 0|\n",
      "|    25%|                1.0|                 0.0|                1.0|                0.0|               0.0|               0.0|\n",
      "|    50%|                1.0|                 0.0|                1.0|                0.0|               0.0|               0.0|\n",
      "|    75%|                1.0|                 0.0|                1.0|                0.0|               0.0|               1.0|\n",
      "|    max|                1.0|                 1.0|                1.0|                1.0|               1.0|               1.0|\n",
      "+-------+-------------------+--------------------+-------------------+-------------------+------------------+------------------+\n",
      "\n"
     ]
    },
    {
     "name": "stderr",
     "output_type": "stream",
     "text": [
      "\r",
      "                                                                                \r"
     ]
    }
   ],
   "source": [
    "cols_1 = df_1.columns\n",
    "df_1.select(cols_1[0:5]).summary().show()\n",
    "df_1.select(cols_1[5:10]).summary().show()\n",
    "df_1.select(cols_1[10:16]).summary().show()"
   ]
  },
  {
   "cell_type": "markdown",
   "id": "93f6157e",
   "metadata": {},
   "source": [
    "Remove files \"binary_data.csv\" and \"nominal_data.csv\" before re-write."
   ]
  },
  {
   "cell_type": "markdown",
   "id": "1cd48eff",
   "metadata": {},
   "source": [
    "# 3.3 Data Construction"
   ]
  },
  {
   "cell_type": "code",
   "execution_count": 15,
   "id": "dc4e8af7",
   "metadata": {},
   "outputs": [
    {
     "ename": "AnalysisException",
     "evalue": "cannot resolve 'Diabetes_012' given input columns: [AnyHealthcare, CholCheck, Diabetes, DiffWalk, Fruits, HeartDiseaseorAttack, HighBP, HighChol, HvyAlcoholConsump, NoDocbcCost, PhysActivity, Sex, Smoker, Stroke, Unnamed: 0, Veggies];\n'Project [Unnamed: 0#455, Diabetes#3097, HighBP#489, HighChol#506, CholCheck#523, Smoker#540, Stroke#557, HeartDiseaseorAttack#574, PhysActivity#591, Fruits#608, Veggies#625, HvyAlcoholConsump#642, AnyHealthcare#659, NoDocbcCost#676, DiffWalk#693, Sex#710, CASE WHEN ('Diabetes_012 = 2) THEN 1 ELSE 0 END AS Diabetes_012#3136]\n+- Project [Unnamed: 0#455, Diabetes_012#3080 AS Diabetes#3097, HighBP#489, HighChol#506, CholCheck#523, Smoker#540, Stroke#557, HeartDiseaseorAttack#574, PhysActivity#591, Fruits#608, Veggies#625, HvyAlcoholConsump#642, AnyHealthcare#659, NoDocbcCost#676, DiffWalk#693, Sex#710]\n   +- Project [Unnamed: 0#455, CASE WHEN (cast(Diabetes_012#2909 as int) = 2) THEN 1 ELSE 0 END AS Diabetes_012#3080, HighBP#489, HighChol#506, CholCheck#523, Smoker#540, Stroke#557, HeartDiseaseorAttack#574, PhysActivity#591, Fruits#608, Veggies#625, HvyAlcoholConsump#642, AnyHealthcare#659, NoDocbcCost#676, DiffWalk#693, Sex#710]\n      +- Project [Unnamed: 0#455, CASE WHEN cast(Diabetes_012#2892 as string) IN (cast(0 as string),cast(1 as string)) THEN cast(0 as string) WHEN cast(Diabetes_012#2892 as string) IN (cast(2 as string)) THEN cast(1 as string) ELSE Diabetes_012#2892 END AS Diabetes_012#2909, HighBP#489, HighChol#506, CholCheck#523, Smoker#540, Stroke#557, HeartDiseaseorAttack#574, PhysActivity#591, Fruits#608, Veggies#625, HvyAlcoholConsump#642, AnyHealthcare#659, NoDocbcCost#676, DiffWalk#693, Sex#710]\n         +- Project [Unnamed: 0#455, CASE WHEN cast(Diabetes_012#472 as string) IN (cast(0 as string),cast(1 as string)) THEN cast(0 as string) WHEN cast(Diabetes_012#472 as string) IN (cast(2 as string)) THEN cast(1 as string) ELSE Diabetes_012#472 END AS Diabetes_012#2892, HighBP#489, HighChol#506, CholCheck#523, Smoker#540, Stroke#557, HeartDiseaseorAttack#574, PhysActivity#591, Fruits#608, Veggies#625, HvyAlcoholConsump#642, AnyHealthcare#659, NoDocbcCost#676, DiffWalk#693, Sex#710]\n            +- Project [Unnamed: 0#455, Diabetes_012#472, HighBP#489, HighChol#506, CholCheck#523, Smoker#540, Stroke#557, HeartDiseaseorAttack#574, PhysActivity#591, Fruits#608, Veggies#625, HvyAlcoholConsump#642, AnyHealthcare#659, NoDocbcCost#676, DiffWalk#693, CASE WHEN Sex#31 IN (no,NO,N,No) THEN cast(0 as string) WHEN Sex#31 IN (yes,YES,Y,Yes) THEN cast(1 as string) ELSE Sex#31 END AS Sex#710]\n               +- Project [Unnamed: 0#455, Diabetes_012#472, HighBP#489, HighChol#506, CholCheck#523, Smoker#540, Stroke#557, HeartDiseaseorAttack#574, PhysActivity#591, Fruits#608, Veggies#625, HvyAlcoholConsump#642, AnyHealthcare#659, NoDocbcCost#676, CASE WHEN DiffWalk#30 IN (no,NO,N,No) THEN cast(0 as string) WHEN DiffWalk#30 IN (yes,YES,Y,Yes) THEN cast(1 as string) ELSE DiffWalk#30 END AS DiffWalk#693, Sex#31]\n                  +- Project [Unnamed: 0#455, Diabetes_012#472, HighBP#489, HighChol#506, CholCheck#523, Smoker#540, Stroke#557, HeartDiseaseorAttack#574, PhysActivity#591, Fruits#608, Veggies#625, HvyAlcoholConsump#642, AnyHealthcare#659, CASE WHEN NoDocbcCost#29 IN (no,NO,N,No) THEN cast(0 as string) WHEN NoDocbcCost#29 IN (yes,YES,Y,Yes) THEN cast(1 as string) ELSE NoDocbcCost#29 END AS NoDocbcCost#676, DiffWalk#30, Sex#31]\n                     +- Project [Unnamed: 0#455, Diabetes_012#472, HighBP#489, HighChol#506, CholCheck#523, Smoker#540, Stroke#557, HeartDiseaseorAttack#574, PhysActivity#591, Fruits#608, Veggies#625, HvyAlcoholConsump#642, CASE WHEN AnyHealthcare#28 IN (no,NO,N,No) THEN cast(0 as string) WHEN AnyHealthcare#28 IN (yes,YES,Y,Yes) THEN cast(1 as string) ELSE AnyHealthcare#28 END AS AnyHealthcare#659, NoDocbcCost#29, DiffWalk#30, Sex#31]\n                        +- Project [Unnamed: 0#455, Diabetes_012#472, HighBP#489, HighChol#506, CholCheck#523, Smoker#540, Stroke#557, HeartDiseaseorAttack#574, PhysActivity#591, Fruits#608, Veggies#625, CASE WHEN HvyAlcoholConsump#27 IN (no,NO,N,No) THEN cast(0 as string) WHEN HvyAlcoholConsump#27 IN (yes,YES,Y,Yes) THEN cast(1 as string) ELSE HvyAlcoholConsump#27 END AS HvyAlcoholConsump#642, AnyHealthcare#28, NoDocbcCost#29, DiffWalk#30, Sex#31]\n                           +- Project [Unnamed: 0#455, Diabetes_012#472, HighBP#489, HighChol#506, CholCheck#523, Smoker#540, Stroke#557, HeartDiseaseorAttack#574, PhysActivity#591, Fruits#608, CASE WHEN Veggies#26 IN (no,NO,N,No) THEN cast(0 as string) WHEN Veggies#26 IN (yes,YES,Y,Yes) THEN cast(1 as string) ELSE Veggies#26 END AS Veggies#625, HvyAlcoholConsump#27, AnyHealthcare#28, NoDocbcCost#29, DiffWalk#30, Sex#31]\n                              +- Project [Unnamed: 0#455, Diabetes_012#472, HighBP#489, HighChol#506, CholCheck#523, Smoker#540, Stroke#557, HeartDiseaseorAttack#574, PhysActivity#591, CASE WHEN Fruits#25 IN (no,NO,N,No) THEN cast(0 as string) WHEN Fruits#25 IN (yes,YES,Y,Yes) THEN cast(1 as string) ELSE Fruits#25 END AS Fruits#608, Veggies#26, HvyAlcoholConsump#27, AnyHealthcare#28, NoDocbcCost#29, DiffWalk#30, Sex#31]\n                                 +- Project [Unnamed: 0#455, Diabetes_012#472, HighBP#489, HighChol#506, CholCheck#523, Smoker#540, Stroke#557, HeartDiseaseorAttack#574, CASE WHEN PhysActivity#24 IN (no,NO,N,No) THEN cast(0 as string) WHEN PhysActivity#24 IN (yes,YES,Y,Yes) THEN cast(1 as string) ELSE PhysActivity#24 END AS PhysActivity#591, Fruits#25, Veggies#26, HvyAlcoholConsump#27, AnyHealthcare#28, NoDocbcCost#29, DiffWalk#30, Sex#31]\n                                    +- Project [Unnamed: 0#455, Diabetes_012#472, HighBP#489, HighChol#506, CholCheck#523, Smoker#540, Stroke#557, CASE WHEN HeartDiseaseorAttack#23 IN (no,NO,N,No) THEN cast(0 as string) WHEN HeartDiseaseorAttack#23 IN (yes,YES,Y,Yes) THEN cast(1 as string) ELSE HeartDiseaseorAttack#23 END AS HeartDiseaseorAttack#574, PhysActivity#24, Fruits#25, Veggies#26, HvyAlcoholConsump#27, AnyHealthcare#28, NoDocbcCost#29, DiffWalk#30, Sex#31]\n                                       +- Project [Unnamed: 0#455, Diabetes_012#472, HighBP#489, HighChol#506, CholCheck#523, Smoker#540, CASE WHEN Stroke#22 IN (no,NO,N,No) THEN cast(0 as string) WHEN Stroke#22 IN (yes,YES,Y,Yes) THEN cast(1 as string) ELSE Stroke#22 END AS Stroke#557, HeartDiseaseorAttack#23, PhysActivity#24, Fruits#25, Veggies#26, HvyAlcoholConsump#27, AnyHealthcare#28, NoDocbcCost#29, DiffWalk#30, Sex#31]\n                                          +- Project [Unnamed: 0#455, Diabetes_012#472, HighBP#489, HighChol#506, CholCheck#523, CASE WHEN Smoker#21 IN (no,NO,N,No) THEN cast(0 as string) WHEN Smoker#21 IN (yes,YES,Y,Yes) THEN cast(1 as string) ELSE Smoker#21 END AS Smoker#540, Stroke#22, HeartDiseaseorAttack#23, PhysActivity#24, Fruits#25, Veggies#26, HvyAlcoholConsump#27, AnyHealthcare#28, NoDocbcCost#29, DiffWalk#30, Sex#31]\n                                             +- Project [Unnamed: 0#455, Diabetes_012#472, HighBP#489, HighChol#506, CASE WHEN CholCheck#20 IN (no,NO,N,No) THEN cast(0 as string) WHEN CholCheck#20 IN (yes,YES,Y,Yes) THEN cast(1 as string) ELSE CholCheck#20 END AS CholCheck#523, Smoker#21, Stroke#22, HeartDiseaseorAttack#23, PhysActivity#24, Fruits#25, Veggies#26, HvyAlcoholConsump#27, AnyHealthcare#28, NoDocbcCost#29, DiffWalk#30, Sex#31]\n                                                +- Project [Unnamed: 0#455, Diabetes_012#472, HighBP#489, CASE WHEN HighChol#19 IN (no,NO,N,No) THEN cast(0 as string) WHEN HighChol#19 IN (yes,YES,Y,Yes) THEN cast(1 as string) ELSE HighChol#19 END AS HighChol#506, CholCheck#20, Smoker#21, Stroke#22, HeartDiseaseorAttack#23, PhysActivity#24, Fruits#25, Veggies#26, HvyAlcoholConsump#27, AnyHealthcare#28, NoDocbcCost#29, DiffWalk#30, Sex#31]\n                                                   +- Project [Unnamed: 0#455, Diabetes_012#472, CASE WHEN HighBP#18 IN (no,NO,N,No) THEN cast(0 as string) WHEN HighBP#18 IN (yes,YES,Y,Yes) THEN cast(1 as string) ELSE HighBP#18 END AS HighBP#489, HighChol#19, CholCheck#20, Smoker#21, Stroke#22, HeartDiseaseorAttack#23, PhysActivity#24, Fruits#25, Veggies#26, HvyAlcoholConsump#27, AnyHealthcare#28, NoDocbcCost#29, DiffWalk#30, Sex#31]\n                                                      +- Project [Unnamed: 0#455, CASE WHEN Diabetes_012#17 IN (no,NO,N,No) THEN cast(0 as string) WHEN Diabetes_012#17 IN (yes,YES,Y,Yes) THEN cast(1 as string) ELSE Diabetes_012#17 END AS Diabetes_012#472, HighBP#18, HighChol#19, CholCheck#20, Smoker#21, Stroke#22, HeartDiseaseorAttack#23, PhysActivity#24, Fruits#25, Veggies#26, HvyAlcoholConsump#27, AnyHealthcare#28, NoDocbcCost#29, DiffWalk#30, Sex#31]\n                                                         +- Project [CASE WHEN Unnamed: 0#16 IN (no,NO,N,No) THEN cast(0 as string) WHEN Unnamed: 0#16 IN (yes,YES,Y,Yes) THEN cast(1 as string) ELSE Unnamed: 0#16 END AS Unnamed: 0#455, Diabetes_012#17, HighBP#18, HighChol#19, CholCheck#20, Smoker#21, Stroke#22, HeartDiseaseorAttack#23, PhysActivity#24, Fruits#25, Veggies#26, HvyAlcoholConsump#27, AnyHealthcare#28, NoDocbcCost#29, DiffWalk#30, Sex#31]\n                                                            +- Filter atleastnnonnulls(16, Unnamed: 0#16, Diabetes_012#17, HighBP#18, HighChol#19, CholCheck#20, Smoker#21, Stroke#22, HeartDiseaseorAttack#23, PhysActivity#24, Fruits#25, Veggies#26, HvyAlcoholConsump#27, AnyHealthcare#28, NoDocbcCost#29, DiffWalk#30, Sex#31)\n                                                               +- Relation [Unnamed: 0#16,Diabetes_012#17,HighBP#18,HighChol#19,CholCheck#20,Smoker#21,Stroke#22,HeartDiseaseorAttack#23,PhysActivity#24,Fruits#25,Veggies#26,HvyAlcoholConsump#27,AnyHealthcare#28,NoDocbcCost#29,DiffWalk#30,Sex#31] csv\n",
     "output_type": "error",
     "traceback": [
      "\u001b[0;31m---------------------------------------------------------------------------\u001b[0m",
      "\u001b[0;31mAnalysisException\u001b[0m                         Traceback (most recent call last)",
      "Input \u001b[0;32mIn [15]\u001b[0m, in \u001b[0;36m<cell line: 1>\u001b[0;34m()\u001b[0m\n\u001b[0;32m----> 1\u001b[0m df_1 \u001b[38;5;241m=\u001b[39m \u001b[43mdf_1\u001b[49m\u001b[38;5;241;43m.\u001b[39;49m\u001b[43mwithColumn\u001b[49m\u001b[43m(\u001b[49m\u001b[38;5;124;43m\"\u001b[39;49m\u001b[38;5;124;43mDiabetes_012\u001b[39;49m\u001b[38;5;124;43m\"\u001b[39;49m\u001b[43m,\u001b[49m\u001b[43m \u001b[49m\u001b[43mwhen\u001b[49m\u001b[43m(\u001b[49m\u001b[43mcol\u001b[49m\u001b[43m(\u001b[49m\u001b[38;5;124;43m\"\u001b[39;49m\u001b[38;5;124;43mDiabetes_012\u001b[39;49m\u001b[38;5;124;43m\"\u001b[39;49m\u001b[43m)\u001b[49m\u001b[43m \u001b[49m\u001b[38;5;241;43m==\u001b[39;49m\u001b[43m \u001b[49m\u001b[38;5;241;43m2\u001b[39;49m\u001b[43m,\u001b[49m\u001b[43m \u001b[49m\u001b[38;5;241;43m1\u001b[39;49m\u001b[43m)\u001b[49m\u001b[38;5;241;43m.\u001b[39;49m\u001b[43motherwise\u001b[49m\u001b[43m(\u001b[49m\u001b[38;5;241;43m0\u001b[39;49m\u001b[43m)\u001b[49m\u001b[43m)\u001b[49m\n\u001b[1;32m      2\u001b[0m df_1 \u001b[38;5;241m=\u001b[39m df_1\u001b[38;5;241m.\u001b[39mwithColumnRenamed(\u001b[38;5;124m\"\u001b[39m\u001b[38;5;124mDiabetes_012\u001b[39m\u001b[38;5;124m\"\u001b[39m, \u001b[38;5;124m\"\u001b[39m\u001b[38;5;124mDiabetes\u001b[39m\u001b[38;5;124m\"\u001b[39m)\n\u001b[1;32m      3\u001b[0m df_1\u001b[38;5;241m.\u001b[39mselect([\u001b[38;5;124m'\u001b[39m\u001b[38;5;124mDiabetes\u001b[39m\u001b[38;5;124m'\u001b[39m])\u001b[38;5;241m.\u001b[39msummary()\u001b[38;5;241m.\u001b[39mshow()\n",
      "File \u001b[0;32m~/INFOSYS722/iteration4/../spark-3.2.1-bin-hadoop2.7/python/pyspark/sql/dataframe.py:2478\u001b[0m, in \u001b[0;36mDataFrame.withColumn\u001b[0;34m(self, colName, col)\u001b[0m\n\u001b[1;32m   2476\u001b[0m \u001b[38;5;28;01mif\u001b[39;00m \u001b[38;5;129;01mnot\u001b[39;00m \u001b[38;5;28misinstance\u001b[39m(col, Column):\n\u001b[1;32m   2477\u001b[0m     \u001b[38;5;28;01mraise\u001b[39;00m \u001b[38;5;167;01mTypeError\u001b[39;00m(\u001b[38;5;124m\"\u001b[39m\u001b[38;5;124mcol should be Column\u001b[39m\u001b[38;5;124m\"\u001b[39m)\n\u001b[0;32m-> 2478\u001b[0m \u001b[38;5;28;01mreturn\u001b[39;00m DataFrame(\u001b[38;5;28;43mself\u001b[39;49m\u001b[38;5;241;43m.\u001b[39;49m\u001b[43m_jdf\u001b[49m\u001b[38;5;241;43m.\u001b[39;49m\u001b[43mwithColumn\u001b[49m\u001b[43m(\u001b[49m\u001b[43mcolName\u001b[49m\u001b[43m,\u001b[49m\u001b[43m \u001b[49m\u001b[43mcol\u001b[49m\u001b[38;5;241;43m.\u001b[39;49m\u001b[43m_jc\u001b[49m\u001b[43m)\u001b[49m, \u001b[38;5;28mself\u001b[39m\u001b[38;5;241m.\u001b[39msql_ctx)\n",
      "File \u001b[0;32m../spark-3.2.1-bin-hadoop2.7/python/lib/py4j-0.10.9.3-src.zip/py4j/java_gateway.py:1321\u001b[0m, in \u001b[0;36mJavaMember.__call__\u001b[0;34m(self, *args)\u001b[0m\n\u001b[1;32m   1315\u001b[0m command \u001b[38;5;241m=\u001b[39m proto\u001b[38;5;241m.\u001b[39mCALL_COMMAND_NAME \u001b[38;5;241m+\u001b[39m\\\n\u001b[1;32m   1316\u001b[0m     \u001b[38;5;28mself\u001b[39m\u001b[38;5;241m.\u001b[39mcommand_header \u001b[38;5;241m+\u001b[39m\\\n\u001b[1;32m   1317\u001b[0m     args_command \u001b[38;5;241m+\u001b[39m\\\n\u001b[1;32m   1318\u001b[0m     proto\u001b[38;5;241m.\u001b[39mEND_COMMAND_PART\n\u001b[1;32m   1320\u001b[0m answer \u001b[38;5;241m=\u001b[39m \u001b[38;5;28mself\u001b[39m\u001b[38;5;241m.\u001b[39mgateway_client\u001b[38;5;241m.\u001b[39msend_command(command)\n\u001b[0;32m-> 1321\u001b[0m return_value \u001b[38;5;241m=\u001b[39m \u001b[43mget_return_value\u001b[49m\u001b[43m(\u001b[49m\n\u001b[1;32m   1322\u001b[0m \u001b[43m    \u001b[49m\u001b[43manswer\u001b[49m\u001b[43m,\u001b[49m\u001b[43m \u001b[49m\u001b[38;5;28;43mself\u001b[39;49m\u001b[38;5;241;43m.\u001b[39;49m\u001b[43mgateway_client\u001b[49m\u001b[43m,\u001b[49m\u001b[43m \u001b[49m\u001b[38;5;28;43mself\u001b[39;49m\u001b[38;5;241;43m.\u001b[39;49m\u001b[43mtarget_id\u001b[49m\u001b[43m,\u001b[49m\u001b[43m \u001b[49m\u001b[38;5;28;43mself\u001b[39;49m\u001b[38;5;241;43m.\u001b[39;49m\u001b[43mname\u001b[49m\u001b[43m)\u001b[49m\n\u001b[1;32m   1324\u001b[0m \u001b[38;5;28;01mfor\u001b[39;00m temp_arg \u001b[38;5;129;01min\u001b[39;00m temp_args:\n\u001b[1;32m   1325\u001b[0m     temp_arg\u001b[38;5;241m.\u001b[39m_detach()\n",
      "File \u001b[0;32m~/INFOSYS722/iteration4/../spark-3.2.1-bin-hadoop2.7/python/pyspark/sql/utils.py:117\u001b[0m, in \u001b[0;36mcapture_sql_exception.<locals>.deco\u001b[0;34m(*a, **kw)\u001b[0m\n\u001b[1;32m    113\u001b[0m converted \u001b[38;5;241m=\u001b[39m convert_exception(e\u001b[38;5;241m.\u001b[39mjava_exception)\n\u001b[1;32m    114\u001b[0m \u001b[38;5;28;01mif\u001b[39;00m \u001b[38;5;129;01mnot\u001b[39;00m \u001b[38;5;28misinstance\u001b[39m(converted, UnknownException):\n\u001b[1;32m    115\u001b[0m     \u001b[38;5;66;03m# Hide where the exception came from that shows a non-Pythonic\u001b[39;00m\n\u001b[1;32m    116\u001b[0m     \u001b[38;5;66;03m# JVM exception message.\u001b[39;00m\n\u001b[0;32m--> 117\u001b[0m     \u001b[38;5;28;01mraise\u001b[39;00m converted \u001b[38;5;28;01mfrom\u001b[39;00m \u001b[38;5;28mNone\u001b[39m\n\u001b[1;32m    118\u001b[0m \u001b[38;5;28;01melse\u001b[39;00m:\n\u001b[1;32m    119\u001b[0m     \u001b[38;5;28;01mraise\u001b[39;00m\n",
      "\u001b[0;31mAnalysisException\u001b[0m: cannot resolve 'Diabetes_012' given input columns: [AnyHealthcare, CholCheck, Diabetes, DiffWalk, Fruits, HeartDiseaseorAttack, HighBP, HighChol, HvyAlcoholConsump, NoDocbcCost, PhysActivity, Sex, Smoker, Stroke, Unnamed: 0, Veggies];\n'Project [Unnamed: 0#455, Diabetes#3097, HighBP#489, HighChol#506, CholCheck#523, Smoker#540, Stroke#557, HeartDiseaseorAttack#574, PhysActivity#591, Fruits#608, Veggies#625, HvyAlcoholConsump#642, AnyHealthcare#659, NoDocbcCost#676, DiffWalk#693, Sex#710, CASE WHEN ('Diabetes_012 = 2) THEN 1 ELSE 0 END AS Diabetes_012#3136]\n+- Project [Unnamed: 0#455, Diabetes_012#3080 AS Diabetes#3097, HighBP#489, HighChol#506, CholCheck#523, Smoker#540, Stroke#557, HeartDiseaseorAttack#574, PhysActivity#591, Fruits#608, Veggies#625, HvyAlcoholConsump#642, AnyHealthcare#659, NoDocbcCost#676, DiffWalk#693, Sex#710]\n   +- Project [Unnamed: 0#455, CASE WHEN (cast(Diabetes_012#2909 as int) = 2) THEN 1 ELSE 0 END AS Diabetes_012#3080, HighBP#489, HighChol#506, CholCheck#523, Smoker#540, Stroke#557, HeartDiseaseorAttack#574, PhysActivity#591, Fruits#608, Veggies#625, HvyAlcoholConsump#642, AnyHealthcare#659, NoDocbcCost#676, DiffWalk#693, Sex#710]\n      +- Project [Unnamed: 0#455, CASE WHEN cast(Diabetes_012#2892 as string) IN (cast(0 as string),cast(1 as string)) THEN cast(0 as string) WHEN cast(Diabetes_012#2892 as string) IN (cast(2 as string)) THEN cast(1 as string) ELSE Diabetes_012#2892 END AS Diabetes_012#2909, HighBP#489, HighChol#506, CholCheck#523, Smoker#540, Stroke#557, HeartDiseaseorAttack#574, PhysActivity#591, Fruits#608, Veggies#625, HvyAlcoholConsump#642, AnyHealthcare#659, NoDocbcCost#676, DiffWalk#693, Sex#710]\n         +- Project [Unnamed: 0#455, CASE WHEN cast(Diabetes_012#472 as string) IN (cast(0 as string),cast(1 as string)) THEN cast(0 as string) WHEN cast(Diabetes_012#472 as string) IN (cast(2 as string)) THEN cast(1 as string) ELSE Diabetes_012#472 END AS Diabetes_012#2892, HighBP#489, HighChol#506, CholCheck#523, Smoker#540, Stroke#557, HeartDiseaseorAttack#574, PhysActivity#591, Fruits#608, Veggies#625, HvyAlcoholConsump#642, AnyHealthcare#659, NoDocbcCost#676, DiffWalk#693, Sex#710]\n            +- Project [Unnamed: 0#455, Diabetes_012#472, HighBP#489, HighChol#506, CholCheck#523, Smoker#540, Stroke#557, HeartDiseaseorAttack#574, PhysActivity#591, Fruits#608, Veggies#625, HvyAlcoholConsump#642, AnyHealthcare#659, NoDocbcCost#676, DiffWalk#693, CASE WHEN Sex#31 IN (no,NO,N,No) THEN cast(0 as string) WHEN Sex#31 IN (yes,YES,Y,Yes) THEN cast(1 as string) ELSE Sex#31 END AS Sex#710]\n               +- Project [Unnamed: 0#455, Diabetes_012#472, HighBP#489, HighChol#506, CholCheck#523, Smoker#540, Stroke#557, HeartDiseaseorAttack#574, PhysActivity#591, Fruits#608, Veggies#625, HvyAlcoholConsump#642, AnyHealthcare#659, NoDocbcCost#676, CASE WHEN DiffWalk#30 IN (no,NO,N,No) THEN cast(0 as string) WHEN DiffWalk#30 IN (yes,YES,Y,Yes) THEN cast(1 as string) ELSE DiffWalk#30 END AS DiffWalk#693, Sex#31]\n                  +- Project [Unnamed: 0#455, Diabetes_012#472, HighBP#489, HighChol#506, CholCheck#523, Smoker#540, Stroke#557, HeartDiseaseorAttack#574, PhysActivity#591, Fruits#608, Veggies#625, HvyAlcoholConsump#642, AnyHealthcare#659, CASE WHEN NoDocbcCost#29 IN (no,NO,N,No) THEN cast(0 as string) WHEN NoDocbcCost#29 IN (yes,YES,Y,Yes) THEN cast(1 as string) ELSE NoDocbcCost#29 END AS NoDocbcCost#676, DiffWalk#30, Sex#31]\n                     +- Project [Unnamed: 0#455, Diabetes_012#472, HighBP#489, HighChol#506, CholCheck#523, Smoker#540, Stroke#557, HeartDiseaseorAttack#574, PhysActivity#591, Fruits#608, Veggies#625, HvyAlcoholConsump#642, CASE WHEN AnyHealthcare#28 IN (no,NO,N,No) THEN cast(0 as string) WHEN AnyHealthcare#28 IN (yes,YES,Y,Yes) THEN cast(1 as string) ELSE AnyHealthcare#28 END AS AnyHealthcare#659, NoDocbcCost#29, DiffWalk#30, Sex#31]\n                        +- Project [Unnamed: 0#455, Diabetes_012#472, HighBP#489, HighChol#506, CholCheck#523, Smoker#540, Stroke#557, HeartDiseaseorAttack#574, PhysActivity#591, Fruits#608, Veggies#625, CASE WHEN HvyAlcoholConsump#27 IN (no,NO,N,No) THEN cast(0 as string) WHEN HvyAlcoholConsump#27 IN (yes,YES,Y,Yes) THEN cast(1 as string) ELSE HvyAlcoholConsump#27 END AS HvyAlcoholConsump#642, AnyHealthcare#28, NoDocbcCost#29, DiffWalk#30, Sex#31]\n                           +- Project [Unnamed: 0#455, Diabetes_012#472, HighBP#489, HighChol#506, CholCheck#523, Smoker#540, Stroke#557, HeartDiseaseorAttack#574, PhysActivity#591, Fruits#608, CASE WHEN Veggies#26 IN (no,NO,N,No) THEN cast(0 as string) WHEN Veggies#26 IN (yes,YES,Y,Yes) THEN cast(1 as string) ELSE Veggies#26 END AS Veggies#625, HvyAlcoholConsump#27, AnyHealthcare#28, NoDocbcCost#29, DiffWalk#30, Sex#31]\n                              +- Project [Unnamed: 0#455, Diabetes_012#472, HighBP#489, HighChol#506, CholCheck#523, Smoker#540, Stroke#557, HeartDiseaseorAttack#574, PhysActivity#591, CASE WHEN Fruits#25 IN (no,NO,N,No) THEN cast(0 as string) WHEN Fruits#25 IN (yes,YES,Y,Yes) THEN cast(1 as string) ELSE Fruits#25 END AS Fruits#608, Veggies#26, HvyAlcoholConsump#27, AnyHealthcare#28, NoDocbcCost#29, DiffWalk#30, Sex#31]\n                                 +- Project [Unnamed: 0#455, Diabetes_012#472, HighBP#489, HighChol#506, CholCheck#523, Smoker#540, Stroke#557, HeartDiseaseorAttack#574, CASE WHEN PhysActivity#24 IN (no,NO,N,No) THEN cast(0 as string) WHEN PhysActivity#24 IN (yes,YES,Y,Yes) THEN cast(1 as string) ELSE PhysActivity#24 END AS PhysActivity#591, Fruits#25, Veggies#26, HvyAlcoholConsump#27, AnyHealthcare#28, NoDocbcCost#29, DiffWalk#30, Sex#31]\n                                    +- Project [Unnamed: 0#455, Diabetes_012#472, HighBP#489, HighChol#506, CholCheck#523, Smoker#540, Stroke#557, CASE WHEN HeartDiseaseorAttack#23 IN (no,NO,N,No) THEN cast(0 as string) WHEN HeartDiseaseorAttack#23 IN (yes,YES,Y,Yes) THEN cast(1 as string) ELSE HeartDiseaseorAttack#23 END AS HeartDiseaseorAttack#574, PhysActivity#24, Fruits#25, Veggies#26, HvyAlcoholConsump#27, AnyHealthcare#28, NoDocbcCost#29, DiffWalk#30, Sex#31]\n                                       +- Project [Unnamed: 0#455, Diabetes_012#472, HighBP#489, HighChol#506, CholCheck#523, Smoker#540, CASE WHEN Stroke#22 IN (no,NO,N,No) THEN cast(0 as string) WHEN Stroke#22 IN (yes,YES,Y,Yes) THEN cast(1 as string) ELSE Stroke#22 END AS Stroke#557, HeartDiseaseorAttack#23, PhysActivity#24, Fruits#25, Veggies#26, HvyAlcoholConsump#27, AnyHealthcare#28, NoDocbcCost#29, DiffWalk#30, Sex#31]\n                                          +- Project [Unnamed: 0#455, Diabetes_012#472, HighBP#489, HighChol#506, CholCheck#523, CASE WHEN Smoker#21 IN (no,NO,N,No) THEN cast(0 as string) WHEN Smoker#21 IN (yes,YES,Y,Yes) THEN cast(1 as string) ELSE Smoker#21 END AS Smoker#540, Stroke#22, HeartDiseaseorAttack#23, PhysActivity#24, Fruits#25, Veggies#26, HvyAlcoholConsump#27, AnyHealthcare#28, NoDocbcCost#29, DiffWalk#30, Sex#31]\n                                             +- Project [Unnamed: 0#455, Diabetes_012#472, HighBP#489, HighChol#506, CASE WHEN CholCheck#20 IN (no,NO,N,No) THEN cast(0 as string) WHEN CholCheck#20 IN (yes,YES,Y,Yes) THEN cast(1 as string) ELSE CholCheck#20 END AS CholCheck#523, Smoker#21, Stroke#22, HeartDiseaseorAttack#23, PhysActivity#24, Fruits#25, Veggies#26, HvyAlcoholConsump#27, AnyHealthcare#28, NoDocbcCost#29, DiffWalk#30, Sex#31]\n                                                +- Project [Unnamed: 0#455, Diabetes_012#472, HighBP#489, CASE WHEN HighChol#19 IN (no,NO,N,No) THEN cast(0 as string) WHEN HighChol#19 IN (yes,YES,Y,Yes) THEN cast(1 as string) ELSE HighChol#19 END AS HighChol#506, CholCheck#20, Smoker#21, Stroke#22, HeartDiseaseorAttack#23, PhysActivity#24, Fruits#25, Veggies#26, HvyAlcoholConsump#27, AnyHealthcare#28, NoDocbcCost#29, DiffWalk#30, Sex#31]\n                                                   +- Project [Unnamed: 0#455, Diabetes_012#472, CASE WHEN HighBP#18 IN (no,NO,N,No) THEN cast(0 as string) WHEN HighBP#18 IN (yes,YES,Y,Yes) THEN cast(1 as string) ELSE HighBP#18 END AS HighBP#489, HighChol#19, CholCheck#20, Smoker#21, Stroke#22, HeartDiseaseorAttack#23, PhysActivity#24, Fruits#25, Veggies#26, HvyAlcoholConsump#27, AnyHealthcare#28, NoDocbcCost#29, DiffWalk#30, Sex#31]\n                                                      +- Project [Unnamed: 0#455, CASE WHEN Diabetes_012#17 IN (no,NO,N,No) THEN cast(0 as string) WHEN Diabetes_012#17 IN (yes,YES,Y,Yes) THEN cast(1 as string) ELSE Diabetes_012#17 END AS Diabetes_012#472, HighBP#18, HighChol#19, CholCheck#20, Smoker#21, Stroke#22, HeartDiseaseorAttack#23, PhysActivity#24, Fruits#25, Veggies#26, HvyAlcoholConsump#27, AnyHealthcare#28, NoDocbcCost#29, DiffWalk#30, Sex#31]\n                                                         +- Project [CASE WHEN Unnamed: 0#16 IN (no,NO,N,No) THEN cast(0 as string) WHEN Unnamed: 0#16 IN (yes,YES,Y,Yes) THEN cast(1 as string) ELSE Unnamed: 0#16 END AS Unnamed: 0#455, Diabetes_012#17, HighBP#18, HighChol#19, CholCheck#20, Smoker#21, Stroke#22, HeartDiseaseorAttack#23, PhysActivity#24, Fruits#25, Veggies#26, HvyAlcoholConsump#27, AnyHealthcare#28, NoDocbcCost#29, DiffWalk#30, Sex#31]\n                                                            +- Filter atleastnnonnulls(16, Unnamed: 0#16, Diabetes_012#17, HighBP#18, HighChol#19, CholCheck#20, Smoker#21, Stroke#22, HeartDiseaseorAttack#23, PhysActivity#24, Fruits#25, Veggies#26, HvyAlcoholConsump#27, AnyHealthcare#28, NoDocbcCost#29, DiffWalk#30, Sex#31)\n                                                               +- Relation [Unnamed: 0#16,Diabetes_012#17,HighBP#18,HighChol#19,CholCheck#20,Smoker#21,Stroke#22,HeartDiseaseorAttack#23,PhysActivity#24,Fruits#25,Veggies#26,HvyAlcoholConsump#27,AnyHealthcare#28,NoDocbcCost#29,DiffWalk#30,Sex#31] csv\n"
     ]
    }
   ],
   "source": [
    "df_1 = df_1.withColumn(\"Diabetes_012\", when(col(\"Diabetes_012\") == 2, 1).otherwise(0))\n",
    "df_1 = df_1.withColumnRenamed(\"Diabetes_012\", \"Diabetes\")\n",
    "df_1.select(['Diabetes']).show()"
   ]
  },
  {
   "cell_type": "code",
   "execution_count": null,
   "id": "79f0a8b7",
   "metadata": {},
   "outputs": [],
   "source": [
    "# spark.catalog.clearCache()\n",
    "# import os\n",
    "# os.remove('binary_data.csv')\n",
    "# os.remove('nominal_data.csv')"
   ]
  },
  {
   "cell_type": "code",
   "execution_count": null,
   "id": "cdf43384",
   "metadata": {},
   "outputs": [],
   "source": [
    "# df_1.write.mode('overwrite').csv('binary_data.csv')\n",
    "# df_2.write.mode('overwrite').csv('nominal_data.csv')"
   ]
  },
  {
   "cell_type": "code",
   "execution_count": null,
   "id": "39ad80e4",
   "metadata": {},
   "outputs": [],
   "source": [
    "# output_path = 'binary_data.csv'\n",
    "\n",
    "# df_1.write.csv(path=output_path, mode='overwrite', header=True)"
   ]
  }
 ],
 "metadata": {
  "kernelspec": {
   "display_name": "Python 3 (ipykernel)",
   "language": "python",
   "name": "python3"
  },
  "language_info": {
   "codemirror_mode": {
    "name": "ipython",
    "version": 3
   },
   "file_extension": ".py",
   "mimetype": "text/x-python",
   "name": "python",
   "nbconvert_exporter": "python",
   "pygments_lexer": "ipython3",
   "version": "3.10.4"
  }
 },
 "nbformat": 4,
 "nbformat_minor": 5
}
