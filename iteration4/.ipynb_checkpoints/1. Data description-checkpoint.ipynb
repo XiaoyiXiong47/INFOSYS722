{
 "cells": [
  {
   "cell_type": "code",
   "execution_count": 11,
   "id": "cd07bc5d",
   "metadata": {},
   "outputs": [],
   "source": [
    "import findspark\n",
    "# findspark.init('/home/ubuntu/spark-3.2.1-bin-hadoop2.7')\n",
    "findspark.init('../spark-3.2.1-bin-hadoop2.7')\n",
    "import pyspark\n",
    "from pyspark.sql import SparkSession\n",
    "spark = SparkSession.builder.appName('basics').getOrCreate()"
   ]
  },
  {
   "cell_type": "code",
   "execution_count": 12,
   "id": "cbd3698e",
   "metadata": {},
   "outputs": [
    {
     "name": "stderr",
     "output_type": "stream",
     "text": [
      "                                                                                \r"
     ]
    }
   ],
   "source": [
    "file = 'diabetes_012_health_indicators_BRFSS2015.csv'\n",
    "df = spark.read.csv(file, header=True, inferSchema=True)"
   ]
  },
  {
   "cell_type": "code",
   "execution_count": 13,
   "id": "eb422b10",
   "metadata": {},
   "outputs": [
    {
     "name": "stdout",
     "output_type": "stream",
     "text": [
      "root\n",
      " |-- Diabetes_012: double (nullable = true)\n",
      " |-- HighBP: double (nullable = true)\n",
      " |-- HighChol: double (nullable = true)\n",
      " |-- CholCheck: double (nullable = true)\n",
      " |-- BMI: double (nullable = true)\n",
      " |-- Smoker: double (nullable = true)\n",
      " |-- Stroke: double (nullable = true)\n",
      " |-- HeartDiseaseorAttack: double (nullable = true)\n",
      " |-- PhysActivity: double (nullable = true)\n",
      " |-- Fruits: double (nullable = true)\n",
      " |-- Veggies: double (nullable = true)\n",
      " |-- HvyAlcoholConsump: double (nullable = true)\n",
      " |-- AnyHealthcare: double (nullable = true)\n",
      " |-- NoDocbcCost: double (nullable = true)\n",
      " |-- GenHlth: double (nullable = true)\n",
      " |-- MentHlth: double (nullable = true)\n",
      " |-- PhysHlth: double (nullable = true)\n",
      " |-- DiffWalk: double (nullable = true)\n",
      " |-- Sex: double (nullable = true)\n",
      " |-- Age: double (nullable = true)\n",
      " |-- Education: double (nullable = true)\n",
      " |-- Income: double (nullable = true)\n",
      "\n"
     ]
    }
   ],
   "source": [
    "df.printSchema()"
   ]
  },
  {
   "cell_type": "code",
   "execution_count": 14,
   "id": "f4aa85f9",
   "metadata": {},
   "outputs": [],
   "source": [
    "binary_cols = ['Diabetes_012', 'HighBP', 'HighChol', 'CholCheck',\n",
    "       'Smoker', 'Stroke', 'HeartDiseaseorAttack', 'PhysActivity', 'Fruits',\n",
    "       'Veggies', 'HvyAlcoholConsump', 'AnyHealthcare', 'NoDocbcCost',\n",
    "       'DiffWalk', 'Sex']\n",
    "nominal_cols = ['BMI', 'GenHlth', 'MentHlth', 'PhysHlth', 'Age',\n",
    "       'Education', 'Income']"
   ]
  },
  {
   "cell_type": "code",
   "execution_count": 15,
   "id": "14798e29",
   "metadata": {
    "scrolled": true
   },
   "outputs": [
    {
     "name": "stderr",
     "output_type": "stream",
     "text": [
      "                                                                                \r"
     ]
    },
    {
     "name": "stdout",
     "output_type": "stream",
     "text": [
      "+-------+-------------------+-------------------+-------------------+-------------------+-------------------+\n",
      "|summary|       Diabetes_012|             HighBP|           HighChol|          CholCheck|             Smoker|\n",
      "+-------+-------------------+-------------------+-------------------+-------------------+-------------------+\n",
      "|  count|             253680|             253680|             253680|             253680|             253680|\n",
      "|   mean|0.29692131819615264| 0.4290011037527594| 0.4241209397666351| 0.9626695048880479|0.44316855881425415|\n",
      "| stddev| 0.6981597284090991|0.49493446268990043|0.49420980465688596|0.18957075436272514| 0.4967606667785607|\n",
      "|    min|                0.0|                0.0|                0.0|                0.0|                0.0|\n",
      "|    25%|                0.0|                0.0|                0.0|                1.0|                0.0|\n",
      "|    50%|                0.0|                0.0|                0.0|                1.0|                0.0|\n",
      "|    75%|                0.0|                1.0|                1.0|                1.0|                1.0|\n",
      "|    max|                2.0|                1.0|                1.0|                1.0|                1.0|\n",
      "+-------+-------------------+-------------------+-------------------+-------------------+-------------------+\n",
      "\n"
     ]
    },
    {
     "name": "stderr",
     "output_type": "stream",
     "text": [
      "                                                                                \r"
     ]
    },
    {
     "name": "stdout",
     "output_type": "stream",
     "text": [
      "+-------+-------------------+--------------------+------------------+-------------------+-------------------+\n",
      "|summary|             Stroke|HeartDiseaseorAttack|      PhysActivity|             Fruits|            Veggies|\n",
      "+-------+-------------------+--------------------+------------------+-------------------+-------------------+\n",
      "|  count|             253680|              253680|            253680|             253680|             253680|\n",
      "|   mean|0.04057079785556607| 0.09418558814254178|0.7565436770734784| 0.6342557552822453|  0.811419899085462|\n",
      "| stddev| 0.1972940994001612|  0.2920873147507536|0.4291690433970471|0.48163918717043364|0.39117547168449085|\n",
      "|    min|                0.0|                 0.0|               0.0|                0.0|                0.0|\n",
      "|    25%|                0.0|                 0.0|               1.0|                0.0|                1.0|\n",
      "|    50%|                0.0|                 0.0|               1.0|                1.0|                1.0|\n",
      "|    75%|                0.0|                 0.0|               1.0|                1.0|                1.0|\n",
      "|    max|                1.0|                 1.0|               1.0|                1.0|                1.0|\n",
      "+-------+-------------------+--------------------+------------------+-------------------+-------------------+\n",
      "\n"
     ]
    },
    {
     "name": "stderr",
     "output_type": "stream",
     "text": [
      "                                                                                \r"
     ]
    },
    {
     "name": "stdout",
     "output_type": "stream",
     "text": [
      "+-------+-------------------+-------------------+-------------------+-------------------+-------------------+\n",
      "|summary|  HvyAlcoholConsump|      AnyHealthcare|        NoDocbcCost|           DiffWalk|                Sex|\n",
      "+-------+-------------------+-------------------+-------------------+-------------------+-------------------+\n",
      "|  count|             253680|             253680|             253680|             253680|             253680|\n",
      "|   mean|0.05619678334910123| 0.9510525070955534|0.08417691579943236|0.16822374645222327| 0.4403421633554084|\n",
      "| stddev| 0.2303017888952299|0.21575870631073912|0.27765350085762547| 0.3740655947328013|0.49642916311850416|\n",
      "|    min|                0.0|                0.0|                0.0|                0.0|                0.0|\n",
      "|    25%|                0.0|                1.0|                0.0|                0.0|                0.0|\n",
      "|    50%|                0.0|                1.0|                0.0|                0.0|                0.0|\n",
      "|    75%|                0.0|                1.0|                0.0|                0.0|                1.0|\n",
      "|    max|                1.0|                1.0|                1.0|                1.0|                1.0|\n",
      "+-------+-------------------+-------------------+-------------------+-------------------+-------------------+\n",
      "\n"
     ]
    },
    {
     "name": "stderr",
     "output_type": "stream",
     "text": [
      "                                                                                \r"
     ]
    },
    {
     "name": "stdout",
     "output_type": "stream",
     "text": [
      "+-------+------------------+------------------+------------------+------------------+\n",
      "|summary|               BMI|           GenHlth|          MentHlth|          PhysHlth|\n",
      "+-------+------------------+------------------+------------------+------------------+\n",
      "|  count|            253680|            253680|            253680|            253680|\n",
      "|   mean|28.382363607694735|2.5113923052664773|3.1847721538946705|4.2420805739514345|\n",
      "| stddev| 6.608694201406001| 1.068477362280392| 7.412846696196214| 8.717951307175158|\n",
      "|    min|              12.0|               1.0|               0.0|               0.0|\n",
      "|    25%|              24.0|               2.0|               0.0|               0.0|\n",
      "|    50%|              27.0|               2.0|               0.0|               0.0|\n",
      "|    75%|              31.0|               3.0|               2.0|               3.0|\n",
      "|    max|              98.0|               5.0|              30.0|              30.0|\n",
      "+-------+------------------+------------------+------------------+------------------+\n",
      "\n"
     ]
    },
    {
     "name": "stderr",
     "output_type": "stream",
     "text": [
      "                                                                                \r"
     ]
    },
    {
     "name": "stdout",
     "output_type": "stream",
     "text": [
      "+-------+------------------+------------------+-----------------+\n",
      "|summary|               Age|         Education|           Income|\n",
      "+-------+------------------+------------------+-----------------+\n",
      "|  count|            253680|            253680|           253680|\n",
      "|   mean| 8.032119205298013| 5.050433617155472|6.053874960580258|\n",
      "| stddev|3.0542204341684855|0.9857741757276508|2.071147566271524|\n",
      "|    min|               1.0|               1.0|              1.0|\n",
      "|    25%|               6.0|               4.0|              5.0|\n",
      "|    50%|               8.0|               5.0|              7.0|\n",
      "|    75%|              10.0|               6.0|              8.0|\n",
      "|    max|              13.0|               6.0|              8.0|\n",
      "+-------+------------------+------------------+-----------------+\n",
      "\n"
     ]
    }
   ],
   "source": [
    "df.select(binary_cols[0:5]).summary().show()\n",
    "df.select(binary_cols[5:10]).summary().show()\n",
    "df.select(binary_cols[10:15]).summary().show()\n",
    "df.select(nominal_cols[0:4]).summary().show()\n",
    "df.select(nominal_cols[4:7]).summary().show()"
   ]
  },
  {
   "cell_type": "code",
   "execution_count": 16,
   "id": "e1babe12",
   "metadata": {},
   "outputs": [],
   "source": [
    "import pandas as pd\n",
    "import matplotlib.pyplot as plt\n",
    "import seaborn as sns"
   ]
  },
  {
   "cell_type": "markdown",
   "id": "85de1aa8",
   "metadata": {},
   "source": [
    "In order to plot using seaborn and matplotlib, the dataframe needs to be transfered into pandas dataframe."
   ]
  },
  {
   "cell_type": "code",
   "execution_count": 17,
   "id": "4937ad7e",
   "metadata": {},
   "outputs": [
    {
     "name": "stderr",
     "output_type": "stream",
     "text": [
      "                                                                                \r"
     ]
    }
   ],
   "source": [
    "df = df.toPandas()\n",
    "df_columns = df.columns\n",
    "df_summary = df.describe().transpose()"
   ]
  },
  {
   "cell_type": "code",
   "execution_count": null,
   "id": "b995498d",
   "metadata": {},
   "outputs": [],
   "source": [
    "#df_summary"
   ]
  },
  {
   "cell_type": "code",
   "execution_count": 18,
   "id": "0a7a261a",
   "metadata": {},
   "outputs": [
    {
     "data": {
      "image/png": "[encoded data removed]",
      "text/plain": [
       "<Figure size 720x504 with 1 Axes>"
      ]
     },
     "metadata": {
      "needs_background": "light"
     },
     "output_type": "display_data"
    }
   ],
   "source": [
    "# Distribtuion for target variable Diabetes_012\n",
    "fig, ax1 = plt.subplots(figsize=(10,7))\n",
    "graph = sns.countplot(ax=ax1,x='Diabetes_012', data=df)\n",
    "graph.set_title(\"Distribtuion for variable Diabetes_012\")\n",
    "graph.set_xticklabels(graph.get_xticklabels())\n",
    "i=0\n",
    "for p in graph.patches:\n",
    "    height = p.get_height()\n",
    "    graph.text(p.get_x()+p.get_width()/2., height + 0.1,\n",
    "    df['Diabetes_012'].value_counts()[i],ha=\"center\")\n",
    "    i += 1"
   ]
  },
  {
   "cell_type": "code",
   "execution_count": 19,
   "id": "dfec8a57",
   "metadata": {},
   "outputs": [],
   "source": [
    "df_1 = df[binary_cols] # binary variables\n",
    "df_2 = df[nominal_cols] # nominal variables"
   ]
  },
  {
   "cell_type": "code",
   "execution_count": 20,
   "id": "7d0c47f8",
   "metadata": {},
   "outputs": [
    {
     "data": {
      "image/png": "[encoded data removed]",
      "text/plain": [
       "<Figure size 864x576 with 15 Axes>"
      ]
     },
     "metadata": {
      "needs_background": "light"
     },
     "output_type": "display_data"
    }
   ],
   "source": [
    "# distribution plots for binary variables\n",
    "fig, axs = plt.subplots(nrows=3, ncols=5,figsize=(12, 8))\n",
    "a = axs.ravel()\n",
    "df_1_columns = df_1.columns\n",
    "for idx, ax in enumerate(a):\n",
    "    ax.bar(df_1.iloc[:,idx].value_counts().keys().tolist(), df_1.iloc[:,idx].value_counts().tolist())\n",
    "    ax.set_title(df_1_columns[idx])\n",
    "plt.tight_layout()"
   ]
  },
  {
   "cell_type": "code",
   "execution_count": null,
   "id": "1ce62935",
   "metadata": {},
   "outputs": [],
   "source": [
    "# Spark to Pandas\n",
    "#df_pd = df.toPandas()\n",
    "\n",
    "# Pandas to Spark\n",
    "#df_sp = spark_session.createDataFrame(df_pd)"
   ]
  },
  {
   "cell_type": "code",
   "execution_count": 21,
   "id": "2c3a601a",
   "metadata": {},
   "outputs": [
    {
     "data": {
      "image/png": "[encoded data removed]",
      "text/plain": [
       "<Figure size 864x576 with 8 Axes>"
      ]
     },
     "metadata": {
      "needs_background": "light"
     },
     "output_type": "display_data"
    }
   ],
   "source": [
    "# distribution for categorial varibles\n",
    "f,a = plt.subplots(nrows=2,ncols=4, figsize=(12, 8))\n",
    "a = a.ravel()\n",
    "df_2_columns = df_2.columns\n",
    "for idx,ax in enumerate(a):\n",
    "    try:\n",
    "        ax.hist(df_2.iloc[:,idx])\n",
    "        ax.set_title(df_2_columns[idx])\n",
    "    except IndexError:\n",
    "        pass\n",
    "plt.tight_layout()"
   ]
  },
  {
   "cell_type": "markdown",
   "id": "afc16a7d",
   "metadata": {},
   "source": [
    "## Execute the \"make_data_dirty.py\" python file now to randomly creates messy data"
   ]
  },
  {
   "cell_type": "markdown",
   "id": "a8f20adb",
   "metadata": {},
   "source": [
    "## Now have a look at the dirty data:"
   ]
  },
  {
   "cell_type": "code",
   "execution_count": 23,
   "id": "45df3ffa",
   "metadata": {},
   "outputs": [
    {
     "name": "stderr",
     "output_type": "stream",
     "text": [
      "                                                                                \r"
     ]
    }
   ],
   "source": [
    "df_dirty_1 = spark.read.csv('binary_data.csv', header=True, inferSchema=True)\n",
    "df_dirty_2 = spark.read.csv('nominal_data.csv', header=True, inferSchema=True)"
   ]
  },
  {
   "cell_type": "code",
   "execution_count": 24,
   "id": "574d9f2b",
   "metadata": {},
   "outputs": [
    {
     "name": "stderr",
     "output_type": "stream",
     "text": [
      "                                                                                \r"
     ]
    },
    {
     "data": {
      "image/png": "[encoded data removed]",
      "text/plain": [
       "<Figure size 720x504 with 1 Axes>"
      ]
     },
     "metadata": {
      "needs_background": "light"
     },
     "output_type": "display_data"
    }
   ],
   "source": [
    "df_1_pd = df_dirty_1.toPandas()\n",
    "# Distribtuion for target variable Diabetes_012\n",
    "fig, ax1 = plt.subplots(figsize=(10,7))\n",
    "graph = sns.countplot(ax=ax1,x='Diabetes_012', data=df_1_pd)\n",
    "graph.set_title(\"Distribtuion for variable Diabetes_012\")\n",
    "graph.set_xticklabels(graph.get_xticklabels())\n",
    "i=0\n",
    "for p in graph.patches:\n",
    "    height = p.get_height()\n",
    "    graph.text(p.get_x()+p.get_width()/2., height + 0.1,\n",
    "    df_1_pd['Diabetes_012'].value_counts()[i],ha=\"center\")\n",
    "    i += 1"
   ]
  },
  {
   "cell_type": "markdown",
   "id": "78f7844c",
   "metadata": {},
   "source": [
    "Check availbe values for binary data:"
   ]
  },
  {
   "cell_type": "code",
   "execution_count": 25,
   "id": "7f778a5f",
   "metadata": {},
   "outputs": [
    {
     "name": "stdout",
     "output_type": "stream",
     "text": [
      "['Unnamed: 0', 'Diabetes_012', 'HighBP', 'HighChol', 'CholCheck', 'Smoker', 'Stroke', 'HeartDiseaseorAttack', 'PhysActivity', 'Fruits', 'Veggies', 'HvyAlcoholConsump', 'AnyHealthcare', 'NoDocbcCost', 'DiffWalk', 'Sex']\n"
     ]
    },
    {
     "name": "stderr",
     "output_type": "stream",
     "text": [
      "                                                                                \r"
     ]
    },
    {
     "name": "stdout",
     "output_type": "stream",
     "text": [
      "+-------+-----------------+-------------------+------------------+------------------+------------------+\n",
      "|summary|       Unnamed: 0|       Diabetes_012|            HighBP|          HighChol|         CholCheck|\n",
      "+-------+-----------------+-------------------+------------------+------------------+------------------+\n",
      "|  count|           253680|             253415|            253425|            253427|            253415|\n",
      "|   mean|         126839.5|0.29719556029545363| 0.428920668396504|0.4241526545089721|0.9626559130441652|\n",
      "| stddev|73231.25248143719| 0.6984264378356645|0.4949229192705167|0.4942146749439578|0.1896039243115853|\n",
      "|    min|                0|                0.0|               0.0|               0.0|               0.0|\n",
      "|    25%|            63404|                0.0|               0.0|               0.0|               1.0|\n",
      "|    50%|           126829|                0.0|               0.0|               0.0|               1.0|\n",
      "|    75%|           190237|                0.0|               1.0|               1.0|               1.0|\n",
      "|    max|           253679|                yes|               yes|               yes|               yes|\n",
      "+-------+-----------------+-------------------+------------------+------------------+------------------+\n",
      "\n"
     ]
    },
    {
     "name": "stderr",
     "output_type": "stream",
     "text": [
      "                                                                                \r"
     ]
    },
    {
     "name": "stdout",
     "output_type": "stream",
     "text": [
      "+-------+-------------------+------------------+--------------------+------------------+------------------+\n",
      "|summary|             Smoker|            Stroke|HeartDiseaseorAttack|      PhysActivity|            Fruits|\n",
      "+-------+-------------------+------------------+--------------------+------------------+------------------+\n",
      "|  count|             253429|            253427|              253436|            253428|            253425|\n",
      "|   mean|0.44315317948758465|0.0405784392725664| 0.09416941172753197|0.7565185790860361|0.6342795751588809|\n",
      "| stddev| 0.4967589091072881| 0.197311893509848|   0.292064839618872|0.4291840469772156| 0.481632548662639|\n",
      "|    min|                0.0|               0.0|                 0.0|               0.0|               0.0|\n",
      "|    25%|                0.0|               0.0|                 0.0|               1.0|               0.0|\n",
      "|    50%|                0.0|               0.0|                 0.0|               1.0|               1.0|\n",
      "|    75%|                1.0|               0.0|                 0.0|               1.0|               1.0|\n",
      "|    max|                yes|               yes|                 yes|               yes|               yes|\n",
      "+-------+-------------------+------------------+--------------------+------------------+------------------+\n",
      "\n"
     ]
    },
    {
     "name": "stderr",
     "output_type": "stream",
     "text": [
      "[Stage 33:=============================>                            (1 + 1) / 2]\r"
     ]
    },
    {
     "name": "stdout",
     "output_type": "stream",
     "text": [
      "+-------+------------------+-------------------+------------------+-------------------+------------------+-------------------+\n",
      "|summary|           Veggies|  HvyAlcoholConsump|     AnyHealthcare|        NoDocbcCost|          DiffWalk|                Sex|\n",
      "+-------+------------------+-------------------+------------------+-------------------+------------------+-------------------+\n",
      "|  count|            253449|             253401|            253442|             253408|            253450|             253417|\n",
      "|   mean|0.8113902053712481|0.05619371148680676|0.9510385932482552|0.08416416495496919| 0.168261616540611|0.44033526481891827|\n",
      "| stddev| 0.391199110951668|0.23029587007338487|0.2157877923317471|0.27763440486958685|0.3740991816037101|0.49642833600190855|\n",
      "|    min|               0.0|                0.0|               0.0|                0.0|               0.0|                0.0|\n",
      "|    25%|               1.0|                0.0|               1.0|                0.0|               0.0|                0.0|\n",
      "|    50%|               1.0|                0.0|               1.0|                0.0|               0.0|                0.0|\n",
      "|    75%|               1.0|                0.0|               1.0|                0.0|               0.0|                1.0|\n",
      "|    max|               yes|                yes|               yes|                yes|               yes|                yes|\n",
      "+-------+------------------+-------------------+------------------+-------------------+------------------+-------------------+\n",
      "\n"
     ]
    },
    {
     "name": "stderr",
     "output_type": "stream",
     "text": [
      "\r",
      "                                                                                \r"
     ]
    }
   ],
   "source": [
    "cols_1 = df_dirty_1.columns\n",
    "print(cols_1)\n",
    "df_dirty_1.select(cols_1[0:5]).summary().show()\n",
    "df_dirty_1.select(cols_1[5:10]).summary().show()\n",
    "df_dirty_1.select(cols_1[10:16]).summary().show()"
   ]
  },
  {
   "cell_type": "code",
   "execution_count": 26,
   "id": "873aa369",
   "metadata": {},
   "outputs": [
    {
     "name": "stdout",
     "output_type": "stream",
     "text": [
      "+------------+\n",
      "|Diabetes_012|\n",
      "+------------+\n",
      "|         1.0|\n",
      "|        null|\n",
      "|         0.0|\n",
      "|           N|\n",
      "|          No|\n",
      "|         2.0|\n",
      "|          no|\n",
      "|         yes|\n",
      "|          NO|\n",
      "+------------+\n",
      "\n",
      "+------+\n",
      "|HighBP|\n",
      "+------+\n",
      "|   1.0|\n",
      "|  null|\n",
      "|   0.0|\n",
      "|     Y|\n",
      "|   YES|\n",
      "|     N|\n",
      "|    No|\n",
      "|   Yes|\n",
      "|    no|\n",
      "|   yes|\n",
      "|    NO|\n",
      "+------+\n",
      "\n",
      "+--------+\n",
      "|HighChol|\n",
      "+--------+\n",
      "|     1.0|\n",
      "|    null|\n",
      "|     0.0|\n",
      "|       Y|\n",
      "|     YES|\n",
      "|       N|\n",
      "|      No|\n",
      "|     Yes|\n",
      "|      no|\n",
      "|     yes|\n",
      "|      NO|\n",
      "+--------+\n",
      "\n",
      "+---------+\n",
      "|CholCheck|\n",
      "+---------+\n",
      "|      1.0|\n",
      "|     null|\n",
      "|      0.0|\n",
      "|        Y|\n",
      "|      YES|\n",
      "|        N|\n",
      "|       No|\n",
      "|      Yes|\n",
      "|       no|\n",
      "|      yes|\n",
      "+---------+\n",
      "\n",
      "+------+\n",
      "|Smoker|\n",
      "+------+\n",
      "|   1.0|\n",
      "|  null|\n",
      "|   0.0|\n",
      "|     Y|\n",
      "|   YES|\n",
      "|     N|\n",
      "|    No|\n",
      "|   Yes|\n",
      "|    no|\n",
      "|   yes|\n",
      "|    NO|\n",
      "+------+\n",
      "\n",
      "+------+\n",
      "|Stroke|\n",
      "+------+\n",
      "|   1.0|\n",
      "|  null|\n",
      "|   0.0|\n",
      "|     Y|\n",
      "|   YES|\n",
      "|     N|\n",
      "|    No|\n",
      "|   Yes|\n",
      "|    no|\n",
      "|   yes|\n",
      "|    NO|\n",
      "+------+\n",
      "\n",
      "+--------------------+\n",
      "|HeartDiseaseorAttack|\n",
      "+--------------------+\n",
      "|                 1.0|\n",
      "|                null|\n",
      "|                 0.0|\n",
      "|                   Y|\n",
      "|                 YES|\n",
      "|                   N|\n",
      "|                  No|\n",
      "|                 Yes|\n",
      "|                  no|\n",
      "|                 yes|\n",
      "|                  NO|\n",
      "+--------------------+\n",
      "\n",
      "+------------+\n",
      "|PhysActivity|\n",
      "+------------+\n",
      "|         1.0|\n",
      "|        null|\n",
      "|         0.0|\n",
      "|           Y|\n",
      "|         YES|\n",
      "|           N|\n",
      "|          No|\n",
      "|         Yes|\n",
      "|          no|\n",
      "|         yes|\n",
      "|          NO|\n",
      "+------------+\n",
      "\n",
      "+------+\n",
      "|Fruits|\n",
      "+------+\n",
      "|   1.0|\n",
      "|  null|\n",
      "|   0.0|\n",
      "|     Y|\n",
      "|   YES|\n",
      "|     N|\n",
      "|    No|\n",
      "|   Yes|\n",
      "|    no|\n",
      "|   yes|\n",
      "|    NO|\n",
      "+------+\n",
      "\n",
      "+-------+\n",
      "|Veggies|\n",
      "+-------+\n",
      "|    1.0|\n",
      "|   null|\n",
      "|    0.0|\n",
      "|      Y|\n",
      "|    YES|\n",
      "|      N|\n",
      "|     No|\n",
      "|    Yes|\n",
      "|     no|\n",
      "|    yes|\n",
      "|     NO|\n",
      "+-------+\n",
      "\n",
      "+-----------------+\n",
      "|HvyAlcoholConsump|\n",
      "+-----------------+\n",
      "|              1.0|\n",
      "|             null|\n",
      "|              0.0|\n",
      "|                Y|\n",
      "|              YES|\n",
      "|                N|\n",
      "|               No|\n",
      "|              Yes|\n",
      "|               no|\n",
      "|              yes|\n",
      "|               NO|\n",
      "+-----------------+\n",
      "\n",
      "+-------------+\n",
      "|AnyHealthcare|\n",
      "+-------------+\n",
      "|          1.0|\n",
      "|         null|\n",
      "|          0.0|\n",
      "|            Y|\n",
      "|          YES|\n",
      "|            N|\n",
      "|           No|\n",
      "|          Yes|\n",
      "|           no|\n",
      "|          yes|\n",
      "|           NO|\n",
      "+-------------+\n",
      "\n",
      "+-----------+\n",
      "|NoDocbcCost|\n",
      "+-----------+\n",
      "|        1.0|\n",
      "|       null|\n",
      "|        0.0|\n",
      "|          Y|\n",
      "|        YES|\n",
      "|          N|\n",
      "|         No|\n",
      "|        Yes|\n",
      "|         no|\n",
      "|        yes|\n",
      "|         NO|\n",
      "+-----------+\n",
      "\n",
      "+--------+\n",
      "|DiffWalk|\n",
      "+--------+\n",
      "|     1.0|\n",
      "|    null|\n",
      "|     0.0|\n",
      "|       Y|\n",
      "|     YES|\n",
      "|       N|\n",
      "|      No|\n",
      "|     Yes|\n",
      "|      no|\n",
      "|     yes|\n",
      "|      NO|\n",
      "+--------+\n",
      "\n",
      "+----+\n",
      "| Sex|\n",
      "+----+\n",
      "| 1.0|\n",
      "|null|\n",
      "| 0.0|\n",
      "|   Y|\n",
      "| YES|\n",
      "|   N|\n",
      "|  No|\n",
      "| Yes|\n",
      "|  no|\n",
      "| yes|\n",
      "|  NO|\n",
      "+----+\n",
      "\n"
     ]
    }
   ],
   "source": [
    "for col in binary_cols:\n",
    "    df_dirty_1.select(col).distinct().show()"
   ]
  },
  {
   "cell_type": "code",
   "execution_count": 27,
   "id": "2bdd12ca",
   "metadata": {},
   "outputs": [
    {
     "name": "stderr",
     "output_type": "stream",
     "text": [
      "                                                                                \r"
     ]
    },
    {
     "name": "stdout",
     "output_type": "stream",
     "text": [
      "+-------+-----------------+------------------+-----------------+-----------------+\n",
      "|summary|              BMI|           GenHlth|         MentHlth|         PhysHlth|\n",
      "+-------+-----------------+------------------+-----------------+-----------------+\n",
      "|  count|           253427|            253426|           253410|           253440|\n",
      "|   mean|28.38230733110521| 2.511466858175562|3.185501756047512|4.242262468434343|\n",
      "| stddev|6.607749142592301|1.0685144373068274|7.413876801765888|8.717775783320603|\n",
      "|    min|             12.0|               1.0|              0.0|              0.0|\n",
      "|    25%|             24.0|               2.0|              0.0|              0.0|\n",
      "|    50%|             27.0|               2.0|              0.0|              0.0|\n",
      "|    75%|             31.0|               3.0|              2.0|              3.0|\n",
      "|    max|             98.0|               5.0|             30.0|             30.0|\n",
      "+-------+-----------------+------------------+-----------------+-----------------+\n",
      "\n"
     ]
    },
    {
     "name": "stderr",
     "output_type": "stream",
     "text": [
      "\r",
      "[Stage 84:=============================>                            (1 + 1) / 2]\r"
     ]
    },
    {
     "name": "stdout",
     "output_type": "stream",
     "text": [
      "+-------+------------------+------------------+-----------------+\n",
      "|summary|               Age|         Education|           Income|\n",
      "+-------+------------------+------------------+-----------------+\n",
      "|  count|            253412|            253441|           253430|\n",
      "|   mean|  8.03182564361593| 5.102276269427598|6.113711873101053|\n",
      "| stddev|3.0542540319288025|1.9223584550627644|2.912491844355781|\n",
      "|    min|               1.0|               1.0|              1.0|\n",
      "|    25%|               6.0|               4.0|              5.0|\n",
      "|    50%|               8.0|               5.0|              7.0|\n",
      "|    75%|              10.0|               6.0|              8.0|\n",
      "|    max|              13.0|              66.0|             88.0|\n",
      "+-------+------------------+------------------+-----------------+\n",
      "\n"
     ]
    },
    {
     "name": "stderr",
     "output_type": "stream",
     "text": [
      "\r",
      "                                                                                \r"
     ]
    }
   ],
   "source": [
    "df_dirty_2.select(nominal_cols[0:4]).summary().show()\n",
    "df_dirty_2.select(nominal_cols[4:7]).summary().show()"
   ]
  },
  {
   "cell_type": "code",
   "execution_count": 28,
   "id": "4fed18aa",
   "metadata": {},
   "outputs": [
    {
     "data": {
      "image/png": "[encoded data removed]",
      "text/plain": [
       "<Figure size 432x288 with 1 Axes>"
      ]
     },
     "metadata": {
      "needs_background": "light"
     },
     "output_type": "display_data"
    }
   ],
   "source": [
    "# plot BMI and Diabetes_012 variables\n",
    "plt.scatter(df[\"Diabetes_012\"], df[\"BMI\"],alpha=.3, s=1)\n",
    "plt.title(\"Scatter plot for BMI and target variable\")\n",
    "plt.xlabel(\"Diabetes_0f12\")\n",
    "plt.ylabel(\"BMI\")\n",
    "plt.show()"
   ]
  },
  {
   "cell_type": "code",
   "execution_count": null,
   "id": "13d2cdd2",
   "metadata": {},
   "outputs": [],
   "source": []
  },
  {
   "cell_type": "code",
   "execution_count": null,
   "id": "348d16d3",
   "metadata": {},
   "outputs": [],
   "source": []
  },
  {
   "cell_type": "code",
   "execution_count": null,
   "id": "7cdfe10c",
   "metadata": {},
   "outputs": [],
   "source": []
  },
  {
   "cell_type": "code",
   "execution_count": null,
   "id": "60e87f66",
   "metadata": {},
   "outputs": [],
   "source": []
  }
 ],
 "metadata": {
  "kernelspec": {
   "display_name": "Python 3 (ipykernel)",
   "language": "python",
   "name": "python3"
  },
  "language_info": {
   "codemirror_mode": {
    "name": "ipython",
    "version": 3
   },
   "file_extension": ".py",
   "mimetype": "text/x-python",
   "name": "python",
   "nbconvert_exporter": "python",
   "pygments_lexer": "ipython3",
   "version": "3.10.12"
  }
 },
 "nbformat": 4,
 "nbformat_minor": 5
}
