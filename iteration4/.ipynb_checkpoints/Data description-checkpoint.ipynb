{
 "cells": [
  {
   "cell_type": "code",
   "execution_count": 1,
   "id": "cd07bc5d",
   "metadata": {},
   "outputs": [
    {
     "name": "stderr",
     "output_type": "stream",
     "text": [
      "WARNING: An illegal reflective access operation has occurred\n",
      "WARNING: Illegal reflective access by org.apache.spark.unsafe.Platform (file:/home/ubuntu/spark-3.2.1-bin-hadoop2.7/jars/spark-unsafe_2.12-3.2.1.jar) to constructor java.nio.DirectByteBuffer(long,int)\n",
      "WARNING: Please consider reporting this to the maintainers of org.apache.spark.unsafe.Platform\n",
      "WARNING: Use --illegal-access=warn to enable warnings of further illegal reflective access operations\n",
      "WARNING: All illegal access operations will be denied in a future release\n",
      "Using Spark's default log4j profile: org/apache/spark/log4j-defaults.properties\n",
      "Setting default log level to \"WARN\".\n",
      "To adjust logging level use sc.setLogLevel(newLevel). For SparkR, use setLogLevel(newLevel).\n",
      "24/05/19 22:09:23 WARN NativeCodeLoader: Unable to load native-hadoop library for your platform... using builtin-java classes where applicable\n"
     ]
    }
   ],
   "source": [
    "import findspark\n",
    "findspark.init('/home/ubuntu/spark-3.2.1-bin-hadoop2.7')\n",
    "import pyspark\n",
    "from pyspark.sql import SparkSession\n",
    "spark = SparkSession.builder.appName('basics').getOrCreate()"
   ]
  },
  {
   "cell_type": "code",
   "execution_count": 18,
   "id": "cbd3698e",
   "metadata": {},
   "outputs": [
    {
     "name": "stderr",
     "output_type": "stream",
     "text": [
      "                                                                                \r"
     ]
    }
   ],
   "source": [
    "file = 'diabetes_012_health_indicators_BRFSS2015.csv'\n",
    "df = spark.read.csv(file, header=True, inferSchema=True)"
   ]
  },
  {
   "cell_type": "code",
   "execution_count": 19,
   "id": "eb422b10",
   "metadata": {},
   "outputs": [
    {
     "name": "stdout",
     "output_type": "stream",
     "text": [
      "root\n",
      " |-- Diabetes_012: double (nullable = true)\n",
      " |-- HighBP: double (nullable = true)\n",
      " |-- HighChol: double (nullable = true)\n",
      " |-- CholCheck: double (nullable = true)\n",
      " |-- BMI: double (nullable = true)\n",
      " |-- Smoker: double (nullable = true)\n",
      " |-- Stroke: double (nullable = true)\n",
      " |-- HeartDiseaseorAttack: double (nullable = true)\n",
      " |-- PhysActivity: double (nullable = true)\n",
      " |-- Fruits: double (nullable = true)\n",
      " |-- Veggies: double (nullable = true)\n",
      " |-- HvyAlcoholConsump: double (nullable = true)\n",
      " |-- AnyHealthcare: double (nullable = true)\n",
      " |-- NoDocbcCost: double (nullable = true)\n",
      " |-- GenHlth: double (nullable = true)\n",
      " |-- MentHlth: double (nullable = true)\n",
      " |-- PhysHlth: double (nullable = true)\n",
      " |-- DiffWalk: double (nullable = true)\n",
      " |-- Sex: double (nullable = true)\n",
      " |-- Age: double (nullable = true)\n",
      " |-- Education: double (nullable = true)\n",
      " |-- Income: double (nullable = true)\n",
      "\n"
     ]
    }
   ],
   "source": [
    "df.printSchema()"
   ]
  },
  {
   "cell_type": "code",
   "execution_count": 15,
   "id": "f4aa85f9",
   "metadata": {},
   "outputs": [],
   "source": [
    "binary_cols = ['Diabetes_012', 'HighBP', 'HighChol', 'CholCheck',\n",
    "       'Smoker', 'Stroke', 'HeartDiseaseorAttack', 'PhysActivity', 'Fruits',\n",
    "       'Veggies', 'HvyAlcoholConsump', 'AnyHealthcare', 'NoDocbcCost',\n",
    "       'DiffWalk', 'Sex']\n",
    "nominal_cols = ['BMI', 'GenHlth', 'MentHlth', 'PhysHlth', 'Age',\n",
    "       'Education', 'Income']"
   ]
  },
  {
   "cell_type": "code",
   "execution_count": 20,
   "id": "14798e29",
   "metadata": {},
   "outputs": [
    {
     "name": "stderr",
     "output_type": "stream",
     "text": [
      "                                                                                \r"
     ]
    },
    {
     "name": "stdout",
     "output_type": "stream",
     "text": [
      "+-------+-------------------+-------------------+-------------------+-------------------+-------------------+\n",
      "|summary|       Diabetes_012|             HighBP|           HighChol|          CholCheck|             Smoker|\n",
      "+-------+-------------------+-------------------+-------------------+-------------------+-------------------+\n",
      "|  count|             253680|             253680|             253680|             253680|             253680|\n",
      "|   mean|0.29692131819615264| 0.4290011037527594| 0.4241209397666351| 0.9626695048880479|0.44316855881425415|\n",
      "| stddev| 0.6981597284090991|0.49493446268990043|0.49420980465688596|0.18957075436272514| 0.4967606667785607|\n",
      "|    min|                0.0|                0.0|                0.0|                0.0|                0.0|\n",
      "|    max|                2.0|                1.0|                1.0|                1.0|                1.0|\n",
      "+-------+-------------------+-------------------+-------------------+-------------------+-------------------+\n",
      "\n"
     ]
    },
    {
     "name": "stderr",
     "output_type": "stream",
     "text": [
      "\r",
      "[Stage 14:=============================>                            (1 + 1) / 2]\r",
      "\r",
      "                                                                                \r"
     ]
    },
    {
     "name": "stdout",
     "output_type": "stream",
     "text": [
      "+-------+-------------------+--------------------+------------------+-------------------+-------------------+\n",
      "|summary|             Stroke|HeartDiseaseorAttack|      PhysActivity|             Fruits|            Veggies|\n",
      "+-------+-------------------+--------------------+------------------+-------------------+-------------------+\n",
      "|  count|             253680|              253680|            253680|             253680|             253680|\n",
      "|   mean|0.04057079785556607| 0.09418558814254178|0.7565436770734784| 0.6342557552822453|  0.811419899085462|\n",
      "| stddev| 0.1972940994001612|  0.2920873147507536|0.4291690433970471|0.48163918717043364|0.39117547168449085|\n",
      "|    min|                0.0|                 0.0|               0.0|                0.0|                0.0|\n",
      "|    max|                1.0|                 1.0|               1.0|                1.0|                1.0|\n",
      "+-------+-------------------+--------------------+------------------+-------------------+-------------------+\n",
      "\n",
      "+-------+-------------------+-------------------+-------------------+-------------------+-------------------+\n",
      "|summary|  HvyAlcoholConsump|      AnyHealthcare|        NoDocbcCost|           DiffWalk|                Sex|\n",
      "+-------+-------------------+-------------------+-------------------+-------------------+-------------------+\n",
      "|  count|             253680|             253680|             253680|             253680|             253680|\n",
      "|   mean|0.05619678334910123| 0.9510525070955534|0.08417691579943236|0.16822374645222327| 0.4403421633554084|\n",
      "| stddev| 0.2303017888952299|0.21575870631073912|0.27765350085762547| 0.3740655947328013|0.49642916311850416|\n",
      "|    min|                0.0|                0.0|                0.0|                0.0|                0.0|\n",
      "|    max|                1.0|                1.0|                1.0|                1.0|                1.0|\n",
      "+-------+-------------------+-------------------+-------------------+-------------------+-------------------+\n",
      "\n"
     ]
    },
    {
     "name": "stderr",
     "output_type": "stream",
     "text": [
      "\r",
      "[Stage 20:>                                                         (0 + 2) / 2]\r",
      "\r",
      "                                                                                \r"
     ]
    },
    {
     "name": "stdout",
     "output_type": "stream",
     "text": [
      "+-------+------------------+------------------+------------------+------------------+\n",
      "|summary|               BMI|           GenHlth|          MentHlth|          PhysHlth|\n",
      "+-------+------------------+------------------+------------------+------------------+\n",
      "|  count|            253680|            253680|            253680|            253680|\n",
      "|   mean|28.382363607694735|2.5113923052664773|3.1847721538946705|4.2420805739514345|\n",
      "| stddev| 6.608694201406001| 1.068477362280392| 7.412846696196214| 8.717951307175158|\n",
      "|    min|              12.0|               1.0|               0.0|               0.0|\n",
      "|    max|              98.0|               5.0|              30.0|              30.0|\n",
      "+-------+------------------+------------------+------------------+------------------+\n",
      "\n",
      "+-------+------------------+------------------+-----------------+\n",
      "|summary|               Age|         Education|           Income|\n",
      "+-------+------------------+------------------+-----------------+\n",
      "|  count|            253680|            253680|           253680|\n",
      "|   mean| 8.032119205298013| 5.050433617155472|6.053874960580258|\n",
      "| stddev|3.0542204341684855|0.9857741757276508|2.071147566271524|\n",
      "|    min|               1.0|               1.0|              1.0|\n",
      "|    max|              13.0|               6.0|              8.0|\n",
      "+-------+------------------+------------------+-----------------+\n",
      "\n"
     ]
    },
    {
     "name": "stderr",
     "output_type": "stream",
     "text": [
      "\r",
      "[Stage 23:>                                                         (0 + 2) / 2]\r",
      "\r",
      "                                                                                \r"
     ]
    }
   ],
   "source": [
    "df.describe(binary_cols[0:5]).show()\n",
    "df.describe(binary_cols[5:10]).show()\n",
    "df.describe(binary_cols[10:15]).show()\n",
    "df.describe(nominal_cols[0:4]).show()\n",
    "df.describe(nominal_cols[4:7]).show()"
   ]
  },
  {
   "cell_type": "code",
   "execution_count": 3,
   "id": "e1babe12",
   "metadata": {},
   "outputs": [],
   "source": [
    "import pandas as pd\n",
    "import matplotlib.pyplot as plt\n",
    "import seaborn as sns"
   ]
  },
  {
   "cell_type": "markdown",
   "id": "85de1aa8",
   "metadata": {},
   "source": [
    "In order to plot using seaborn and matplotlib, the dataframe needs to be transfered into pandas dataframe."
   ]
  },
  {
   "cell_type": "code",
   "execution_count": 12,
   "id": "4937ad7e",
   "metadata": {},
   "outputs": [
    {
     "name": "stderr",
     "output_type": "stream",
     "text": [
      "                                                                                \r"
     ]
    }
   ],
   "source": [
    "\n",
    "df = df.toPandas()\n",
    "df_columns = df.columns\n",
    "df_summary = df.describe().transpose()"
   ]
  },
  {
   "cell_type": "code",
   "execution_count": 7,
   "id": "b995498d",
   "metadata": {},
   "outputs": [
    {
     "data": {
      "text/html": [
       "<div>\n",
       "<style scoped>\n",
       "    .dataframe tbody tr th:only-of-type {\n",
       "        vertical-align: middle;\n",
       "    }\n",
       "\n",
       "    .dataframe tbody tr th {\n",
       "        vertical-align: top;\n",
       "    }\n",
       "\n",
       "    .dataframe thead th {\n",
       "        text-align: right;\n",
       "    }\n",
       "</style>\n",
       "<table border=\"1\" class=\"dataframe\">\n",
       "  <thead>\n",
       "    <tr style=\"text-align: right;\">\n",
       "      <th></th>\n",
       "      <th>count</th>\n",
       "      <th>mean</th>\n",
       "      <th>std</th>\n",
       "      <th>min</th>\n",
       "      <th>25%</th>\n",
       "      <th>50%</th>\n",
       "      <th>75%</th>\n",
       "      <th>max</th>\n",
       "    </tr>\n",
       "  </thead>\n",
       "  <tbody>\n",
       "    <tr>\n",
       "      <th>Diabetes_012</th>\n",
       "      <td>253680.0</td>\n",
       "      <td>0.296921</td>\n",
       "      <td>0.698160</td>\n",
       "      <td>0.0</td>\n",
       "      <td>0.0</td>\n",
       "      <td>0.0</td>\n",
       "      <td>0.0</td>\n",
       "      <td>2.0</td>\n",
       "    </tr>\n",
       "    <tr>\n",
       "      <th>HighBP</th>\n",
       "      <td>253680.0</td>\n",
       "      <td>0.429001</td>\n",
       "      <td>0.494934</td>\n",
       "      <td>0.0</td>\n",
       "      <td>0.0</td>\n",
       "      <td>0.0</td>\n",
       "      <td>1.0</td>\n",
       "      <td>1.0</td>\n",
       "    </tr>\n",
       "    <tr>\n",
       "      <th>HighChol</th>\n",
       "      <td>253680.0</td>\n",
       "      <td>0.424121</td>\n",
       "      <td>0.494210</td>\n",
       "      <td>0.0</td>\n",
       "      <td>0.0</td>\n",
       "      <td>0.0</td>\n",
       "      <td>1.0</td>\n",
       "      <td>1.0</td>\n",
       "    </tr>\n",
       "    <tr>\n",
       "      <th>CholCheck</th>\n",
       "      <td>253680.0</td>\n",
       "      <td>0.962670</td>\n",
       "      <td>0.189571</td>\n",
       "      <td>0.0</td>\n",
       "      <td>1.0</td>\n",
       "      <td>1.0</td>\n",
       "      <td>1.0</td>\n",
       "      <td>1.0</td>\n",
       "    </tr>\n",
       "    <tr>\n",
       "      <th>BMI</th>\n",
       "      <td>253680.0</td>\n",
       "      <td>28.382364</td>\n",
       "      <td>6.608694</td>\n",
       "      <td>12.0</td>\n",
       "      <td>24.0</td>\n",
       "      <td>27.0</td>\n",
       "      <td>31.0</td>\n",
       "      <td>98.0</td>\n",
       "    </tr>\n",
       "    <tr>\n",
       "      <th>Smoker</th>\n",
       "      <td>253680.0</td>\n",
       "      <td>0.443169</td>\n",
       "      <td>0.496761</td>\n",
       "      <td>0.0</td>\n",
       "      <td>0.0</td>\n",
       "      <td>0.0</td>\n",
       "      <td>1.0</td>\n",
       "      <td>1.0</td>\n",
       "    </tr>\n",
       "    <tr>\n",
       "      <th>Stroke</th>\n",
       "      <td>253680.0</td>\n",
       "      <td>0.040571</td>\n",
       "      <td>0.197294</td>\n",
       "      <td>0.0</td>\n",
       "      <td>0.0</td>\n",
       "      <td>0.0</td>\n",
       "      <td>0.0</td>\n",
       "      <td>1.0</td>\n",
       "    </tr>\n",
       "    <tr>\n",
       "      <th>HeartDiseaseorAttack</th>\n",
       "      <td>253680.0</td>\n",
       "      <td>0.094186</td>\n",
       "      <td>0.292087</td>\n",
       "      <td>0.0</td>\n",
       "      <td>0.0</td>\n",
       "      <td>0.0</td>\n",
       "      <td>0.0</td>\n",
       "      <td>1.0</td>\n",
       "    </tr>\n",
       "    <tr>\n",
       "      <th>PhysActivity</th>\n",
       "      <td>253680.0</td>\n",
       "      <td>0.756544</td>\n",
       "      <td>0.429169</td>\n",
       "      <td>0.0</td>\n",
       "      <td>1.0</td>\n",
       "      <td>1.0</td>\n",
       "      <td>1.0</td>\n",
       "      <td>1.0</td>\n",
       "    </tr>\n",
       "    <tr>\n",
       "      <th>Fruits</th>\n",
       "      <td>253680.0</td>\n",
       "      <td>0.634256</td>\n",
       "      <td>0.481639</td>\n",
       "      <td>0.0</td>\n",
       "      <td>0.0</td>\n",
       "      <td>1.0</td>\n",
       "      <td>1.0</td>\n",
       "      <td>1.0</td>\n",
       "    </tr>\n",
       "    <tr>\n",
       "      <th>Veggies</th>\n",
       "      <td>253680.0</td>\n",
       "      <td>0.811420</td>\n",
       "      <td>0.391175</td>\n",
       "      <td>0.0</td>\n",
       "      <td>1.0</td>\n",
       "      <td>1.0</td>\n",
       "      <td>1.0</td>\n",
       "      <td>1.0</td>\n",
       "    </tr>\n",
       "    <tr>\n",
       "      <th>HvyAlcoholConsump</th>\n",
       "      <td>253680.0</td>\n",
       "      <td>0.056197</td>\n",
       "      <td>0.230302</td>\n",
       "      <td>0.0</td>\n",
       "      <td>0.0</td>\n",
       "      <td>0.0</td>\n",
       "      <td>0.0</td>\n",
       "      <td>1.0</td>\n",
       "    </tr>\n",
       "    <tr>\n",
       "      <th>AnyHealthcare</th>\n",
       "      <td>253680.0</td>\n",
       "      <td>0.951053</td>\n",
       "      <td>0.215759</td>\n",
       "      <td>0.0</td>\n",
       "      <td>1.0</td>\n",
       "      <td>1.0</td>\n",
       "      <td>1.0</td>\n",
       "      <td>1.0</td>\n",
       "    </tr>\n",
       "    <tr>\n",
       "      <th>NoDocbcCost</th>\n",
       "      <td>253680.0</td>\n",
       "      <td>0.084177</td>\n",
       "      <td>0.277654</td>\n",
       "      <td>0.0</td>\n",
       "      <td>0.0</td>\n",
       "      <td>0.0</td>\n",
       "      <td>0.0</td>\n",
       "      <td>1.0</td>\n",
       "    </tr>\n",
       "    <tr>\n",
       "      <th>GenHlth</th>\n",
       "      <td>253680.0</td>\n",
       "      <td>2.511392</td>\n",
       "      <td>1.068477</td>\n",
       "      <td>1.0</td>\n",
       "      <td>2.0</td>\n",
       "      <td>2.0</td>\n",
       "      <td>3.0</td>\n",
       "      <td>5.0</td>\n",
       "    </tr>\n",
       "    <tr>\n",
       "      <th>MentHlth</th>\n",
       "      <td>253680.0</td>\n",
       "      <td>3.184772</td>\n",
       "      <td>7.412847</td>\n",
       "      <td>0.0</td>\n",
       "      <td>0.0</td>\n",
       "      <td>0.0</td>\n",
       "      <td>2.0</td>\n",
       "      <td>30.0</td>\n",
       "    </tr>\n",
       "    <tr>\n",
       "      <th>PhysHlth</th>\n",
       "      <td>253680.0</td>\n",
       "      <td>4.242081</td>\n",
       "      <td>8.717951</td>\n",
       "      <td>0.0</td>\n",
       "      <td>0.0</td>\n",
       "      <td>0.0</td>\n",
       "      <td>3.0</td>\n",
       "      <td>30.0</td>\n",
       "    </tr>\n",
       "    <tr>\n",
       "      <th>DiffWalk</th>\n",
       "      <td>253680.0</td>\n",
       "      <td>0.168224</td>\n",
       "      <td>0.374066</td>\n",
       "      <td>0.0</td>\n",
       "      <td>0.0</td>\n",
       "      <td>0.0</td>\n",
       "      <td>0.0</td>\n",
       "      <td>1.0</td>\n",
       "    </tr>\n",
       "    <tr>\n",
       "      <th>Sex</th>\n",
       "      <td>253680.0</td>\n",
       "      <td>0.440342</td>\n",
       "      <td>0.496429</td>\n",
       "      <td>0.0</td>\n",
       "      <td>0.0</td>\n",
       "      <td>0.0</td>\n",
       "      <td>1.0</td>\n",
       "      <td>1.0</td>\n",
       "    </tr>\n",
       "    <tr>\n",
       "      <th>Age</th>\n",
       "      <td>253680.0</td>\n",
       "      <td>8.032119</td>\n",
       "      <td>3.054220</td>\n",
       "      <td>1.0</td>\n",
       "      <td>6.0</td>\n",
       "      <td>8.0</td>\n",
       "      <td>10.0</td>\n",
       "      <td>13.0</td>\n",
       "    </tr>\n",
       "    <tr>\n",
       "      <th>Education</th>\n",
       "      <td>253680.0</td>\n",
       "      <td>5.050434</td>\n",
       "      <td>0.985774</td>\n",
       "      <td>1.0</td>\n",
       "      <td>4.0</td>\n",
       "      <td>5.0</td>\n",
       "      <td>6.0</td>\n",
       "      <td>6.0</td>\n",
       "    </tr>\n",
       "    <tr>\n",
       "      <th>Income</th>\n",
       "      <td>253680.0</td>\n",
       "      <td>6.053875</td>\n",
       "      <td>2.071148</td>\n",
       "      <td>1.0</td>\n",
       "      <td>5.0</td>\n",
       "      <td>7.0</td>\n",
       "      <td>8.0</td>\n",
       "      <td>8.0</td>\n",
       "    </tr>\n",
       "  </tbody>\n",
       "</table>\n",
       "</div>"
      ],
      "text/plain": [
       "                         count       mean       std   min   25%   50%   75%  \\\n",
       "Diabetes_012          253680.0   0.296921  0.698160   0.0   0.0   0.0   0.0   \n",
       "HighBP                253680.0   0.429001  0.494934   0.0   0.0   0.0   1.0   \n",
       "HighChol              253680.0   0.424121  0.494210   0.0   0.0   0.0   1.0   \n",
       "CholCheck             253680.0   0.962670  0.189571   0.0   1.0   1.0   1.0   \n",
       "BMI                   253680.0  28.382364  6.608694  12.0  24.0  27.0  31.0   \n",
       "Smoker                253680.0   0.443169  0.496761   0.0   0.0   0.0   1.0   \n",
       "Stroke                253680.0   0.040571  0.197294   0.0   0.0   0.0   0.0   \n",
       "HeartDiseaseorAttack  253680.0   0.094186  0.292087   0.0   0.0   0.0   0.0   \n",
       "PhysActivity          253680.0   0.756544  0.429169   0.0   1.0   1.0   1.0   \n",
       "Fruits                253680.0   0.634256  0.481639   0.0   0.0   1.0   1.0   \n",
       "Veggies               253680.0   0.811420  0.391175   0.0   1.0   1.0   1.0   \n",
       "HvyAlcoholConsump     253680.0   0.056197  0.230302   0.0   0.0   0.0   0.0   \n",
       "AnyHealthcare         253680.0   0.951053  0.215759   0.0   1.0   1.0   1.0   \n",
       "NoDocbcCost           253680.0   0.084177  0.277654   0.0   0.0   0.0   0.0   \n",
       "GenHlth               253680.0   2.511392  1.068477   1.0   2.0   2.0   3.0   \n",
       "MentHlth              253680.0   3.184772  7.412847   0.0   0.0   0.0   2.0   \n",
       "PhysHlth              253680.0   4.242081  8.717951   0.0   0.0   0.0   3.0   \n",
       "DiffWalk              253680.0   0.168224  0.374066   0.0   0.0   0.0   0.0   \n",
       "Sex                   253680.0   0.440342  0.496429   0.0   0.0   0.0   1.0   \n",
       "Age                   253680.0   8.032119  3.054220   1.0   6.0   8.0  10.0   \n",
       "Education             253680.0   5.050434  0.985774   1.0   4.0   5.0   6.0   \n",
       "Income                253680.0   6.053875  2.071148   1.0   5.0   7.0   8.0   \n",
       "\n",
       "                       max  \n",
       "Diabetes_012           2.0  \n",
       "HighBP                 1.0  \n",
       "HighChol               1.0  \n",
       "CholCheck              1.0  \n",
       "BMI                   98.0  \n",
       "Smoker                 1.0  \n",
       "Stroke                 1.0  \n",
       "HeartDiseaseorAttack   1.0  \n",
       "PhysActivity           1.0  \n",
       "Fruits                 1.0  \n",
       "Veggies                1.0  \n",
       "HvyAlcoholConsump      1.0  \n",
       "AnyHealthcare          1.0  \n",
       "NoDocbcCost            1.0  \n",
       "GenHlth                5.0  \n",
       "MentHlth              30.0  \n",
       "PhysHlth              30.0  \n",
       "DiffWalk               1.0  \n",
       "Sex                    1.0  \n",
       "Age                   13.0  \n",
       "Education              6.0  \n",
       "Income                 8.0  "
      ]
     },
     "execution_count": 7,
     "metadata": {},
     "output_type": "execute_result"
    }
   ],
   "source": [
    "df_summary"
   ]
  },
  {
   "cell_type": "code",
   "execution_count": 13,
   "id": "0a7a261a",
   "metadata": {},
   "outputs": [
    {
     "data": {
      "image/png": "[encoded data removed]",
      "text/plain": [
       "<Figure size 720x504 with 1 Axes>"
      ]
     },
     "metadata": {
      "needs_background": "light"
     },
     "output_type": "display_data"
    }
   ],
   "source": [
    "df = df.toPandas()\n",
    "# Distribtuion for target variable Diabetes_012\n",
    "fig, ax1 = plt.subplots(figsize=(10,7))\n",
    "graph = sns.countplot(ax=ax1,x='Diabetes_012', data=df)\n",
    "graph.set_title(\"Distribtuion for variable Diabetes_012\")\n",
    "graph.set_xticklabels(graph.get_xticklabels())\n",
    "i=0\n",
    "for p in graph.patches:\n",
    "    height = p.get_height()\n",
    "    graph.text(p.get_x()+p.get_width()/2., height + 0.1,\n",
    "    df['Diabetes_012'].value_counts()[i],ha=\"center\")\n",
    "    i += 1"
   ]
  },
  {
   "cell_type": "code",
   "execution_count": 16,
   "id": "7d0c47f8",
   "metadata": {},
   "outputs": [
    {
     "data": {
      "image/png": "[encoded data removed]",
      "text/plain": [
       "<Figure size 864x576 with 15 Axes>"
      ]
     },
     "metadata": {
      "needs_background": "light"
     },
     "output_type": "display_data"
    }
   ],
   "source": [
    "df_1 = df[binary_cols] # binary variables\n",
    "# distribution plots for binary variables\n",
    "fig, axs = plt.subplots(nrows=3, ncols=5,figsize=(12, 8))\n",
    "a = axs.ravel()\n",
    "df_1_columns = df_1.columns\n",
    "for idx, ax in enumerate(a):\n",
    "    ax.bar(df_1.iloc[:,idx].value_counts().keys().tolist(), df_1.iloc[:,idx].value_counts().tolist())\n",
    "    ax.set_title(df_1_columns[idx])\n",
    "plt.tight_layout()"
   ]
  },
  {
   "cell_type": "code",
   "execution_count": null,
   "id": "1ce62935",
   "metadata": {},
   "outputs": [],
   "source": [
    "# Spark to Pandas\n",
    "#df_pd = df.toPandas()\n",
    "\n",
    "# Pandas to Spark\n",
    "#df_sp = spark_session.createDataFrame(df_pd)"
   ]
  },
  {
   "cell_type": "code",
   "execution_count": 23,
   "id": "2c3a601a",
   "metadata": {},
   "outputs": [
    {
     "name": "stderr",
     "output_type": "stream",
     "text": [
      "                                                                                \r"
     ]
    },
    {
     "ename": "IndexError",
     "evalue": "single positional indexer is out-of-bounds",
     "output_type": "error",
     "traceback": [
      "\u001b[0;31m---------------------------------------------------------------------------\u001b[0m",
      "\u001b[0;31mIndexError\u001b[0m                                Traceback (most recent call last)",
      "Input \u001b[0;32mIn [23]\u001b[0m, in \u001b[0;36m<cell line: 7>\u001b[0;34m()\u001b[0m\n\u001b[1;32m      6\u001b[0m df_2_columns \u001b[38;5;241m=\u001b[39m df_2\u001b[38;5;241m.\u001b[39mcolumns\n\u001b[1;32m      7\u001b[0m \u001b[38;5;28;01mfor\u001b[39;00m idx,ax \u001b[38;5;129;01min\u001b[39;00m \u001b[38;5;28menumerate\u001b[39m(a):\n\u001b[1;32m      8\u001b[0m     \u001b[38;5;66;03m#print(idx)\u001b[39;00m\n\u001b[1;32m      9\u001b[0m     \u001b[38;5;66;03m#print(df_2_columns[idx])\u001b[39;00m\n\u001b[0;32m---> 10\u001b[0m     ax\u001b[38;5;241m.\u001b[39mhist(\u001b[43mdf_2\u001b[49m\u001b[38;5;241;43m.\u001b[39;49m\u001b[43miloc\u001b[49m\u001b[43m[\u001b[49m\u001b[43m:\u001b[49m\u001b[43m,\u001b[49m\u001b[43midx\u001b[49m\u001b[43m]\u001b[49m)\n\u001b[1;32m     11\u001b[0m     ax\u001b[38;5;241m.\u001b[39mset_title(df_2_columns[idx])\n\u001b[1;32m     12\u001b[0m plt\u001b[38;5;241m.\u001b[39mtight_layout()\n",
      "File \u001b[0;32m~/.local/lib/python3.10/site-packages/pandas/core/indexing.py:961\u001b[0m, in \u001b[0;36m_LocationIndexer.__getitem__\u001b[0;34m(self, key)\u001b[0m\n\u001b[1;32m    959\u001b[0m     \u001b[38;5;28;01mif\u001b[39;00m \u001b[38;5;28mself\u001b[39m\u001b[38;5;241m.\u001b[39m_is_scalar_access(key):\n\u001b[1;32m    960\u001b[0m         \u001b[38;5;28;01mreturn\u001b[39;00m \u001b[38;5;28mself\u001b[39m\u001b[38;5;241m.\u001b[39mobj\u001b[38;5;241m.\u001b[39m_get_value(\u001b[38;5;241m*\u001b[39mkey, takeable\u001b[38;5;241m=\u001b[39m\u001b[38;5;28mself\u001b[39m\u001b[38;5;241m.\u001b[39m_takeable)\n\u001b[0;32m--> 961\u001b[0m     \u001b[38;5;28;01mreturn\u001b[39;00m \u001b[38;5;28;43mself\u001b[39;49m\u001b[38;5;241;43m.\u001b[39;49m\u001b[43m_getitem_tuple\u001b[49m\u001b[43m(\u001b[49m\u001b[43mkey\u001b[49m\u001b[43m)\u001b[49m\n\u001b[1;32m    962\u001b[0m \u001b[38;5;28;01melse\u001b[39;00m:\n\u001b[1;32m    963\u001b[0m     \u001b[38;5;66;03m# we by definition only have the 0th axis\u001b[39;00m\n\u001b[1;32m    964\u001b[0m     axis \u001b[38;5;241m=\u001b[39m \u001b[38;5;28mself\u001b[39m\u001b[38;5;241m.\u001b[39maxis \u001b[38;5;129;01mor\u001b[39;00m \u001b[38;5;241m0\u001b[39m\n",
      "File \u001b[0;32m~/.local/lib/python3.10/site-packages/pandas/core/indexing.py:1458\u001b[0m, in \u001b[0;36m_iLocIndexer._getitem_tuple\u001b[0;34m(self, tup)\u001b[0m\n\u001b[1;32m   1456\u001b[0m \u001b[38;5;28;01mdef\u001b[39;00m \u001b[38;5;21m_getitem_tuple\u001b[39m(\u001b[38;5;28mself\u001b[39m, tup: \u001b[38;5;28mtuple\u001b[39m):\n\u001b[0;32m-> 1458\u001b[0m     tup \u001b[38;5;241m=\u001b[39m \u001b[38;5;28;43mself\u001b[39;49m\u001b[38;5;241;43m.\u001b[39;49m\u001b[43m_validate_tuple_indexer\u001b[49m\u001b[43m(\u001b[49m\u001b[43mtup\u001b[49m\u001b[43m)\u001b[49m\n\u001b[1;32m   1459\u001b[0m     \u001b[38;5;28;01mwith\u001b[39;00m suppress(IndexingError):\n\u001b[1;32m   1460\u001b[0m         \u001b[38;5;28;01mreturn\u001b[39;00m \u001b[38;5;28mself\u001b[39m\u001b[38;5;241m.\u001b[39m_getitem_lowerdim(tup)\n",
      "File \u001b[0;32m~/.local/lib/python3.10/site-packages/pandas/core/indexing.py:769\u001b[0m, in \u001b[0;36m_LocationIndexer._validate_tuple_indexer\u001b[0;34m(self, key)\u001b[0m\n\u001b[1;32m    767\u001b[0m \u001b[38;5;28;01mfor\u001b[39;00m i, k \u001b[38;5;129;01min\u001b[39;00m \u001b[38;5;28menumerate\u001b[39m(key):\n\u001b[1;32m    768\u001b[0m     \u001b[38;5;28;01mtry\u001b[39;00m:\n\u001b[0;32m--> 769\u001b[0m         \u001b[38;5;28;43mself\u001b[39;49m\u001b[38;5;241;43m.\u001b[39;49m\u001b[43m_validate_key\u001b[49m\u001b[43m(\u001b[49m\u001b[43mk\u001b[49m\u001b[43m,\u001b[49m\u001b[43m \u001b[49m\u001b[43mi\u001b[49m\u001b[43m)\u001b[49m\n\u001b[1;32m    770\u001b[0m     \u001b[38;5;28;01mexcept\u001b[39;00m \u001b[38;5;167;01mValueError\u001b[39;00m \u001b[38;5;28;01mas\u001b[39;00m err:\n\u001b[1;32m    771\u001b[0m         \u001b[38;5;28;01mraise\u001b[39;00m \u001b[38;5;167;01mValueError\u001b[39;00m(\n\u001b[1;32m    772\u001b[0m             \u001b[38;5;124m\"\u001b[39m\u001b[38;5;124mLocation based indexing can only have \u001b[39m\u001b[38;5;124m\"\u001b[39m\n\u001b[1;32m    773\u001b[0m             \u001b[38;5;124mf\u001b[39m\u001b[38;5;124m\"\u001b[39m\u001b[38;5;124m[\u001b[39m\u001b[38;5;132;01m{\u001b[39;00m\u001b[38;5;28mself\u001b[39m\u001b[38;5;241m.\u001b[39m_valid_types\u001b[38;5;132;01m}\u001b[39;00m\u001b[38;5;124m] types\u001b[39m\u001b[38;5;124m\"\u001b[39m\n\u001b[1;32m    774\u001b[0m         ) \u001b[38;5;28;01mfrom\u001b[39;00m \u001b[38;5;21;01merr\u001b[39;00m\n",
      "File \u001b[0;32m~/.local/lib/python3.10/site-packages/pandas/core/indexing.py:1361\u001b[0m, in \u001b[0;36m_iLocIndexer._validate_key\u001b[0;34m(self, key, axis)\u001b[0m\n\u001b[1;32m   1359\u001b[0m     \u001b[38;5;28;01mreturn\u001b[39;00m\n\u001b[1;32m   1360\u001b[0m \u001b[38;5;28;01melif\u001b[39;00m is_integer(key):\n\u001b[0;32m-> 1361\u001b[0m     \u001b[38;5;28;43mself\u001b[39;49m\u001b[38;5;241;43m.\u001b[39;49m\u001b[43m_validate_integer\u001b[49m\u001b[43m(\u001b[49m\u001b[43mkey\u001b[49m\u001b[43m,\u001b[49m\u001b[43m \u001b[49m\u001b[43maxis\u001b[49m\u001b[43m)\u001b[49m\n\u001b[1;32m   1362\u001b[0m \u001b[38;5;28;01melif\u001b[39;00m \u001b[38;5;28misinstance\u001b[39m(key, \u001b[38;5;28mtuple\u001b[39m):\n\u001b[1;32m   1363\u001b[0m     \u001b[38;5;66;03m# a tuple should already have been caught by this point\u001b[39;00m\n\u001b[1;32m   1364\u001b[0m     \u001b[38;5;66;03m# so don't treat a tuple as a valid indexer\u001b[39;00m\n\u001b[1;32m   1365\u001b[0m     \u001b[38;5;28;01mraise\u001b[39;00m IndexingError(\u001b[38;5;124m\"\u001b[39m\u001b[38;5;124mToo many indexers\u001b[39m\u001b[38;5;124m\"\u001b[39m)\n",
      "File \u001b[0;32m~/.local/lib/python3.10/site-packages/pandas/core/indexing.py:1452\u001b[0m, in \u001b[0;36m_iLocIndexer._validate_integer\u001b[0;34m(self, key, axis)\u001b[0m\n\u001b[1;32m   1450\u001b[0m len_axis \u001b[38;5;241m=\u001b[39m \u001b[38;5;28mlen\u001b[39m(\u001b[38;5;28mself\u001b[39m\u001b[38;5;241m.\u001b[39mobj\u001b[38;5;241m.\u001b[39m_get_axis(axis))\n\u001b[1;32m   1451\u001b[0m \u001b[38;5;28;01mif\u001b[39;00m key \u001b[38;5;241m>\u001b[39m\u001b[38;5;241m=\u001b[39m len_axis \u001b[38;5;129;01mor\u001b[39;00m key \u001b[38;5;241m<\u001b[39m \u001b[38;5;241m-\u001b[39mlen_axis:\n\u001b[0;32m-> 1452\u001b[0m     \u001b[38;5;28;01mraise\u001b[39;00m \u001b[38;5;167;01mIndexError\u001b[39;00m(\u001b[38;5;124m\"\u001b[39m\u001b[38;5;124msingle positional indexer is out-of-bounds\u001b[39m\u001b[38;5;124m\"\u001b[39m)\n",
      "\u001b[0;31mIndexError\u001b[0m: single positional indexer is out-of-bounds"
     ]
    },
    {
     "data": {
      "image/png": "[encoded data removed]",
      "text/plain": [
       "<Figure size 864x576 with 8 Axes>"
      ]
     },
     "metadata": {
      "needs_background": "light"
     },
     "output_type": "display_data"
    }
   ],
   "source": [
    "df = df.toPandas()\n",
    "df_2 = df[nominal_cols] # nominal variables\n",
    "# distribution for categorial varibles\n",
    "f,a = plt.subplots(nrows=2,ncols=4, figsize=(12, 8))\n",
    "a = a.ravel()\n",
    "df_2_columns = df_2.columns\n",
    "for idx,ax in enumerate(a):\n",
    "    #print(idx)\n",
    "    #print(df_2_columns[idx])\n",
    "    ax.hist(df_2.iloc[:,idx])\n",
    "    ax.set_title(df_2_columns[idx])\n",
    "plt.tight_layout()"
   ]
  },
  {
   "cell_type": "code",
   "execution_count": null,
   "id": "dfec8a57",
   "metadata": {},
   "outputs": [],
   "source": []
  }
 ],
 "metadata": {
  "kernelspec": {
   "display_name": "Python 3 (ipykernel)",
   "language": "python",
   "name": "python3"
  },
  "language_info": {
   "codemirror_mode": {
    "name": "ipython",
    "version": 3
   },
   "file_extension": ".py",
   "mimetype": "text/x-python",
   "name": "python",
   "nbconvert_exporter": "python",
   "pygments_lexer": "ipython3",
   "version": "3.10.4"
  }
 },
 "nbformat": 4,
 "nbformat_minor": 5
}
