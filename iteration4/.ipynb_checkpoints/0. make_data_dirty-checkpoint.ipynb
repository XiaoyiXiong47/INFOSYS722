{
 "cells": [
  {
   "cell_type": "code",
   "execution_count": 12,
   "id": "94e34ee9",
   "metadata": {},
   "outputs": [],
   "source": [
    "import pandas as pd\n",
    "import numpy as np"
   ]
  },
  {
   "cell_type": "code",
   "execution_count": 13,
   "id": "8dbaa4f4",
   "metadata": {},
   "outputs": [
    {
     "data": {
      "text/plain": [
       "Index(['Diabetes_012', 'HighBP', 'HighChol', 'CholCheck', 'BMI', 'Smoker',\n",
       "       'Stroke', 'HeartDiseaseorAttack', 'PhysActivity', 'Fruits', 'Veggies',\n",
       "       'HvyAlcoholConsump', 'AnyHealthcare', 'NoDocbcCost', 'GenHlth',\n",
       "       'MentHlth', 'PhysHlth', 'DiffWalk', 'Sex', 'Age', 'Education',\n",
       "       'Income'],\n",
       "      dtype='object')"
      ]
     },
     "execution_count": 13,
     "metadata": {},
     "output_type": "execute_result"
    }
   ],
   "source": [
    "df = pd.read_csv(\"diabetes_012_health_indicators_BRFSS2015.csv\")\n",
    "df.shape\n",
    "cols = df.columns\n",
    "cols"
   ]
  },
  {
   "cell_type": "code",
   "execution_count": 14,
   "id": "5b001467",
   "metadata": {},
   "outputs": [],
   "source": [
    "# randomly create missing value\n",
    "total_elements = np.product(df.shape)\n",
    "missing_elements = int(total_elements * 0.001)\n",
    "missing_indices = np.random.choice(total_elements, missing_elements, replace=False)\n",
    "row_indices, col_indices = np.unravel_index(missing_indices, df.shape)\n",
    "for i in range(len(row_indices)):\n",
    "    row = row_indices[i]\n",
    "    col = col_indices[i]\n",
    "    df.iloc[row, col] = np.nan"
   ]
  },
  {
   "cell_type": "code",
   "execution_count": 15,
   "id": "aed87a9a",
   "metadata": {},
   "outputs": [],
   "source": [
    "# seperate into one binary data file, and another nominal data file\n",
    "binary_cols = ['Diabetes_012', 'HighBP', 'HighChol', 'CholCheck',\n",
    "       'Smoker', 'Stroke', 'HeartDiseaseorAttack', 'PhysActivity', 'Fruits',\n",
    "       'Veggies', 'HvyAlcoholConsump', 'AnyHealthcare', 'NoDocbcCost',\n",
    "       'DiffWalk', 'Sex']\n",
    "nominal_cols = ['BMI', 'GenHlth', 'MentHlth', 'PhysHlth', 'Age',\n",
    "       'Education', 'Income']\n",
    "df[binary_cols].to_csv('binary_data.csv', index=True, header = True)\n",
    "df[nominal_cols].to_csv('nominal_data.csv', index=True, header = True)"
   ]
  },
  {
   "cell_type": "code",
   "execution_count": 16,
   "id": "ee2fe4da",
   "metadata": {},
   "outputs": [],
   "source": [
    "# randomly change binary values 0 or 1 into string values 'no' 'yes' 'NO' 'YES' etc\n",
    "no = ['no', 'NO', 'N', 'No']\n",
    "yes = ['yes', 'YES', 'Y', 'Yes']\n",
    "def random_replacement(x):\n",
    "    if x == 0:\n",
    "        return np.random.choice(no)\n",
    "    elif x == 1:\n",
    "        return np.random.choice(yes)\n",
    "    return x\n",
    "binary_data = pd.read_csv('binary_data.csv')\n",
    "total_binary_elements = np.product((binary_data.shape[0], binary_data.shape[1]-1)) # exclude the index column\n",
    "mistyped_elements = int(total_binary_elements * 0.001)\n",
    "mistyped_indices = np.random.choice(total_binary_elements, mistyped_elements, replace=False)\n",
    "row_indices, col_indices = np.unravel_index(mistyped_indices, (binary_data.shape[0], binary_data.shape[1]-1))\n",
    "for i in range(len(row_indices)):\n",
    "    row = row_indices[i]\n",
    "    col = col_indices[i]\n",
    "    current_value = binary_data.iloc[row, col+1]\n",
    "    binary_data.iloc[row, col+1] = random_replacement(current_value)\n",
    "binary_data.to_csv('binary_data.csv', index=False, header = True)"
   ]
  },
  {
   "cell_type": "code",
   "execution_count": 17,
   "id": "b161c1d7",
   "metadata": {},
   "outputs": [],
   "source": [
    "# mimic human mistyping when entering the data into computer\n",
    "nominal_data = pd.read_csv('nominal_data.csv')\n",
    "\n",
    "def create_noise(value):\n",
    "    # Convert value to string and duplicate last character\n",
    "    if not np.isnan(value):\n",
    "        lam = lambda x: x + x[-1]\n",
    "        result = int(float(lam(str(int(value)))))\n",
    "    else:\n",
    "        result = value\n",
    "    return result"
   ]
  },
  {
   "cell_type": "code",
   "execution_count": 18,
   "id": "5f70c547",
   "metadata": {},
   "outputs": [],
   "source": [
    "total_nominal_elements = np.product((nominal_data.shape[0], 2))\n",
    "mistyped_elements = int(total_nominal_elements * 0.001)\n",
    "mistyped_indices = np.random.choice(total_nominal_elements, mistyped_elements, replace=False)\n",
    "row_indices, col_indices = np.unravel_index(mistyped_indices, (nominal_data.shape[0], 2))\n",
    "\n",
    "for i in range(len(row_indices)):\n",
    "    row = row_indices[i]\n",
    "    col = col_indices[i]\n",
    "    #current_value = nominal_data.iloc[row, col+6]\n",
    "    nominal_data.iloc[row, col+6] = create_noise(nominal_data.iloc[row, col+6])"
   ]
  },
  {
   "cell_type": "code",
   "execution_count": 9,
   "id": "73ced72c",
   "metadata": {},
   "outputs": [],
   "source": [
    "import os"
   ]
  },
  {
   "cell_type": "code",
   "execution_count": 19,
   "id": "fa6bda8f",
   "metadata": {},
   "outputs": [],
   "source": [
    "nominal_data.describe().transpose()\n",
    "\n",
    "nominal_data.to_csv('nominal_data.csv', index=False, header = True)"
   ]
  },
  {
   "cell_type": "code",
   "execution_count": 11,
   "id": "6fc693f3",
   "metadata": {},
   "outputs": [
    {
     "ename": "SyntaxError",
     "evalue": "invalid syntax (3782820012.py, line 1)",
     "output_type": "error",
     "traceback": [
      "\u001b[0;36m  Input \u001b[0;32mIn [11]\u001b[0;36m\u001b[0m\n\u001b[0;31m    .option('header', 'true')\u001b[0m\n\u001b[0m    ^\u001b[0m\n\u001b[0;31mSyntaxError\u001b[0m\u001b[0;31m:\u001b[0m invalid syntax\n"
     ]
    }
   ],
   "source": [
    "# .option('header', 'true')"
   ]
  }
 ],
 "metadata": {
  "kernelspec": {
   "display_name": "Python 3 (ipykernel)",
   "language": "python",
   "name": "python3"
  },
  "language_info": {
   "codemirror_mode": {
    "name": "ipython",
    "version": 3
   },
   "file_extension": ".py",
   "mimetype": "text/x-python",
   "name": "python",
   "nbconvert_exporter": "python",
   "pygments_lexer": "ipython3",
   "version": "3.10.12"
  }
 },
 "nbformat": 4,
 "nbformat_minor": 5
}
