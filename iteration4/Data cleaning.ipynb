{
 "cells": [
  {
   "cell_type": "code",
   "execution_count": 2,
   "id": "28bfb4d5",
   "metadata": {},
   "outputs": [
    {
     "name": "stderr",
     "output_type": "stream",
     "text": [
      "WARNING: An illegal reflective access operation has occurred\n",
      "WARNING: Illegal reflective access by org.apache.spark.unsafe.Platform (file:/home/ubuntu/INFOSYS722/spark-3.2.1-bin-hadoop2.7/jars/spark-unsafe_2.12-3.2.1.jar) to constructor java.nio.DirectByteBuffer(long,int)\n",
      "WARNING: Please consider reporting this to the maintainers of org.apache.spark.unsafe.Platform\n",
      "WARNING: Use --illegal-access=warn to enable warnings of further illegal reflective access operations\n",
      "WARNING: All illegal access operations will be denied in a future release\n",
      "Using Spark's default log4j profile: org/apache/spark/log4j-defaults.properties\n",
      "Setting default log level to \"WARN\".\n",
      "To adjust logging level use sc.setLogLevel(newLevel). For SparkR, use setLogLevel(newLevel).\n",
      "24/05/21 05:00:54 WARN NativeCodeLoader: Unable to load native-hadoop library for your platform... using builtin-java classes where applicable\n",
      "24/05/21 05:00:55 WARN Utils: Service 'SparkUI' could not bind on port 4040. Attempting port 4041.\n"
     ]
    }
   ],
   "source": [
    "# Must be included at the beginning of each new notebook. Remember to change the app name.\n",
    "import findspark\n",
    "# findspark.init('/home/ubuntu/spark-3.2.1-bin-hadoop2.7')\n",
    "findspark.init('../spark-3.2.1-bin-hadoop2.7')\n",
    "import pyspark\n",
    "from pyspark.sql import SparkSession\n",
    "spark = SparkSession.builder.appName('cleaning').getOrCreate()"
   ]
  },
  {
   "cell_type": "code",
   "execution_count": 3,
   "id": "b1f436e9",
   "metadata": {},
   "outputs": [],
   "source": [
    "df_1 = spark.read.csv('binary_data.csv', header=True)\n",
    "df_2 = spark.read.csv('nominal_data.csv', header=True)"
   ]
  },
  {
   "cell_type": "markdown",
   "id": "f42c7d74",
   "metadata": {},
   "source": [
    "Drop rows containing na values"
   ]
  },
  {
   "cell_type": "code",
   "execution_count": 4,
   "id": "618d0876",
   "metadata": {},
   "outputs": [],
   "source": [
    "df_1 = df_1.dropna()\n",
    "df_2 = df_2.dropna()"
   ]
  },
  {
   "cell_type": "code",
   "execution_count": 5,
   "id": "53dc3270",
   "metadata": {},
   "outputs": [
    {
     "name": "stderr",
     "output_type": "stream",
     "text": [
      "                                                                                \r"
     ]
    },
    {
     "name": "stdout",
     "output_type": "stream",
     "text": [
      "+---------+\n",
      "|Education|\n",
      "+---------+\n",
      "|      1.0|\n",
      "|     11.0|\n",
      "|      2.0|\n",
      "|     22.0|\n",
      "|      3.0|\n",
      "|     33.0|\n",
      "|      4.0|\n",
      "|     44.0|\n",
      "|      5.0|\n",
      "|     55.0|\n",
      "|      6.0|\n",
      "|     66.0|\n",
      "+---------+\n",
      "\n",
      "+------+\n",
      "|Income|\n",
      "+------+\n",
      "|   1.0|\n",
      "|  11.0|\n",
      "|   2.0|\n",
      "|  22.0|\n",
      "|   3.0|\n",
      "|  33.0|\n",
      "|   4.0|\n",
      "|  44.0|\n",
      "|   5.0|\n",
      "|  55.0|\n",
      "|   6.0|\n",
      "|  66.0|\n",
      "|   7.0|\n",
      "|  77.0|\n",
      "|   8.0|\n",
      "|  88.0|\n",
      "+------+\n",
      "\n"
     ]
    },
    {
     "name": "stderr",
     "output_type": "stream",
     "text": [
      "\r",
      "[Stage 5:=============================>                             (1 + 1) / 2]\r",
      "\r",
      "                                                                                \r"
     ]
    }
   ],
   "source": [
    "df_2.select([\"Education\"]).distinct().sort(\"Education\").show()\n",
    "df_2.select([\"Income\"]).distinct().sort(\"Income\").show()"
   ]
  },
  {
   "cell_type": "code",
   "execution_count": 6,
   "id": "1518c7e0",
   "metadata": {},
   "outputs": [
    {
     "name": "stderr",
     "output_type": "stream",
     "text": [
      "                                                                                \r"
     ]
    },
    {
     "name": "stdout",
     "output_type": "stream",
     "text": [
      "+---------+\n",
      "|Education|\n",
      "+---------+\n",
      "|      1.0|\n",
      "|      2.0|\n",
      "|      3.0|\n",
      "|      4.0|\n",
      "|      5.0|\n",
      "|      6.0|\n",
      "+---------+\n",
      "\n"
     ]
    },
    {
     "name": "stderr",
     "output_type": "stream",
     "text": [
      "\r",
      "[Stage 11:=============================>                            (1 + 1) / 2]\r"
     ]
    },
    {
     "name": "stdout",
     "output_type": "stream",
     "text": [
      "+------+\n",
      "|Income|\n",
      "+------+\n",
      "|   1.0|\n",
      "|   2.0|\n",
      "|   3.0|\n",
      "|   4.0|\n",
      "|   5.0|\n",
      "|   6.0|\n",
      "|   7.0|\n",
      "|   8.0|\n",
      "+------+\n",
      "\n"
     ]
    },
    {
     "name": "stderr",
     "output_type": "stream",
     "text": [
      "\r",
      "                                                                                \r"
     ]
    }
   ],
   "source": [
    "from pyspark.sql.functions import col, when\n",
    "df_2 = df_2.withColumn(\"Education\", when(col(\"Education\") % 11 == 0, col(\"Education\") / 11)\\\n",
    "                       .otherwise(col(\"Education\")))\n",
    "df_2 = df_2.withColumn(\"Income\", when(col(\"Income\") % 11 == 0, col(\"Income\") / 11)\\\n",
    "                       .otherwise(col(\"Income\")))\n",
    "df_2.select([\"Education\"]).distinct().sort(\"Education\").show()\n",
    "df_2.select([\"Income\"]).distinct().sort(\"Income\").show()"
   ]
  },
  {
   "cell_type": "code",
   "execution_count": 7,
   "id": "8c2d7e5b",
   "metadata": {},
   "outputs": [
    {
     "name": "stderr",
     "output_type": "stream",
     "text": [
      "[Stage 14:=============================>                            (1 + 1) / 2]\r"
     ]
    },
    {
     "name": "stdout",
     "output_type": "stream",
     "text": [
      "+-------+------------------+------------------+\n",
      "|summary|         Education|            Income|\n",
      "+-------+------------------+------------------+\n",
      "|  count|            251910|            251910|\n",
      "|   mean| 5.050398952006669| 6.053947838513755|\n",
      "| stddev|0.9858212527289382|2.0709720333587414|\n",
      "|    min|               1.0|               1.0|\n",
      "|    25%|               4.0|               5.0|\n",
      "|    50%|               5.0|               7.0|\n",
      "|    75%|               6.0|               8.0|\n",
      "|    max|               6.0|               8.0|\n",
      "+-------+------------------+------------------+\n",
      "\n"
     ]
    },
    {
     "name": "stderr",
     "output_type": "stream",
     "text": [
      "\r",
      "                                                                                \r"
     ]
    }
   ],
   "source": [
    "df_2.select(['Education', 'Income']).summary().show()"
   ]
  },
  {
   "cell_type": "code",
   "execution_count": 8,
   "id": "d9ce7aa5",
   "metadata": {},
   "outputs": [],
   "source": [
    "yes = ['yes', 'YES', 'Y', 'Yes']\n",
    "no = ['no', 'NO', 'N', 'No']"
   ]
  },
  {
   "cell_type": "code",
   "execution_count": 9,
   "id": "e7bb0bed",
   "metadata": {},
   "outputs": [],
   "source": [
    "def convert_binary(column):\n",
    "    return when(col(column).isin(no), 0) \\\n",
    "           .when(col(column).isin(yes), 1) \\\n",
    "           .otherwise(col(column))\n",
    "\n",
    "for column in df_1.columns:\n",
    "    df_1 = df_1.withColumn(column, convert_binary(column))"
   ]
  },
  {
   "cell_type": "code",
   "execution_count": 10,
   "id": "960aff64",
   "metadata": {},
   "outputs": [
    {
     "name": "stderr",
     "output_type": "stream",
     "text": [
      "                                                                                \r"
     ]
    },
    {
     "name": "stdout",
     "output_type": "stream",
     "text": [
      "+-------+------------------+------------------+-------------------+------------------+-------------------+\n",
      "|summary|        Unnamed: 0|      Diabetes_012|             HighBP|          HighChol|          CholCheck|\n",
      "+-------+------------------+------------------+-------------------+------------------+-------------------+\n",
      "|  count|            249898|            249898|             249898|            249898|             249898|\n",
      "|   mean|126854.92777453201|0.2967650801527023|0.42917510344220444|0.4243491344468543| 0.9627087851843552|\n",
      "| stddev| 73224.61191999138|0.6980108551122761|0.49495940678687556|0.4942448017446194|0.18947486317379145|\n",
      "|    min|                 0|                 0|                  0|                 0|                  0|\n",
      "|    25%|           63436.0|               0.0|                0.0|               0.0|                1.0|\n",
      "|    50%|          126845.0|               0.0|                0.0|               0.0|                1.0|\n",
      "|    75%|          190272.0|               0.0|                1.0|               1.0|                1.0|\n",
      "|    max|             99999|               2.0|                1.0|               1.0|                1.0|\n",
      "+-------+------------------+------------------+-------------------+------------------+-------------------+\n",
      "\n"
     ]
    },
    {
     "name": "stderr",
     "output_type": "stream",
     "text": [
      "                                                                                \r"
     ]
    },
    {
     "name": "stdout",
     "output_type": "stream",
     "text": [
      "+-------+-------------------+-------------------+--------------------+-------------------+------------------+\n",
      "|summary|             Smoker|             Stroke|HeartDiseaseorAttack|       PhysActivity|            Fruits|\n",
      "+-------+-------------------+-------------------+--------------------+-------------------+------------------+\n",
      "|  count|             249898|             249898|              249898|             249898|            249898|\n",
      "|   mean| 0.4431888210389839|0.04063657972452761| 0.09419843296064795| 0.7563926081841391|0.6343268053365774|\n",
      "| stddev|0.49676299926812556| 0.1974472185625464|  0.2921051687824646|0.42925932467873734|0.4816193907804462|\n",
      "|    min|                  0|                  0|                   0|                  0|                 0|\n",
      "|    25%|                0.0|                0.0|                 0.0|                1.0|               0.0|\n",
      "|    50%|                0.0|                0.0|                 0.0|                1.0|               1.0|\n",
      "|    75%|                1.0|                0.0|                 0.0|                1.0|               1.0|\n",
      "|    max|                1.0|                1.0|                 1.0|                1.0|               1.0|\n",
      "+-------+-------------------+-------------------+--------------------+-------------------+------------------+\n",
      "\n"
     ]
    },
    {
     "name": "stderr",
     "output_type": "stream",
     "text": [
      "[Stage 23:=============================>                            (1 + 1) / 2]\r"
     ]
    },
    {
     "name": "stdout",
     "output_type": "stream",
     "text": [
      "+-------+-------------------+--------------------+-------------------+-------------------+------------------+------------------+\n",
      "|summary|            Veggies|   HvyAlcoholConsump|      AnyHealthcare|        NoDocbcCost|          DiffWalk|               Sex|\n",
      "+-------+-------------------+--------------------+-------------------+-------------------+------------------+------------------+\n",
      "|  count|             249898|              249898|             249898|             249898|            249898|            249898|\n",
      "|   mean| 0.8113670377514026|0.056230942224427566| 0.9510680357585896|0.08415033333600108|0.1683606911619941|0.4403076455193719|\n",
      "| stddev|0.39121756128338386| 0.23036760997277336|0.21572624630332457| 0.2776136940763594|0.3741870242616193|0.4964250285492702|\n",
      "|    min|                  0|                   0|                  0|                  0|                 0|                 0|\n",
      "|    25%|                1.0|                 0.0|                1.0|                0.0|               0.0|               0.0|\n",
      "|    50%|                1.0|                 0.0|                1.0|                0.0|               0.0|               0.0|\n",
      "|    75%|                1.0|                 0.0|                1.0|                0.0|               0.0|               1.0|\n",
      "|    max|                1.0|                 1.0|                1.0|                1.0|               1.0|               1.0|\n",
      "+-------+-------------------+--------------------+-------------------+-------------------+------------------+------------------+\n",
      "\n"
     ]
    },
    {
     "name": "stderr",
     "output_type": "stream",
     "text": [
      "\r",
      "                                                                                \r"
     ]
    }
   ],
   "source": [
    "cols_1 = df_1.columns\n",
    "df_1.select(cols_1[0:5]).summary().show()\n",
    "df_1.select(cols_1[5:10]).summary().show()\n",
    "df_1.select(cols_1[10:16]).summary().show()"
   ]
  },
  {
   "cell_type": "markdown",
   "id": "93f6157e",
   "metadata": {},
   "source": [
    "Remove files \"binary_data.csv\" and \"nominal_data.csv\" before re-write."
   ]
  },
  {
   "cell_type": "markdown",
   "id": "9632aa3a",
   "metadata": {},
   "source": [
    "# 3.3 Data Construction"
   ]
  },
  {
   "cell_type": "code",
   "execution_count": 11,
   "id": "429e7950",
   "metadata": {},
   "outputs": [
    {
     "name": "stdout",
     "output_type": "stream",
     "text": [
      "+--------+\n",
      "|Diabetes|\n",
      "+--------+\n",
      "|       0|\n",
      "|       0|\n",
      "|       0|\n",
      "|       0|\n",
      "|       0|\n",
      "|       0|\n",
      "|       0|\n",
      "|       1|\n",
      "|       0|\n",
      "|       1|\n",
      "|       0|\n",
      "|       0|\n",
      "|       1|\n",
      "|       0|\n",
      "|       0|\n",
      "|       0|\n",
      "|       1|\n",
      "|       0|\n",
      "|       0|\n",
      "|       0|\n",
      "+--------+\n",
      "only showing top 20 rows\n",
      "\n"
     ]
    }
   ],
   "source": [
    "df_1 = df_1.withColumn(\"Diabetes_012\", when(col(\"Diabetes_012\") == 2, 1).otherwise(0))\n",
    "df_1 = df_1.withColumnRenamed(\"Diabetes_012\", \"Diabetes\")\n",
    "df_1.select(['Diabetes']).show()"
   ]
  },
  {
   "cell_type": "markdown",
   "id": "27fffe20",
   "metadata": {},
   "source": [
    "### plot Diabetes"
   ]
  },
  {
   "cell_type": "code",
   "execution_count": 12,
   "id": "4f81a34f",
   "metadata": {},
   "outputs": [
    {
     "name": "stderr",
     "output_type": "stream",
     "text": [
      "                                                                                \r"
     ]
    },
    {
     "data": {
      "image/png": "[encoded data removed]",
      "text/plain": [
       "<Figure size 720x504 with 1 Axes>"
      ]
     },
     "metadata": {
      "needs_background": "light"
     },
     "output_type": "display_data"
    }
   ],
   "source": [
    "import pandas as pd\n",
    "import matplotlib.pyplot as plt\n",
    "import seaborn as sns\n",
    "df_1_pd = df_1.toPandas()\n",
    "fig, ax1 = plt.subplots(figsize=(10,7))\n",
    "graph = sns.countplot(ax=ax1,x='Diabetes', data=df_1_pd)\n",
    "graph.set_title(\"Distribtuion for variable Diabetes\")\n",
    "graph.set_xticklabels(graph.get_xticklabels())\n",
    "i=0\n",
    "for p in graph.patches:\n",
    "    height = p.get_height()\n",
    "    graph.text(p.get_x()+p.get_width()/2., height + 0.1,\n",
    "    df_1_pd['Diabetes'].value_counts()[i],ha=\"center\")\n",
    "    i += 1"
   ]
  },
  {
   "cell_type": "markdown",
   "id": "0bbf6aba",
   "metadata": {},
   "source": [
    "# Data Integration"
   ]
  },
  {
   "cell_type": "code",
   "execution_count": 13,
   "id": "38db1f02",
   "metadata": {},
   "outputs": [
    {
     "name": "stdout",
     "output_type": "stream",
     "text": [
      "['Unnamed: 0', 'Diabetes', 'HighBP', 'HighChol', 'CholCheck', 'Smoker', 'Stroke', 'HeartDiseaseorAttack', 'PhysActivity', 'Fruits', 'Veggies', 'HvyAlcoholConsump', 'AnyHealthcare', 'NoDocbcCost', 'DiffWalk', 'Sex']\n",
      "['Unnamed: 0', 'BMI', 'GenHlth', 'MentHlth', 'PhysHlth', 'Age', 'Education', 'Income']\n"
     ]
    }
   ],
   "source": [
    "print(df_1.columns)\n",
    "print(df_2.columns)"
   ]
  },
  {
   "cell_type": "code",
   "execution_count": 14,
   "id": "23865c8f",
   "metadata": {},
   "outputs": [
    {
     "name": "stdout",
     "output_type": "stream",
     "text": [
      "['Diabetes', 'HighBP', 'HighChol', 'CholCheck', 'Smoker', 'Stroke', 'HeartDiseaseorAttack', 'PhysActivity', 'Fruits', 'Veggies', 'HvyAlcoholConsump', 'AnyHealthcare', 'NoDocbcCost', 'DiffWalk', 'Sex', 'BMI', 'GenHlth', 'MentHlth', 'PhysHlth', 'Age', 'Education', 'Income']\n"
     ]
    },
    {
     "name": "stderr",
     "output_type": "stream",
     "text": [
      "                                                                                \r"
     ]
    },
    {
     "name": "stdout",
     "output_type": "stream",
     "text": [
      "(248158, 22)\n"
     ]
    }
   ],
   "source": [
    "df = df_1.join(df_2,['Unnamed: 0'],how='inner')\n",
    "df = df.drop('Unnamed: 0')\n",
    "print(df.columns)\n",
    "print((df.count(), len(df.columns)))"
   ]
  },
  {
   "cell_type": "markdown",
   "id": "ae68bad8",
   "metadata": {},
   "source": [
    "## Overview of df"
   ]
  },
  {
   "cell_type": "code",
   "execution_count": 15,
   "id": "698da8bf",
   "metadata": {},
   "outputs": [
    {
     "name": "stderr",
     "output_type": "stream",
     "text": [
      "                                                                                \r"
     ]
    },
    {
     "name": "stdout",
     "output_type": "stream",
     "text": [
      "+-------+------------------+-------------------+------------------+-------------------+-------------------+\n",
      "|summary|          Diabetes|             HighBP|          HighChol|          CholCheck|             Smoker|\n",
      "+-------+------------------+-------------------+------------------+-------------------+-------------------+\n",
      "|  count|            248158|             248158|            248158|             248158|             248158|\n",
      "|   mean|0.1392782017907946| 0.4291540067215242|0.4244312091490099| 0.9626729744759387|0.44328613222221325|\n",
      "| stddev|0.3462372992286103|0.49495639448078005|0.4942573644002231|0.18956229448902903|0.49677412540009785|\n",
      "|    min|                 0|                  0|                 0|                  0|                  0|\n",
      "|    25%|                 0|                0.0|               0.0|                1.0|                0.0|\n",
      "|    50%|                 0|                0.0|               0.0|                1.0|                0.0|\n",
      "|    75%|                 0|                1.0|               1.0|                1.0|                1.0|\n",
      "|    max|                 1|                1.0|               1.0|                1.0|                1.0|\n",
      "+-------+------------------+-------------------+------------------+-------------------+-------------------+\n",
      "\n"
     ]
    },
    {
     "name": "stderr",
     "output_type": "stream",
     "text": [
      "                                                                                \r"
     ]
    },
    {
     "name": "stdout",
     "output_type": "stream",
     "text": [
      "+-------+-------------------+--------------------+------------------+------------------+-------------------+\n",
      "|summary|             Stroke|HeartDiseaseorAttack|      PhysActivity|            Fruits|            Veggies|\n",
      "+-------+-------------------+--------------------+------------------+------------------+-------------------+\n",
      "|  count|             248158|              248158|            248158|            248158|             248158|\n",
      "|   mean|0.04062331256699361| 0.09423431845840151|0.7563084808871767|0.6343297415356346| 0.8113540566896896|\n",
      "| stddev|0.19741635214208297|  0.2921550198705227|0.4293095681723561| 0.481618578599036|0.39122789798836505|\n",
      "|    min|                  0|                   0|                 0|                 0|                  0|\n",
      "|    25%|                0.0|                 0.0|               1.0|               0.0|                1.0|\n",
      "|    50%|                0.0|                 0.0|               1.0|               1.0|                1.0|\n",
      "|    75%|                0.0|                 0.0|               1.0|               1.0|                1.0|\n",
      "|    max|                1.0|                 1.0|               1.0|               1.0|                1.0|\n",
      "+-------+-------------------+--------------------+------------------+------------------+-------------------+\n",
      "\n"
     ]
    },
    {
     "name": "stderr",
     "output_type": "stream",
     "text": [
      "                                                                                \r"
     ]
    },
    {
     "name": "stdout",
     "output_type": "stream",
     "text": [
      "+-------+-------------------+-------------------+-------------------+-------------------+-------------------+\n",
      "|summary|  HvyAlcoholConsump|      AnyHealthcare|        NoDocbcCost|           DiffWalk|                Sex|\n",
      "+-------+-------------------+-------------------+-------------------+-------------------+-------------------+\n",
      "|  count|             248158|             248158|             248158|             248158|             248158|\n",
      "|   mean|0.05627060179401833|  0.951063435391968|0.08416815093609717|0.16834839094447893|0.44038072518314947|\n",
      "| stddev|0.23044399571741836|0.21573586814000487| 0.2776403859843156|0.37417612751071855| 0.4964338175161265|\n",
      "|    min|                  0|                  0|                  0|                  0|                  0|\n",
      "|    25%|                0.0|                1.0|                0.0|                0.0|                0.0|\n",
      "|    50%|                0.0|                1.0|                0.0|                0.0|                0.0|\n",
      "|    75%|                0.0|                1.0|                0.0|                0.0|                1.0|\n",
      "|    max|                1.0|                1.0|                1.0|                1.0|                1.0|\n",
      "+-------+-------------------+-------------------+-------------------+-------------------+-------------------+\n",
      "\n"
     ]
    },
    {
     "name": "stderr",
     "output_type": "stream",
     "text": [
      "                                                                                \r"
     ]
    },
    {
     "name": "stdout",
     "output_type": "stream",
     "text": [
      "+-------+-----------------+------------------+------------------+------------------+-----------------+\n",
      "|summary|              BMI|           GenHlth|          MentHlth|          PhysHlth|              Age|\n",
      "+-------+-----------------+------------------+------------------+------------------+-----------------+\n",
      "|  count|           248158|            248158|            248158|            248158|           248158|\n",
      "|   mean|28.38195020914095|2.5120125081601237|3.1870985420578823|4.2451019108793595|8.033289275381007|\n",
      "| stddev|6.615209367850987| 1.068682456475187|7.4163522619524285| 8.723033003741383|3.053839350782109|\n",
      "|    min|             12.0|               1.0|               0.0|               0.0|              1.0|\n",
      "|    25%|             24.0|               2.0|               0.0|               0.0|              6.0|\n",
      "|    50%|             27.0|               2.0|               0.0|               0.0|              8.0|\n",
      "|    75%|             31.0|               3.0|               2.0|               3.0|             10.0|\n",
      "|    max|             98.0|               5.0|               9.0|               9.0|              9.0|\n",
      "+-------+-----------------+------------------+------------------+------------------+-----------------+\n",
      "\n"
     ]
    },
    {
     "name": "stderr",
     "output_type": "stream",
     "text": [
      "[Stage 49:=============================>                            (1 + 1) / 2]\r"
     ]
    },
    {
     "name": "stdout",
     "output_type": "stream",
     "text": [
      "+-------+------------------+------------------+\n",
      "|summary|         Education|            Income|\n",
      "+-------+------------------+------------------+\n",
      "|  count|            248158|            248158|\n",
      "|   mean| 5.050282481322383| 6.053429669807139|\n",
      "| stddev|0.9857779169349572|2.0711041243215864|\n",
      "|    min|               1.0|               1.0|\n",
      "|    25%|               4.0|               5.0|\n",
      "|    50%|               5.0|               7.0|\n",
      "|    75%|               6.0|               8.0|\n",
      "|    max|               6.0|               8.0|\n",
      "+-------+------------------+------------------+\n",
      "\n"
     ]
    },
    {
     "name": "stderr",
     "output_type": "stream",
     "text": [
      "\r",
      "                                                                                \r"
     ]
    }
   ],
   "source": [
    "cols = df.columns\n",
    "df.select(cols[0:5]).summary().show()\n",
    "df.select(cols[5:10]).summary().show()\n",
    "df.select(cols[10:15]).summary().show()\n",
    "df.select(cols[15:20]).summary().show()\n",
    "df.select(cols[20:22]).summary().show()"
   ]
  },
  {
   "cell_type": "markdown",
   "id": "1b48314d",
   "metadata": {},
   "source": [
    "## Save the resulting data"
   ]
  },
  {
   "cell_type": "code",
   "execution_count": 20,
   "id": "a564dd64",
   "metadata": {},
   "outputs": [
    {
     "name": "stderr",
     "output_type": "stream",
     "text": [
      "                                                                                \r"
     ]
    }
   ],
   "source": [
    "df.write.option(\"header\", True).option(\"sep\", \",\").csv(\"cleaned.csv\")"
   ]
  },
  {
   "cell_type": "code",
   "execution_count": null,
   "id": "e186c922",
   "metadata": {},
   "outputs": [],
   "source": []
  },
  {
   "cell_type": "code",
   "execution_count": null,
   "id": "eae757ab",
   "metadata": {},
   "outputs": [],
   "source": []
  },
  {
   "cell_type": "code",
   "execution_count": null,
   "id": "79f0a8b7",
   "metadata": {},
   "outputs": [],
   "source": [
    "# spark.catalog.clearCache()\n",
    "# import os\n",
    "# os.remove('binary_data.csv')\n",
    "# os.remove('nominal_data.csv')"
   ]
  },
  {
   "cell_type": "code",
   "execution_count": null,
   "id": "cdf43384",
   "metadata": {},
   "outputs": [],
   "source": [
    "# df_1.write.mode('overwrite').csv('binary_data.csv')\n",
    "# df_2.write.mode('overwrite').csv('nominal_data.csv')"
   ]
  },
  {
   "cell_type": "code",
   "execution_count": null,
   "id": "39ad80e4",
   "metadata": {},
   "outputs": [],
   "source": [
    "# output_path = 'binary_data.csv'\n",
    "\n",
    "# df_1.write.csv(path=output_path, mode='overwrite', header=True)"
   ]
  }
 ],
 "metadata": {
  "kernelspec": {
   "display_name": "Python 3 (ipykernel)",
   "language": "python",
   "name": "python3"
  },
  "language_info": {
   "codemirror_mode": {
    "name": "ipython",
    "version": 3
   },
   "file_extension": ".py",
   "mimetype": "text/x-python",
   "name": "python",
   "nbconvert_exporter": "python",
   "pygments_lexer": "ipython3",
   "version": "3.10.12"
  }
 },
 "nbformat": 4,
 "nbformat_minor": 5
}
